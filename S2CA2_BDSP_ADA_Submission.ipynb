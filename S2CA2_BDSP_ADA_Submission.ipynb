{
 "cells": [
  {
   "cell_type": "markdown",
   "id": "4c783ca9",
   "metadata": {},
   "source": [
    "# S2CA2 BDSP_ADA : Tweet Sentiment Analysis processed using Big Data Processing & Time-Series Forecasting for sentiment score."
   ]
  },
  {
   "cell_type": "markdown",
   "id": "4ca3f5a9",
   "metadata": {},
   "source": [
    "## Methodology"
   ]
  },
  {
   "cell_type": "markdown",
   "id": "05ee7b1d",
   "metadata": {},
   "source": [
    "Below is the methodology and steps performed for the purpose of assignment\n",
    "\n",
    "STEP 1 : Load the Dataset in csv format file to Pyspark (installed on Windows local computer) to benefit from performances of big data tech to handle pre-processing operations on Dataset. Pre-processing of data to clean, perform missing value analysis, duplicate analysis before performing sentiment analysis. \n",
    "\n",
    "Step 2 : Sentiment Analysis using VADER, TEXTBLOB, NLTK Classifier with result of  Sentiment Score & Label Generation.\n",
    "\n",
    "Step 3 : Storing of dataset with sentiment score & Label to MongoDB and MySQL for DB performance task , retrieval for Data Visualization & Forecasting.\n",
    "\n",
    "Step 4 : Interactive Dashboard of Sentiment Analysis of dataset to understand the data using Dash/Plotly. \n",
    "\n",
    "Step 5 : Different Interpolation techniques to generate missing dates in the data set before Forecasting applied & compared for performance. \n",
    "\n",
    "Step 6: Time-Series forecasting to predict 1 week, 1 Month and 3 Month sentiment score using ARIMA / SARIMAX / VARMAX / Exponetial Smoothing and Compartive results based on outcome. \n",
    "\n",
    "Step 7: Conclusions included in the report.\n"
   ]
  },
  {
   "cell_type": "markdown",
   "id": "cab5abe9",
   "metadata": {},
   "source": [
    "## STEP1 : Loading the Dataset in CSV file to Pyspark and Pre-processing of Dataset "
   ]
  },
  {
   "cell_type": "markdown",
   "id": "c9a4447a",
   "metadata": {},
   "source": [
    "### 1.1 Library Import as required"
   ]
  },
  {
   "cell_type": "code",
   "execution_count": 189,
   "id": "0fa67866",
   "metadata": {},
   "outputs": [],
   "source": [
    "#Import of Libraries required for the program\n",
    "from pyspark.sql import SparkSession\n",
    "from pyspark import SparkConf\n",
    "from pyspark.sql import DataFrame\n",
    "from pyspark.sql.types import StructType, StructField, StringType, FloatType\n",
    "from pymongo import MongoClient\n",
    "import pandas as pd\n",
    "import seaborn as sns\n",
    "import matplotlib.pyplot as plt\n",
    "import pyspark.sql.functions as F\n",
    "from wordcloud import WordCloud\n",
    "from pyspark.ml.feature import Tokenizer, IDF, StringIndexer, VectorAssembler\n",
    "# from pyspark.ml.feature import IDF\n",
    "# from pyspark.ml.feature import StringIndexer\n",
    "# from pyspark.ml.feature import VectorAssembler\n",
    "from pyspark.sql.functions import when\n",
    "from nltk.sentiment.vader import SentimentIntensityAnalyzer\n",
    "import plotly.express as px\n",
    "from textblob import TextBlob\n",
    "import numpy as np\n",
    "from nltk.classify import NaiveBayesClassifier\n",
    "from nltk.corpus import subjectivity\n",
    "from nltk.sentiment import SentimentAnalyzer\n",
    "from nltk.sentiment.util import *\n",
    "from nltk.tokenize import word_tokenize\n",
    "import warnings\n",
    "from statsmodels.tsa.arima.model import ARIMA\n",
    "from statsmodels.tsa.holtwinters import ExponentialSmoothing\n",
    "from statsmodels.tools.sm_exceptions import ConvergenceWarning\n",
    "from statsmodels.tsa.statespace.varmax import VARMAX\n",
    "from statsmodels.tsa.statespace.sarimax import SARIMAX\n",
    "from sklearn.metrics import mean_squared_error\n",
    "import itertools\n",
    "from sklearn.model_selection import TimeSeriesSplit\n",
    "# Ignore the ConvergenceWarnings specifically\n",
    "warnings.simplefilter('ignore', ConvergenceWarning)\n",
    "from statsmodels.tools.sm_exceptions import EstimationWarning\n",
    "# Suppress EstimationWarning\n",
    "warnings.simplefilter('ignore', EstimationWarning)\n",
    "import dash\n",
    "from dash import dcc, html\n",
    "from dash.dependencies import Input, Output\n",
    "import plotly.graph_objs as go\n",
    "from plotly.subplots import make_subplots\n",
    "from jupyter_dash import JupyterDash\n",
    "from sklearn.metrics import mean_absolute_error, mean_squared_error\n",
    "from math import sqrt"
   ]
  },
  {
   "cell_type": "code",
   "execution_count": 61,
   "id": "71f32575",
   "metadata": {},
   "outputs": [],
   "source": [
    "# Ignore all warnings\n",
    "warnings.filterwarnings('ignore')\n"
   ]
  },
  {
   "cell_type": "markdown",
   "id": "56c93e58",
   "metadata": {},
   "source": [
    "### 1.2 Loading of Dataset to Pyspark"
   ]
  },
  {
   "cell_type": "code",
   "execution_count": 68,
   "id": "186048cf",
   "metadata": {},
   "outputs": [],
   "source": [
    "# configure system requirement to run pyspark for driver and executor\n",
    "conf = SparkConf().set(\"spark.driver.memory\", \"8g\") \\\n",
    "                   .set(\"spark.executor.memory\", \"8g\")"
   ]
  },
  {
   "cell_type": "code",
   "execution_count": 69,
   "id": "bc2f0c9d",
   "metadata": {},
   "outputs": [],
   "source": [
    "# create a pyspark session\n",
    "spark = SparkSession.builder \\\n",
    "    .appName(\"CA2S2 BDSP ADA\") \\\n",
    "    .getOrCreate()\n"
   ]
  },
  {
   "cell_type": "code",
   "execution_count": 70,
   "id": "c7519993",
   "metadata": {},
   "outputs": [],
   "source": [
    "# Load the CSV file into a DataFrame\n",
    "file_path = \"ProjectTweets.csv\"\n",
    "df = spark.read.csv(file_path, header=False, inferSchema=True)"
   ]
  },
  {
   "cell_type": "code",
   "execution_count": 71,
   "id": "c9efe1c4",
   "metadata": {},
   "outputs": [
    {
     "name": "stdout",
     "output_type": "stream",
     "text": [
      "+---+----------+--------------------+--------+---------------+--------------------+\n",
      "|_c0|       _c1|                 _c2|     _c3|            _c4|                 _c5|\n",
      "+---+----------+--------------------+--------+---------------+--------------------+\n",
      "|  0|1467810369|Mon Apr 06 22:19:...|NO_QUERY|_TheSpecialOne_|@switchfoot http:...|\n",
      "|  1|1467810672|Mon Apr 06 22:19:...|NO_QUERY|  scotthamilton|is upset that he ...|\n",
      "|  2|1467810917|Mon Apr 06 22:19:...|NO_QUERY|       mattycus|@Kenichan I dived...|\n",
      "|  3|1467811184|Mon Apr 06 22:19:...|NO_QUERY|        ElleCTF|my whole body fee...|\n",
      "|  4|1467811193|Mon Apr 06 22:19:...|NO_QUERY|         Karoli|@nationwideclass ...|\n",
      "|  5|1467811372|Mon Apr 06 22:20:...|NO_QUERY|       joy_wolf|@Kwesidei not the...|\n",
      "|  6|1467811592|Mon Apr 06 22:20:...|NO_QUERY|        mybirch|         Need a hug |\n",
      "|  7|1467811594|Mon Apr 06 22:20:...|NO_QUERY|           coZZ|@LOLTrish hey  lo...|\n",
      "|  8|1467811795|Mon Apr 06 22:20:...|NO_QUERY|2Hood4Hollywood|@Tatiana_K nope t...|\n",
      "|  9|1467812025|Mon Apr 06 22:20:...|NO_QUERY|        mimismo|@twittera que me ...|\n",
      "| 10|1467812416|Mon Apr 06 22:20:...|NO_QUERY| erinx3leannexo|spring break in p...|\n",
      "| 11|1467812579|Mon Apr 06 22:20:...|NO_QUERY|   pardonlauren|I just re-pierced...|\n",
      "| 12|1467812723|Mon Apr 06 22:20:...|NO_QUERY|           TLeC|@caregiving I cou...|\n",
      "| 13|1467812771|Mon Apr 06 22:20:...|NO_QUERY|robrobbierobert|@octolinz16 It it...|\n",
      "| 14|1467812784|Mon Apr 06 22:20:...|NO_QUERY|    bayofwolves|@smarrison i woul...|\n",
      "| 15|1467812799|Mon Apr 06 22:20:...|NO_QUERY|     HairByJess|@iamjazzyfizzle I...|\n",
      "| 16|1467812964|Mon Apr 06 22:20:...|NO_QUERY| lovesongwriter|Hollis' death sce...|\n",
      "| 17|1467813137|Mon Apr 06 22:20:...|NO_QUERY|       armotley|about to file taxes |\n",
      "| 18|1467813579|Mon Apr 06 22:20:...|NO_QUERY|     starkissed|@LettyA ahh ive a...|\n",
      "| 19|1467813782|Mon Apr 06 22:20:...|NO_QUERY|      gi_gi_bee|@FakerPattyPattz ...|\n",
      "+---+----------+--------------------+--------+---------------+--------------------+\n",
      "only showing top 20 rows\n",
      "\n"
     ]
    }
   ],
   "source": [
    "df.show()"
   ]
  },
  {
   "cell_type": "code",
   "execution_count": 72,
   "id": "daefdb81",
   "metadata": {},
   "outputs": [],
   "source": [
    "# Drop the first column (index column)\n",
    "df = df.drop(\"_c0\", \"_c3\",)"
   ]
  },
  {
   "cell_type": "code",
   "execution_count": 73,
   "id": "d6fe7387",
   "metadata": {},
   "outputs": [],
   "source": [
    "# Add column names\n",
    "df = df.withColumnRenamed(\"_c1\", \"ids\") \\\n",
    "    .withColumnRenamed(\"_c2\", \"date\") \\\n",
    "    .withColumnRenamed(\"_c4\", \"username\") \\\n",
    "    .withColumnRenamed(\"_c5\", \"text\")\n"
   ]
  },
  {
   "cell_type": "code",
   "execution_count": 74,
   "id": "e1be16eb",
   "metadata": {
    "scrolled": false
   },
   "outputs": [
    {
     "name": "stdout",
     "output_type": "stream",
     "text": [
      "+-------+--------------------+--------------------+--------------------+--------------------+\n",
      "|summary|                 ids|                date|            username|                text|\n",
      "+-------+--------------------+--------------------+--------------------+--------------------+\n",
      "|  count|             1600000|             1600000|             1600000|             1600000|\n",
      "|   mean|1.9988175522956276E9|                null| 4.325887521835714E9|                null|\n",
      "| stddev|1.9357607362267742E8|                null|5.162733218454887...|                null|\n",
      "|    min|          1467810369|Fri Apr 17 20:30:...|        000catnap000|                 ...|\n",
      "|    max|          2329205794|Wed May 27 07:27:...|          zzzzeus111|ï¿½ï¿½ï¿½ï¿½ï¿½ß§...|\n",
      "+-------+--------------------+--------------------+--------------------+--------------------+\n",
      "\n"
     ]
    }
   ],
   "source": [
    "#describe dataset to understand data\n",
    "df.describe().show()"
   ]
  },
  {
   "cell_type": "markdown",
   "id": "f1757b5b",
   "metadata": {},
   "source": [
    "### 1.3 Pre-processing of Data"
   ]
  },
  {
   "cell_type": "code",
   "execution_count": 75,
   "id": "745e06b4",
   "metadata": {
    "scrolled": true
   },
   "outputs": [
    {
     "data": {
      "text/plain": [
       "DataFrame[ids: bigint, date: string, username: string, text: string]"
      ]
     },
     "execution_count": 75,
     "metadata": {},
     "output_type": "execute_result"
    }
   ],
   "source": [
    "# drop missing data observations using pyspark library\n",
    "df.dropna()"
   ]
  },
  {
   "cell_type": "code",
   "execution_count": 76,
   "id": "e1a57c44",
   "metadata": {
    "scrolled": true
   },
   "outputs": [
    {
     "data": {
      "text/plain": [
       "DataFrame[ids: bigint, date: string, username: string, text: string]"
      ]
     },
     "execution_count": 76,
     "metadata": {},
     "output_type": "execute_result"
    }
   ],
   "source": [
    "#drop duplicate observations bsaed on tweet Id using pyspark libary\n",
    "df.dropDuplicates(subset=[\"ids\"])"
   ]
  },
  {
   "cell_type": "code",
   "execution_count": 77,
   "id": "48dbb065",
   "metadata": {
    "scrolled": true
   },
   "outputs": [
    {
     "name": "stdout",
     "output_type": "stream",
     "text": [
      "+-------+--------------------+--------------------+--------------------+--------------------+\n",
      "|summary|                 ids|                date|            username|                text|\n",
      "+-------+--------------------+--------------------+--------------------+--------------------+\n",
      "|  count|             1600000|             1600000|             1600000|             1600000|\n",
      "|   mean|1.9988175522956276E9|                null| 4.325887521835714E9|                null|\n",
      "| stddev|1.9357607362267742E8|                null|5.162733218454887...|                null|\n",
      "|    min|          1467810369|Fri Apr 17 20:30:...|        000catnap000|                 ...|\n",
      "|    max|          2329205794|Wed May 27 07:27:...|          zzzzeus111|ï¿½ï¿½ï¿½ï¿½ï¿½ß§...|\n",
      "+-------+--------------------+--------------------+--------------------+--------------------+\n",
      "\n"
     ]
    }
   ],
   "source": [
    "# describe the dataset using pyspark library\n",
    "df.describe().show()"
   ]
  },
  {
   "cell_type": "markdown",
   "id": "b30d4adf",
   "metadata": {},
   "source": [
    "##  Step 2 : Sentiment Analysis of tweets"
   ]
  },
  {
   "cell_type": "markdown",
   "id": "40bd098e",
   "metadata": {},
   "source": [
    "###  NOTE: Code to perform Vader sentiment Analysis using Pyspark Libraries "
   ]
  },
  {
   "cell_type": "code",
   "execution_count": 22,
   "id": "fd03b648",
   "metadata": {},
   "outputs": [],
   "source": [
    "\n",
    "# from pyspark.sql.functions import col, udf\n",
    "# from pyspark.sql.types import FloatType\n",
    "# from nltk.sentiment.vader import SentimentIntensityAnalyzer\n",
    "\n",
    "# # Define a UDF for VADER sentiment analysis\n",
    "# def analyze_sentiment_vader(text):\n",
    "#     sentiment = analyzer.polarity_scores(text)\n",
    "#     return sentiment['compound']\n",
    "\n",
    "# # Register the UDF\n",
    "# analyze_sentiment_vader_udf = udf(analyze_sentiment_vader, FloatType())\n",
    "\n",
    "# # Apply VADER sentiment analysis and create a new column 'vader_sentiment'\n",
    "# df_vader = df.withColumn('vader_sentiment', analyze_sentiment_vader_udf(df['text']))\n",
    "\n",
    "\n",
    "# Py4JJavaError: An error occurred while calling o86.showString.\n",
    "# : org.apache.spark.SparkException: Job aborted due to stage failure: Task 0 in stage 12.0 failed 1 times, most recent failure:\n",
    "#                 Lost task 0.0 in stage 12.0 (TID 85) (sureshk2-z01 executor driver): org.apache.spark.SparkException: \n",
    "#                         Python worker failed to connect back"
   ]
  },
  {
   "cell_type": "markdown",
   "id": "e72ce5c0",
   "metadata": {},
   "source": [
    " NOte: Pyspark code executes for Vader sentiment analysis but crashes after vader sentiment analysis is run. Error captured in above cell which could not be solved because of limited resources on personal computer & Java interactions. Converted dataframe to Pandas to perform Vader sentiment Analysis"
   ]
  },
  {
   "cell_type": "code",
   "execution_count": 78,
   "id": "dc1d28b1",
   "metadata": {},
   "outputs": [],
   "source": [
    "#pyspark dataframe conversted to Pandas Dataframe\n",
    "pandas_df = df.toPandas()\n"
   ]
  },
  {
   "cell_type": "code",
   "execution_count": 79,
   "id": "bd59f35a",
   "metadata": {
    "scrolled": false
   },
   "outputs": [
    {
     "data": {
      "text/html": [
       "<div>\n",
       "<style scoped>\n",
       "    .dataframe tbody tr th:only-of-type {\n",
       "        vertical-align: middle;\n",
       "    }\n",
       "\n",
       "    .dataframe tbody tr th {\n",
       "        vertical-align: top;\n",
       "    }\n",
       "\n",
       "    .dataframe thead th {\n",
       "        text-align: right;\n",
       "    }\n",
       "</style>\n",
       "<table border=\"1\" class=\"dataframe\">\n",
       "  <thead>\n",
       "    <tr style=\"text-align: right;\">\n",
       "      <th></th>\n",
       "      <th>ids</th>\n",
       "      <th>date</th>\n",
       "      <th>username</th>\n",
       "      <th>text</th>\n",
       "    </tr>\n",
       "  </thead>\n",
       "  <tbody>\n",
       "    <tr>\n",
       "      <th>0</th>\n",
       "      <td>1467810369</td>\n",
       "      <td>Mon Apr 06 22:19:45 PDT 2009</td>\n",
       "      <td>_TheSpecialOne_</td>\n",
       "      <td>@switchfoot http://twitpic.com/2y1zl - Awww, t...</td>\n",
       "    </tr>\n",
       "    <tr>\n",
       "      <th>1</th>\n",
       "      <td>1467810672</td>\n",
       "      <td>Mon Apr 06 22:19:49 PDT 2009</td>\n",
       "      <td>scotthamilton</td>\n",
       "      <td>is upset that he can't update his Facebook by ...</td>\n",
       "    </tr>\n",
       "    <tr>\n",
       "      <th>2</th>\n",
       "      <td>1467810917</td>\n",
       "      <td>Mon Apr 06 22:19:53 PDT 2009</td>\n",
       "      <td>mattycus</td>\n",
       "      <td>@Kenichan I dived many times for the ball. Man...</td>\n",
       "    </tr>\n",
       "    <tr>\n",
       "      <th>3</th>\n",
       "      <td>1467811184</td>\n",
       "      <td>Mon Apr 06 22:19:57 PDT 2009</td>\n",
       "      <td>ElleCTF</td>\n",
       "      <td>my whole body feels itchy and like its on fire</td>\n",
       "    </tr>\n",
       "    <tr>\n",
       "      <th>4</th>\n",
       "      <td>1467811193</td>\n",
       "      <td>Mon Apr 06 22:19:57 PDT 2009</td>\n",
       "      <td>Karoli</td>\n",
       "      <td>@nationwideclass no, it's not behaving at all....</td>\n",
       "    </tr>\n",
       "  </tbody>\n",
       "</table>\n",
       "</div>"
      ],
      "text/plain": [
       "          ids                          date         username  \\\n",
       "0  1467810369  Mon Apr 06 22:19:45 PDT 2009  _TheSpecialOne_   \n",
       "1  1467810672  Mon Apr 06 22:19:49 PDT 2009    scotthamilton   \n",
       "2  1467810917  Mon Apr 06 22:19:53 PDT 2009         mattycus   \n",
       "3  1467811184  Mon Apr 06 22:19:57 PDT 2009          ElleCTF   \n",
       "4  1467811193  Mon Apr 06 22:19:57 PDT 2009           Karoli   \n",
       "\n",
       "                                                text  \n",
       "0  @switchfoot http://twitpic.com/2y1zl - Awww, t...  \n",
       "1  is upset that he can't update his Facebook by ...  \n",
       "2  @Kenichan I dived many times for the ball. Man...  \n",
       "3    my whole body feels itchy and like its on fire   \n",
       "4  @nationwideclass no, it's not behaving at all....  "
      ]
     },
     "execution_count": 79,
     "metadata": {},
     "output_type": "execute_result"
    }
   ],
   "source": [
    "pandas_df.head(5)"
   ]
  },
  {
   "cell_type": "code",
   "execution_count": 80,
   "id": "22ed6586",
   "metadata": {},
   "outputs": [
    {
     "name": "stdout",
     "output_type": "stream",
     "text": [
      "<class 'pandas.core.frame.DataFrame'>\n",
      "RangeIndex: 1600000 entries, 0 to 1599999\n",
      "Data columns (total 4 columns):\n",
      " #   Column    Non-Null Count    Dtype \n",
      "---  ------    --------------    ----- \n",
      " 0   ids       1600000 non-null  int64 \n",
      " 1   date      1600000 non-null  object\n",
      " 2   username  1600000 non-null  object\n",
      " 3   text      1600000 non-null  object\n",
      "dtypes: int64(1), object(3)\n",
      "memory usage: 48.8+ MB\n"
     ]
    }
   ],
   "source": [
    "pandas_df.info()"
   ]
  },
  {
   "cell_type": "code",
   "execution_count": 81,
   "id": "375ef51c",
   "metadata": {
    "scrolled": true
   },
   "outputs": [],
   "source": [
    "pandas_df[\"date\"] = pd.to_datetime(pandas_df[\"date\"])"
   ]
  },
  {
   "cell_type": "code",
   "execution_count": 82,
   "id": "6ada676b",
   "metadata": {
    "scrolled": false
   },
   "outputs": [
    {
     "data": {
      "text/html": [
       "<div>\n",
       "<style scoped>\n",
       "    .dataframe tbody tr th:only-of-type {\n",
       "        vertical-align: middle;\n",
       "    }\n",
       "\n",
       "    .dataframe tbody tr th {\n",
       "        vertical-align: top;\n",
       "    }\n",
       "\n",
       "    .dataframe thead th {\n",
       "        text-align: right;\n",
       "    }\n",
       "</style>\n",
       "<table border=\"1\" class=\"dataframe\">\n",
       "  <thead>\n",
       "    <tr style=\"text-align: right;\">\n",
       "      <th></th>\n",
       "      <th>ids</th>\n",
       "      <th>date</th>\n",
       "      <th>username</th>\n",
       "      <th>text</th>\n",
       "    </tr>\n",
       "  </thead>\n",
       "  <tbody>\n",
       "    <tr>\n",
       "      <th>0</th>\n",
       "      <td>1467810369</td>\n",
       "      <td>2009-04-06 22:19:45</td>\n",
       "      <td>_TheSpecialOne_</td>\n",
       "      <td>@switchfoot http://twitpic.com/2y1zl - Awww, t...</td>\n",
       "    </tr>\n",
       "    <tr>\n",
       "      <th>1</th>\n",
       "      <td>1467810672</td>\n",
       "      <td>2009-04-06 22:19:49</td>\n",
       "      <td>scotthamilton</td>\n",
       "      <td>is upset that he can't update his Facebook by ...</td>\n",
       "    </tr>\n",
       "    <tr>\n",
       "      <th>2</th>\n",
       "      <td>1467810917</td>\n",
       "      <td>2009-04-06 22:19:53</td>\n",
       "      <td>mattycus</td>\n",
       "      <td>@Kenichan I dived many times for the ball. Man...</td>\n",
       "    </tr>\n",
       "    <tr>\n",
       "      <th>3</th>\n",
       "      <td>1467811184</td>\n",
       "      <td>2009-04-06 22:19:57</td>\n",
       "      <td>ElleCTF</td>\n",
       "      <td>my whole body feels itchy and like its on fire</td>\n",
       "    </tr>\n",
       "    <tr>\n",
       "      <th>4</th>\n",
       "      <td>1467811193</td>\n",
       "      <td>2009-04-06 22:19:57</td>\n",
       "      <td>Karoli</td>\n",
       "      <td>@nationwideclass no, it's not behaving at all....</td>\n",
       "    </tr>\n",
       "  </tbody>\n",
       "</table>\n",
       "</div>"
      ],
      "text/plain": [
       "          ids                date         username  \\\n",
       "0  1467810369 2009-04-06 22:19:45  _TheSpecialOne_   \n",
       "1  1467810672 2009-04-06 22:19:49    scotthamilton   \n",
       "2  1467810917 2009-04-06 22:19:53         mattycus   \n",
       "3  1467811184 2009-04-06 22:19:57          ElleCTF   \n",
       "4  1467811193 2009-04-06 22:19:57           Karoli   \n",
       "\n",
       "                                                text  \n",
       "0  @switchfoot http://twitpic.com/2y1zl - Awww, t...  \n",
       "1  is upset that he can't update his Facebook by ...  \n",
       "2  @Kenichan I dived many times for the ball. Man...  \n",
       "3    my whole body feels itchy and like its on fire   \n",
       "4  @nationwideclass no, it's not behaving at all....  "
      ]
     },
     "execution_count": 82,
     "metadata": {},
     "output_type": "execute_result"
    }
   ],
   "source": [
    "pandas_df.head(5)"
   ]
  },
  {
   "cell_type": "markdown",
   "id": "72a8cd2f",
   "metadata": {},
   "source": [
    "### 2.1 Peform VADER Sentiment Analysis"
   ]
  },
  {
   "cell_type": "code",
   "execution_count": 83,
   "id": "0b45f6a7",
   "metadata": {},
   "outputs": [],
   "source": [
    "# Initialize VADER sentiment analyzer\n",
    "analyzer = SentimentIntensityAnalyzer()"
   ]
  },
  {
   "cell_type": "code",
   "execution_count": 84,
   "id": "e4b93ec6",
   "metadata": {},
   "outputs": [],
   "source": [
    "# Create a function to clean the text\n",
    "def clean_text(text):\n",
    "    \"\"\"\n",
    "    Clean the text by removing mentions, hashtags, retweets, hyperlinks, and colons.\n",
    "    \n",
    "    Parameters:\n",
    "    text (str): The text to be cleaned.\n",
    "    \n",
    "    Returns:\n",
    "    str: The cleaned text.\n",
    "    \"\"\"\n",
    "    text = re.sub(r'@[A-Za-z0-9]+', '', text)  # Remove mentions by replacing them with blank\n",
    "    text = re.sub(r'#', '', text)  # Remove the '#' symbol by replacing it with blank\n",
    "    text = re.sub(r'RT[\\s]+', '', text)  # Remove retweets by replacing them with blank\n",
    "    text = re.sub(r'https?:\\/\\/\\S+', '', text)  # Remove hyperlinks\n",
    "    text = re.sub(r':', '', text)  # Remove colons\n",
    "    text = text.lower()  # Convert to lowercase\n",
    "    \n",
    "    return text\n",
    "\n",
    "# Function to remove emoji and Unicode from the comment data\n",
    "def remove_emoji(string):\n",
    "    \"\"\"\n",
    "    Remove emoji and Unicode characters from a string.\n",
    "    \n",
    "    Parameters:\n",
    "    string (str): The string to remove emoji and Unicode from.\n",
    "    \n",
    "    Returns:\n",
    "    str: The string without emoji and Unicode characters.\n",
    "    \"\"\"\n",
    "    emoji_pattern = re.compile(\"[\"\n",
    "                               u\"\\U0001F600-\\U0001F64F\"  # emoticons\n",
    "                               u\"\\U0001F300-\\U0001F5FF\"  # symbols & pictographs\n",
    "                               u\"\\U0001F680-\\U0001F6FF\"  # transport & map symbols\n",
    "                               u\"\\U0001F1E0-\\U0001F1FF\"  # flags (iOS)\n",
    "                               u\"\\U00002500-\\U00002BEF\"  # Chinese characters\n",
    "                               u\"\\U00002702-\\U000027B0\"\n",
    "                               u\"\\U00002702-\\U000027B0\"\n",
    "                               u\"\\U000024C2-\\U0001F251\"\n",
    "                               u\"\\U0001f926-\\U0001f937\"\n",
    "                               u\"\\U00010000-\\U0010ffff\"\n",
    "                               u\"\\u2640-\\u2642\"\n",
    "                               u\"\\u2600-\\u2B55\"\n",
    "                               u\"\\u200d\"\n",
    "                               u\"\\u23cf\"\n",
    "                               u\"\\u23e9\"\n",
    "                               u\"\\u231a\"\n",
    "                               u\"\\ufe0f\"  # dingbats\n",
    "                               u\"\\u3030\"\n",
    "                               \"]+\", flags=re.UNICODE)\n",
    "    return emoji_pattern.sub(r'', string)\n"
   ]
  },
  {
   "cell_type": "code",
   "execution_count": 85,
   "id": "9d0f1387",
   "metadata": {},
   "outputs": [],
   "source": [
    "# Define a function for VADER sentiment analysis\n",
    "def analyze_sentiment_vader(text):\n",
    "    sentiment = analyzer.polarity_scores(text)\n",
    "    return sentiment['compound']"
   ]
  },
  {
   "cell_type": "code",
   "execution_count": 86,
   "id": "0e3c53ff",
   "metadata": {},
   "outputs": [],
   "source": [
    "# Clean the text in the 'comment' column of reddit_df\n",
    "pandas_df['text'] = pandas_df['text'].apply(clean_text)"
   ]
  },
  {
   "cell_type": "code",
   "execution_count": 87,
   "id": "29042ee3",
   "metadata": {},
   "outputs": [],
   "source": [
    " # Clean the text in the 'comment' column by removing emoji and Unicode characters\n",
    "pandas_df['text'] = pandas_df['text'].apply(remove_emoji)"
   ]
  },
  {
   "cell_type": "code",
   "execution_count": 88,
   "id": "cdf0579d",
   "metadata": {},
   "outputs": [],
   "source": [
    "# Apply VADER sentiment analysis\n",
    "pandas_df['vader_sentiment'] = pandas_df['text'].apply(analyze_sentiment_vader)"
   ]
  },
  {
   "cell_type": "code",
   "execution_count": 89,
   "id": "f7437146",
   "metadata": {
    "scrolled": true
   },
   "outputs": [
    {
     "data": {
      "text/html": [
       "<div>\n",
       "<style scoped>\n",
       "    .dataframe tbody tr th:only-of-type {\n",
       "        vertical-align: middle;\n",
       "    }\n",
       "\n",
       "    .dataframe tbody tr th {\n",
       "        vertical-align: top;\n",
       "    }\n",
       "\n",
       "    .dataframe thead th {\n",
       "        text-align: right;\n",
       "    }\n",
       "</style>\n",
       "<table border=\"1\" class=\"dataframe\">\n",
       "  <thead>\n",
       "    <tr style=\"text-align: right;\">\n",
       "      <th></th>\n",
       "      <th>ids</th>\n",
       "      <th>date</th>\n",
       "      <th>username</th>\n",
       "      <th>text</th>\n",
       "      <th>vader_sentiment</th>\n",
       "    </tr>\n",
       "  </thead>\n",
       "  <tbody>\n",
       "    <tr>\n",
       "      <th>0</th>\n",
       "      <td>1467810369</td>\n",
       "      <td>2009-04-06 22:19:45</td>\n",
       "      <td>_TheSpecialOne_</td>\n",
       "      <td>- awww, that's a bummer.  you shoulda got da...</td>\n",
       "      <td>-0.2023</td>\n",
       "    </tr>\n",
       "    <tr>\n",
       "      <th>1</th>\n",
       "      <td>1467810672</td>\n",
       "      <td>2009-04-06 22:19:49</td>\n",
       "      <td>scotthamilton</td>\n",
       "      <td>is upset that he can't update his facebook by ...</td>\n",
       "      <td>-0.7500</td>\n",
       "    </tr>\n",
       "    <tr>\n",
       "      <th>2</th>\n",
       "      <td>1467810917</td>\n",
       "      <td>2009-04-06 22:19:53</td>\n",
       "      <td>mattycus</td>\n",
       "      <td>i dived many times for the ball. managed to s...</td>\n",
       "      <td>0.4939</td>\n",
       "    </tr>\n",
       "    <tr>\n",
       "      <th>3</th>\n",
       "      <td>1467811184</td>\n",
       "      <td>2009-04-06 22:19:57</td>\n",
       "      <td>ElleCTF</td>\n",
       "      <td>my whole body feels itchy and like its on fire</td>\n",
       "      <td>-0.2500</td>\n",
       "    </tr>\n",
       "    <tr>\n",
       "      <th>4</th>\n",
       "      <td>1467811193</td>\n",
       "      <td>2009-04-06 22:19:57</td>\n",
       "      <td>Karoli</td>\n",
       "      <td>no, it's not behaving at all. i'm mad. why am...</td>\n",
       "      <td>-0.6597</td>\n",
       "    </tr>\n",
       "    <tr>\n",
       "      <th>5</th>\n",
       "      <td>1467811372</td>\n",
       "      <td>2009-04-06 22:20:00</td>\n",
       "      <td>joy_wolf</td>\n",
       "      <td>not the whole crew</td>\n",
       "      <td>0.0000</td>\n",
       "    </tr>\n",
       "    <tr>\n",
       "      <th>6</th>\n",
       "      <td>1467811592</td>\n",
       "      <td>2009-04-06 22:20:03</td>\n",
       "      <td>mybirch</td>\n",
       "      <td>need a hug</td>\n",
       "      <td>0.4767</td>\n",
       "    </tr>\n",
       "    <tr>\n",
       "      <th>7</th>\n",
       "      <td>1467811594</td>\n",
       "      <td>2009-04-06 22:20:03</td>\n",
       "      <td>coZZ</td>\n",
       "      <td>hey  long time no see! yes.. rains a bit ,onl...</td>\n",
       "      <td>0.6800</td>\n",
       "    </tr>\n",
       "    <tr>\n",
       "      <th>8</th>\n",
       "      <td>1467811795</td>\n",
       "      <td>2009-04-06 22:20:05</td>\n",
       "      <td>2Hood4Hollywood</td>\n",
       "      <td>_k nope they didn't have it</td>\n",
       "      <td>0.0000</td>\n",
       "    </tr>\n",
       "    <tr>\n",
       "      <th>9</th>\n",
       "      <td>1467812025</td>\n",
       "      <td>2009-04-06 22:20:09</td>\n",
       "      <td>mimismo</td>\n",
       "      <td>que me muera ?</td>\n",
       "      <td>0.0000</td>\n",
       "    </tr>\n",
       "    <tr>\n",
       "      <th>10</th>\n",
       "      <td>1467812416</td>\n",
       "      <td>2009-04-06 22:20:16</td>\n",
       "      <td>erinx3leannexo</td>\n",
       "      <td>spring break in plain city... it's snowing</td>\n",
       "      <td>0.0000</td>\n",
       "    </tr>\n",
       "    <tr>\n",
       "      <th>11</th>\n",
       "      <td>1467812579</td>\n",
       "      <td>2009-04-06 22:20:17</td>\n",
       "      <td>pardonlauren</td>\n",
       "      <td>i just re-pierced my ears</td>\n",
       "      <td>0.0000</td>\n",
       "    </tr>\n",
       "    <tr>\n",
       "      <th>12</th>\n",
       "      <td>1467812723</td>\n",
       "      <td>2009-04-06 22:20:19</td>\n",
       "      <td>TLeC</td>\n",
       "      <td>i couldn't bear to watch it.  and i thought t...</td>\n",
       "      <td>-0.5994</td>\n",
       "    </tr>\n",
       "    <tr>\n",
       "      <th>13</th>\n",
       "      <td>1467812771</td>\n",
       "      <td>2009-04-06 22:20:19</td>\n",
       "      <td>robrobbierobert</td>\n",
       "      <td>it it counts, idk why i did either. you never...</td>\n",
       "      <td>-0.1027</td>\n",
       "    </tr>\n",
       "    <tr>\n",
       "      <th>14</th>\n",
       "      <td>1467812784</td>\n",
       "      <td>2009-04-06 22:20:20</td>\n",
       "      <td>bayofwolves</td>\n",
       "      <td>i would've been the first, but i didn't have ...</td>\n",
       "      <td>0.3724</td>\n",
       "    </tr>\n",
       "    <tr>\n",
       "      <th>15</th>\n",
       "      <td>1467812799</td>\n",
       "      <td>2009-04-06 22:20:20</td>\n",
       "      <td>HairByJess</td>\n",
       "      <td>i wish i got to watch it with you!! i miss yo...</td>\n",
       "      <td>0.4545</td>\n",
       "    </tr>\n",
       "    <tr>\n",
       "      <th>16</th>\n",
       "      <td>1467812964</td>\n",
       "      <td>2009-04-06 22:20:22</td>\n",
       "      <td>lovesongwriter</td>\n",
       "      <td>hollis' death scene will hurt me severely to w...</td>\n",
       "      <td>-0.9081</td>\n",
       "    </tr>\n",
       "    <tr>\n",
       "      <th>17</th>\n",
       "      <td>1467813137</td>\n",
       "      <td>2009-04-06 22:20:25</td>\n",
       "      <td>armotley</td>\n",
       "      <td>about to file taxes</td>\n",
       "      <td>0.0000</td>\n",
       "    </tr>\n",
       "    <tr>\n",
       "      <th>18</th>\n",
       "      <td>1467813579</td>\n",
       "      <td>2009-04-06 22:20:31</td>\n",
       "      <td>starkissed</td>\n",
       "      <td>ahh ive always wanted to see rent  love the s...</td>\n",
       "      <td>0.6988</td>\n",
       "    </tr>\n",
       "    <tr>\n",
       "      <th>19</th>\n",
       "      <td>1467813782</td>\n",
       "      <td>2009-04-06 22:20:34</td>\n",
       "      <td>gi_gi_bee</td>\n",
       "      <td>oh dear. were you drinking out of the forgott...</td>\n",
       "      <td>0.1779</td>\n",
       "    </tr>\n",
       "    <tr>\n",
       "      <th>20</th>\n",
       "      <td>1467813985</td>\n",
       "      <td>2009-04-06 22:20:37</td>\n",
       "      <td>quanvu</td>\n",
       "      <td>i was out most of the day so didn't get much ...</td>\n",
       "      <td>0.0000</td>\n",
       "    </tr>\n",
       "    <tr>\n",
       "      <th>21</th>\n",
       "      <td>1467813992</td>\n",
       "      <td>2009-04-06 22:20:38</td>\n",
       "      <td>swinspeedx</td>\n",
       "      <td>one of my friend called me, and asked to meet ...</td>\n",
       "      <td>0.2500</td>\n",
       "    </tr>\n",
       "    <tr>\n",
       "      <th>22</th>\n",
       "      <td>1467814119</td>\n",
       "      <td>2009-04-06 22:20:40</td>\n",
       "      <td>cooliodoc</td>\n",
       "      <td>_barista i baked you a cake but i ated it</td>\n",
       "      <td>0.0000</td>\n",
       "    </tr>\n",
       "    <tr>\n",
       "      <th>23</th>\n",
       "      <td>1467814180</td>\n",
       "      <td>2009-04-06 22:20:40</td>\n",
       "      <td>viJILLante</td>\n",
       "      <td>this week is not going as i had hoped</td>\n",
       "      <td>0.3818</td>\n",
       "    </tr>\n",
       "    <tr>\n",
       "      <th>24</th>\n",
       "      <td>1467814192</td>\n",
       "      <td>2009-04-06 22:20:41</td>\n",
       "      <td>Ljelli3166</td>\n",
       "      <td>blagh class at 8 tomorrow</td>\n",
       "      <td>0.0000</td>\n",
       "    </tr>\n",
       "    <tr>\n",
       "      <th>25</th>\n",
       "      <td>1467814438</td>\n",
       "      <td>2009-04-06 22:20:44</td>\n",
       "      <td>ChicagoCubbie</td>\n",
       "      <td>i hate when i have to call and wake people up</td>\n",
       "      <td>-0.5719</td>\n",
       "    </tr>\n",
       "    <tr>\n",
       "      <th>26</th>\n",
       "      <td>1467814783</td>\n",
       "      <td>2009-04-06 22:20:50</td>\n",
       "      <td>KatieAngell</td>\n",
       "      <td>just going to cry myself to sleep after watchi...</td>\n",
       "      <td>-0.4767</td>\n",
       "    </tr>\n",
       "    <tr>\n",
       "      <th>27</th>\n",
       "      <td>1467814883</td>\n",
       "      <td>2009-04-06 22:20:52</td>\n",
       "      <td>gagoo</td>\n",
       "      <td>im sad now  miss.lilly</td>\n",
       "      <td>-0.4767</td>\n",
       "    </tr>\n",
       "    <tr>\n",
       "      <th>28</th>\n",
       "      <td>1467815199</td>\n",
       "      <td>2009-04-06 22:20:56</td>\n",
       "      <td>abel209</td>\n",
       "      <td>ooooh.... lol  that leslie.... and ok i won't ...</td>\n",
       "      <td>0.7669</td>\n",
       "    </tr>\n",
       "    <tr>\n",
       "      <th>29</th>\n",
       "      <td>1467815753</td>\n",
       "      <td>2009-04-06 22:21:04</td>\n",
       "      <td>BaptisteTheFool</td>\n",
       "      <td>meh... almost lover is the exception... this t...</td>\n",
       "      <td>0.0534</td>\n",
       "    </tr>\n",
       "    <tr>\n",
       "      <th>30</th>\n",
       "      <td>1467815923</td>\n",
       "      <td>2009-04-06 22:21:07</td>\n",
       "      <td>fatkat309</td>\n",
       "      <td>some1 hacked my account on aim  now i have to ...</td>\n",
       "      <td>-0.4019</td>\n",
       "    </tr>\n",
       "    <tr>\n",
       "      <th>31</th>\n",
       "      <td>1467815924</td>\n",
       "      <td>2009-04-06 22:21:07</td>\n",
       "      <td>EmCDL</td>\n",
       "      <td>i want to go to promote gear and groove but u...</td>\n",
       "      <td>-0.2144</td>\n",
       "    </tr>\n",
       "    <tr>\n",
       "      <th>32</th>\n",
       "      <td>1467815988</td>\n",
       "      <td>2009-04-06 22:21:09</td>\n",
       "      <td>merisssa</td>\n",
       "      <td>thought sleeping in was an option tomorrow but...</td>\n",
       "      <td>0.0000</td>\n",
       "    </tr>\n",
       "    <tr>\n",
       "      <th>33</th>\n",
       "      <td>1467816149</td>\n",
       "      <td>2009-04-06 22:21:11</td>\n",
       "      <td>Pbearfox</td>\n",
       "      <td>awe i love you too!!!! 1 am here  i miss you</td>\n",
       "      <td>0.6973</td>\n",
       "    </tr>\n",
       "    <tr>\n",
       "      <th>34</th>\n",
       "      <td>1467816665</td>\n",
       "      <td>2009-04-06 22:21:21</td>\n",
       "      <td>jsoo</td>\n",
       "      <td>i cry my asian eyes to sleep at night</td>\n",
       "      <td>-0.4767</td>\n",
       "    </tr>\n",
       "    <tr>\n",
       "      <th>35</th>\n",
       "      <td>1467816749</td>\n",
       "      <td>2009-04-06 22:21:20</td>\n",
       "      <td>scarletletterm</td>\n",
       "      <td>ok i'm sick and spent an hour sitting in the s...</td>\n",
       "      <td>-0.4939</td>\n",
       "    </tr>\n",
       "    <tr>\n",
       "      <th>36</th>\n",
       "      <td>1467817225</td>\n",
       "      <td>2009-04-06 22:21:27</td>\n",
       "      <td>crosland_12</td>\n",
       "      <td>ill tell ya the story later  not a good day a...</td>\n",
       "      <td>-0.6711</td>\n",
       "    </tr>\n",
       "    <tr>\n",
       "      <th>37</th>\n",
       "      <td>1467817374</td>\n",
       "      <td>2009-04-06 22:21:30</td>\n",
       "      <td>ajaxpro</td>\n",
       "      <td>sorry! bed time came here (gmt+1)</td>\n",
       "      <td>-0.1511</td>\n",
       "    </tr>\n",
       "    <tr>\n",
       "      <th>38</th>\n",
       "      <td>1467817502</td>\n",
       "      <td>2009-04-06 22:21:32</td>\n",
       "      <td>Tmttq86</td>\n",
       "      <td>i don't either. its depressing. i don't think...</td>\n",
       "      <td>0.2411</td>\n",
       "    </tr>\n",
       "    <tr>\n",
       "      <th>39</th>\n",
       "      <td>1467818007</td>\n",
       "      <td>2009-04-06 22:21:39</td>\n",
       "      <td>Anthony_Nguyen</td>\n",
       "      <td>bed. class 8-12. work 12-3. gym 3-5 or 6. then...</td>\n",
       "      <td>-0.1531</td>\n",
       "    </tr>\n",
       "    <tr>\n",
       "      <th>40</th>\n",
       "      <td>1467818020</td>\n",
       "      <td>2009-04-06 22:21:39</td>\n",
       "      <td>itsanimesh</td>\n",
       "      <td>really don't feel like getting up today... but...</td>\n",
       "      <td>-0.1746</td>\n",
       "    </tr>\n",
       "    <tr>\n",
       "      <th>41</th>\n",
       "      <td>1467818481</td>\n",
       "      <td>2009-04-06 22:21:46</td>\n",
       "      <td>lionslamb</td>\n",
       "      <td>he's the reason for the teardrops on my guitar...</td>\n",
       "      <td>0.0000</td>\n",
       "    </tr>\n",
       "    <tr>\n",
       "      <th>42</th>\n",
       "      <td>1467818603</td>\n",
       "      <td>2009-04-06 22:21:49</td>\n",
       "      <td>kennypham</td>\n",
       "      <td>sad, sad, sad. i don't know why but i hate thi...</td>\n",
       "      <td>-0.8609</td>\n",
       "    </tr>\n",
       "    <tr>\n",
       "      <th>43</th>\n",
       "      <td>1467818900</td>\n",
       "      <td>2009-04-06 22:21:53</td>\n",
       "      <td>DdubsShellBell</td>\n",
       "      <td>awww i soo wish i was there to see you finall...</td>\n",
       "      <td>0.2481</td>\n",
       "    </tr>\n",
       "    <tr>\n",
       "      <th>44</th>\n",
       "      <td>1467819022</td>\n",
       "      <td>2009-04-06 22:21:56</td>\n",
       "      <td>hpfangirl94</td>\n",
       "      <td>falling asleep. just heard about that tracy gi...</td>\n",
       "      <td>-0.5719</td>\n",
       "    </tr>\n",
       "    <tr>\n",
       "      <th>45</th>\n",
       "      <td>1467819650</td>\n",
       "      <td>2009-04-06 22:22:05</td>\n",
       "      <td>antzpantz</td>\n",
       "      <td>yay! i'm happy for you with your job! but tha...</td>\n",
       "      <td>0.6290</td>\n",
       "    </tr>\n",
       "    <tr>\n",
       "      <th>46</th>\n",
       "      <td>1467819712</td>\n",
       "      <td>2009-04-06 22:22:06</td>\n",
       "      <td>labrt2004</td>\n",
       "      <td>just checked my user timeline on my blackberry...</td>\n",
       "      <td>0.3612</td>\n",
       "    </tr>\n",
       "    <tr>\n",
       "      <th>47</th>\n",
       "      <td>1467819812</td>\n",
       "      <td>2009-04-06 22:22:07</td>\n",
       "      <td>IrisJumbe</td>\n",
       "      <td>oh man...was ironing 's fave top to wear to a ...</td>\n",
       "      <td>0.5719</td>\n",
       "    </tr>\n",
       "    <tr>\n",
       "      <th>48</th>\n",
       "      <td>1467820206</td>\n",
       "      <td>2009-04-06 22:22:13</td>\n",
       "      <td>peacoats</td>\n",
       "      <td>is strangely sad about lilo and samro breaking...</td>\n",
       "      <td>-0.6486</td>\n",
       "    </tr>\n",
       "    <tr>\n",
       "      <th>49</th>\n",
       "      <td>1467820835</td>\n",
       "      <td>2009-04-06 22:22:25</td>\n",
       "      <td>cyantist</td>\n",
       "      <td>oh! i'm so sorry  i didn't think about that b...</td>\n",
       "      <td>-0.2578</td>\n",
       "    </tr>\n",
       "  </tbody>\n",
       "</table>\n",
       "</div>"
      ],
      "text/plain": [
       "           ids                date         username  \\\n",
       "0   1467810369 2009-04-06 22:19:45  _TheSpecialOne_   \n",
       "1   1467810672 2009-04-06 22:19:49    scotthamilton   \n",
       "2   1467810917 2009-04-06 22:19:53         mattycus   \n",
       "3   1467811184 2009-04-06 22:19:57          ElleCTF   \n",
       "4   1467811193 2009-04-06 22:19:57           Karoli   \n",
       "5   1467811372 2009-04-06 22:20:00         joy_wolf   \n",
       "6   1467811592 2009-04-06 22:20:03          mybirch   \n",
       "7   1467811594 2009-04-06 22:20:03             coZZ   \n",
       "8   1467811795 2009-04-06 22:20:05  2Hood4Hollywood   \n",
       "9   1467812025 2009-04-06 22:20:09          mimismo   \n",
       "10  1467812416 2009-04-06 22:20:16   erinx3leannexo   \n",
       "11  1467812579 2009-04-06 22:20:17     pardonlauren   \n",
       "12  1467812723 2009-04-06 22:20:19             TLeC   \n",
       "13  1467812771 2009-04-06 22:20:19  robrobbierobert   \n",
       "14  1467812784 2009-04-06 22:20:20      bayofwolves   \n",
       "15  1467812799 2009-04-06 22:20:20       HairByJess   \n",
       "16  1467812964 2009-04-06 22:20:22   lovesongwriter   \n",
       "17  1467813137 2009-04-06 22:20:25         armotley   \n",
       "18  1467813579 2009-04-06 22:20:31       starkissed   \n",
       "19  1467813782 2009-04-06 22:20:34        gi_gi_bee   \n",
       "20  1467813985 2009-04-06 22:20:37           quanvu   \n",
       "21  1467813992 2009-04-06 22:20:38       swinspeedx   \n",
       "22  1467814119 2009-04-06 22:20:40        cooliodoc   \n",
       "23  1467814180 2009-04-06 22:20:40       viJILLante   \n",
       "24  1467814192 2009-04-06 22:20:41       Ljelli3166   \n",
       "25  1467814438 2009-04-06 22:20:44    ChicagoCubbie   \n",
       "26  1467814783 2009-04-06 22:20:50      KatieAngell   \n",
       "27  1467814883 2009-04-06 22:20:52            gagoo   \n",
       "28  1467815199 2009-04-06 22:20:56          abel209   \n",
       "29  1467815753 2009-04-06 22:21:04  BaptisteTheFool   \n",
       "30  1467815923 2009-04-06 22:21:07        fatkat309   \n",
       "31  1467815924 2009-04-06 22:21:07            EmCDL   \n",
       "32  1467815988 2009-04-06 22:21:09         merisssa   \n",
       "33  1467816149 2009-04-06 22:21:11         Pbearfox   \n",
       "34  1467816665 2009-04-06 22:21:21             jsoo   \n",
       "35  1467816749 2009-04-06 22:21:20   scarletletterm   \n",
       "36  1467817225 2009-04-06 22:21:27      crosland_12   \n",
       "37  1467817374 2009-04-06 22:21:30          ajaxpro   \n",
       "38  1467817502 2009-04-06 22:21:32          Tmttq86   \n",
       "39  1467818007 2009-04-06 22:21:39   Anthony_Nguyen   \n",
       "40  1467818020 2009-04-06 22:21:39       itsanimesh   \n",
       "41  1467818481 2009-04-06 22:21:46        lionslamb   \n",
       "42  1467818603 2009-04-06 22:21:49        kennypham   \n",
       "43  1467818900 2009-04-06 22:21:53   DdubsShellBell   \n",
       "44  1467819022 2009-04-06 22:21:56      hpfangirl94   \n",
       "45  1467819650 2009-04-06 22:22:05        antzpantz   \n",
       "46  1467819712 2009-04-06 22:22:06        labrt2004   \n",
       "47  1467819812 2009-04-06 22:22:07        IrisJumbe   \n",
       "48  1467820206 2009-04-06 22:22:13         peacoats   \n",
       "49  1467820835 2009-04-06 22:22:25         cyantist   \n",
       "\n",
       "                                                 text  vader_sentiment  \n",
       "0     - awww, that's a bummer.  you shoulda got da...          -0.2023  \n",
       "1   is upset that he can't update his facebook by ...          -0.7500  \n",
       "2    i dived many times for the ball. managed to s...           0.4939  \n",
       "3     my whole body feels itchy and like its on fire           -0.2500  \n",
       "4    no, it's not behaving at all. i'm mad. why am...          -0.6597  \n",
       "5                                 not the whole crew            0.0000  \n",
       "6                                         need a hug            0.4767  \n",
       "7    hey  long time no see! yes.. rains a bit ,onl...           0.6800  \n",
       "8                        _k nope they didn't have it            0.0000  \n",
       "9                                     que me muera ?            0.0000  \n",
       "10        spring break in plain city... it's snowing            0.0000  \n",
       "11                         i just re-pierced my ears            0.0000  \n",
       "12   i couldn't bear to watch it.  and i thought t...          -0.5994  \n",
       "13   it it counts, idk why i did either. you never...          -0.1027  \n",
       "14   i would've been the first, but i didn't have ...           0.3724  \n",
       "15   i wish i got to watch it with you!! i miss yo...           0.4545  \n",
       "16  hollis' death scene will hurt me severely to w...          -0.9081  \n",
       "17                               about to file taxes            0.0000  \n",
       "18   ahh ive always wanted to see rent  love the s...           0.6988  \n",
       "19   oh dear. were you drinking out of the forgott...           0.1779  \n",
       "20   i was out most of the day so didn't get much ...           0.0000  \n",
       "21  one of my friend called me, and asked to meet ...           0.2500  \n",
       "22         _barista i baked you a cake but i ated it            0.0000  \n",
       "23             this week is not going as i had hoped            0.3818  \n",
       "24                         blagh class at 8 tomorrow            0.0000  \n",
       "25     i hate when i have to call and wake people up           -0.5719  \n",
       "26  just going to cry myself to sleep after watchi...          -0.4767  \n",
       "27                             im sad now  miss.lilly          -0.4767  \n",
       "28  ooooh.... lol  that leslie.... and ok i won't ...           0.7669  \n",
       "29  meh... almost lover is the exception... this t...           0.0534  \n",
       "30  some1 hacked my account on aim  now i have to ...          -0.4019  \n",
       "31   i want to go to promote gear and groove but u...          -0.2144  \n",
       "32  thought sleeping in was an option tomorrow but...           0.0000  \n",
       "33       awe i love you too!!!! 1 am here  i miss you           0.6973  \n",
       "34             i cry my asian eyes to sleep at night           -0.4767  \n",
       "35  ok i'm sick and spent an hour sitting in the s...          -0.4939  \n",
       "36   ill tell ya the story later  not a good day a...          -0.6711  \n",
       "37               sorry! bed time came here (gmt+1)             -0.1511  \n",
       "38   i don't either. its depressing. i don't think...           0.2411  \n",
       "39  bed. class 8-12. work 12-3. gym 3-5 or 6. then...          -0.1531  \n",
       "40  really don't feel like getting up today... but...          -0.1746  \n",
       "41  he's the reason for the teardrops on my guitar...           0.0000  \n",
       "42  sad, sad, sad. i don't know why but i hate thi...          -0.8609  \n",
       "43   awww i soo wish i was there to see you finall...           0.2481  \n",
       "44  falling asleep. just heard about that tracy gi...          -0.5719  \n",
       "45   yay! i'm happy for you with your job! but tha...           0.6290  \n",
       "46  just checked my user timeline on my blackberry...           0.3612  \n",
       "47  oh man...was ironing 's fave top to wear to a ...           0.5719  \n",
       "48  is strangely sad about lilo and samro breaking...          -0.6486  \n",
       "49   oh! i'm so sorry  i didn't think about that b...          -0.2578  "
      ]
     },
     "execution_count": 89,
     "metadata": {},
     "output_type": "execute_result"
    }
   ],
   "source": [
    "pandas_df.head(50)"
   ]
  },
  {
   "cell_type": "markdown",
   "id": "1a798ea0",
   "metadata": {},
   "source": [
    "### 2.2 Perform TextBlob Sentiment Analysis"
   ]
  },
  {
   "cell_type": "code",
   "execution_count": 90,
   "id": "1f09f559",
   "metadata": {},
   "outputs": [],
   "source": [
    "# Define a function for TextBlob sentiment analysis\n",
    "def analyze_sentiment_textblob(text):\n",
    "    analysis = TextBlob(text)\n",
    "    return analysis.sentiment.polarity"
   ]
  },
  {
   "cell_type": "code",
   "execution_count": 91,
   "id": "19db8629",
   "metadata": {},
   "outputs": [],
   "source": [
    "# Apply TextBlob sentiment analysis\n",
    "pandas_df['textblob_sentiment'] = pandas_df['text'].apply(analyze_sentiment_textblob)"
   ]
  },
  {
   "cell_type": "code",
   "execution_count": 92,
   "id": "2e6ab8e1",
   "metadata": {},
   "outputs": [],
   "source": [
    "pandas_df['sentiment_label'] = 'Neutral'  # Default value"
   ]
  },
  {
   "cell_type": "code",
   "execution_count": 93,
   "id": "37f011b9",
   "metadata": {},
   "outputs": [],
   "source": [
    "# Apply conditions and update the 'sentiment_label' column\n",
    "pandas_df.loc[pandas_df['vader_sentiment'] > 0.05, 'sentiment_label'] = 'Positive'\n",
    "pandas_df.loc[pandas_df['vader_sentiment'] < -0.05, 'sentiment_label'] = 'Negative'"
   ]
  },
  {
   "cell_type": "code",
   "execution_count": 94,
   "id": "ff5b73c0",
   "metadata": {
    "scrolled": true
   },
   "outputs": [
    {
     "data": {
      "text/html": [
       "<div>\n",
       "<style scoped>\n",
       "    .dataframe tbody tr th:only-of-type {\n",
       "        vertical-align: middle;\n",
       "    }\n",
       "\n",
       "    .dataframe tbody tr th {\n",
       "        vertical-align: top;\n",
       "    }\n",
       "\n",
       "    .dataframe thead th {\n",
       "        text-align: right;\n",
       "    }\n",
       "</style>\n",
       "<table border=\"1\" class=\"dataframe\">\n",
       "  <thead>\n",
       "    <tr style=\"text-align: right;\">\n",
       "      <th></th>\n",
       "      <th>ids</th>\n",
       "      <th>date</th>\n",
       "      <th>username</th>\n",
       "      <th>text</th>\n",
       "      <th>vader_sentiment</th>\n",
       "      <th>textblob_sentiment</th>\n",
       "      <th>sentiment_label</th>\n",
       "    </tr>\n",
       "  </thead>\n",
       "  <tbody>\n",
       "    <tr>\n",
       "      <th>0</th>\n",
       "      <td>1467810369</td>\n",
       "      <td>2009-04-06 22:19:45</td>\n",
       "      <td>_TheSpecialOne_</td>\n",
       "      <td>- awww, that's a bummer.  you shoulda got da...</td>\n",
       "      <td>-0.2023</td>\n",
       "      <td>0.200000</td>\n",
       "      <td>Negative</td>\n",
       "    </tr>\n",
       "    <tr>\n",
       "      <th>1</th>\n",
       "      <td>1467810672</td>\n",
       "      <td>2009-04-06 22:19:49</td>\n",
       "      <td>scotthamilton</td>\n",
       "      <td>is upset that he can't update his facebook by ...</td>\n",
       "      <td>-0.7500</td>\n",
       "      <td>0.000000</td>\n",
       "      <td>Negative</td>\n",
       "    </tr>\n",
       "    <tr>\n",
       "      <th>2</th>\n",
       "      <td>1467810917</td>\n",
       "      <td>2009-04-06 22:19:53</td>\n",
       "      <td>mattycus</td>\n",
       "      <td>i dived many times for the ball. managed to s...</td>\n",
       "      <td>0.4939</td>\n",
       "      <td>0.500000</td>\n",
       "      <td>Positive</td>\n",
       "    </tr>\n",
       "    <tr>\n",
       "      <th>3</th>\n",
       "      <td>1467811184</td>\n",
       "      <td>2009-04-06 22:19:57</td>\n",
       "      <td>ElleCTF</td>\n",
       "      <td>my whole body feels itchy and like its on fire</td>\n",
       "      <td>-0.2500</td>\n",
       "      <td>0.200000</td>\n",
       "      <td>Negative</td>\n",
       "    </tr>\n",
       "    <tr>\n",
       "      <th>4</th>\n",
       "      <td>1467811193</td>\n",
       "      <td>2009-04-06 22:19:57</td>\n",
       "      <td>Karoli</td>\n",
       "      <td>no, it's not behaving at all. i'm mad. why am...</td>\n",
       "      <td>-0.6597</td>\n",
       "      <td>-0.625000</td>\n",
       "      <td>Negative</td>\n",
       "    </tr>\n",
       "    <tr>\n",
       "      <th>5</th>\n",
       "      <td>1467811372</td>\n",
       "      <td>2009-04-06 22:20:00</td>\n",
       "      <td>joy_wolf</td>\n",
       "      <td>not the whole crew</td>\n",
       "      <td>0.0000</td>\n",
       "      <td>0.200000</td>\n",
       "      <td>Neutral</td>\n",
       "    </tr>\n",
       "    <tr>\n",
       "      <th>6</th>\n",
       "      <td>1467811592</td>\n",
       "      <td>2009-04-06 22:20:03</td>\n",
       "      <td>mybirch</td>\n",
       "      <td>need a hug</td>\n",
       "      <td>0.4767</td>\n",
       "      <td>0.000000</td>\n",
       "      <td>Positive</td>\n",
       "    </tr>\n",
       "    <tr>\n",
       "      <th>7</th>\n",
       "      <td>1467811594</td>\n",
       "      <td>2009-04-06 22:20:03</td>\n",
       "      <td>coZZ</td>\n",
       "      <td>hey  long time no see! yes.. rains a bit ,onl...</td>\n",
       "      <td>0.6800</td>\n",
       "      <td>0.270833</td>\n",
       "      <td>Positive</td>\n",
       "    </tr>\n",
       "    <tr>\n",
       "      <th>8</th>\n",
       "      <td>1467811795</td>\n",
       "      <td>2009-04-06 22:20:05</td>\n",
       "      <td>2Hood4Hollywood</td>\n",
       "      <td>_k nope they didn't have it</td>\n",
       "      <td>0.0000</td>\n",
       "      <td>0.000000</td>\n",
       "      <td>Neutral</td>\n",
       "    </tr>\n",
       "    <tr>\n",
       "      <th>9</th>\n",
       "      <td>1467812025</td>\n",
       "      <td>2009-04-06 22:20:09</td>\n",
       "      <td>mimismo</td>\n",
       "      <td>que me muera ?</td>\n",
       "      <td>0.0000</td>\n",
       "      <td>0.000000</td>\n",
       "      <td>Neutral</td>\n",
       "    </tr>\n",
       "  </tbody>\n",
       "</table>\n",
       "</div>"
      ],
      "text/plain": [
       "          ids                date         username  \\\n",
       "0  1467810369 2009-04-06 22:19:45  _TheSpecialOne_   \n",
       "1  1467810672 2009-04-06 22:19:49    scotthamilton   \n",
       "2  1467810917 2009-04-06 22:19:53         mattycus   \n",
       "3  1467811184 2009-04-06 22:19:57          ElleCTF   \n",
       "4  1467811193 2009-04-06 22:19:57           Karoli   \n",
       "5  1467811372 2009-04-06 22:20:00         joy_wolf   \n",
       "6  1467811592 2009-04-06 22:20:03          mybirch   \n",
       "7  1467811594 2009-04-06 22:20:03             coZZ   \n",
       "8  1467811795 2009-04-06 22:20:05  2Hood4Hollywood   \n",
       "9  1467812025 2009-04-06 22:20:09          mimismo   \n",
       "\n",
       "                                                text  vader_sentiment  \\\n",
       "0    - awww, that's a bummer.  you shoulda got da...          -0.2023   \n",
       "1  is upset that he can't update his facebook by ...          -0.7500   \n",
       "2   i dived many times for the ball. managed to s...           0.4939   \n",
       "3    my whole body feels itchy and like its on fire           -0.2500   \n",
       "4   no, it's not behaving at all. i'm mad. why am...          -0.6597   \n",
       "5                                not the whole crew            0.0000   \n",
       "6                                        need a hug            0.4767   \n",
       "7   hey  long time no see! yes.. rains a bit ,onl...           0.6800   \n",
       "8                       _k nope they didn't have it            0.0000   \n",
       "9                                    que me muera ?            0.0000   \n",
       "\n",
       "   textblob_sentiment sentiment_label  \n",
       "0            0.200000        Negative  \n",
       "1            0.000000        Negative  \n",
       "2            0.500000        Positive  \n",
       "3            0.200000        Negative  \n",
       "4           -0.625000        Negative  \n",
       "5            0.200000         Neutral  \n",
       "6            0.000000        Positive  \n",
       "7            0.270833        Positive  \n",
       "8            0.000000         Neutral  \n",
       "9            0.000000         Neutral  "
      ]
     },
     "execution_count": 94,
     "metadata": {},
     "output_type": "execute_result"
    }
   ],
   "source": [
    "pandas_df.head(10)"
   ]
  },
  {
   "cell_type": "markdown",
   "id": "094b2fbe",
   "metadata": {},
   "source": [
    "### 2.3 Perform NLTK Sentiment Analysis using Naive Bayes Classifier"
   ]
  },
  {
   "cell_type": "code",
   "execution_count": 95,
   "id": "c054b1ef",
   "metadata": {},
   "outputs": [],
   "source": [
    "# Define a function for NLTK sentiment analysis using a Naive Bayes classifier\n",
    "def train_nltk_classifier():\n",
    "    # Load the subjectivity dataset\n",
    "    subj_docs = [(sent, 'subj') for sent in subjectivity.sents(categories='subj')]\n",
    "    obj_docs = [(sent, 'obj') for sent in subjectivity.sents(categories='obj')]\n",
    "    train_subj_docs = subj_docs[:80]\n",
    "    test_subj_docs = subj_docs[80:100]\n",
    "    train_obj_docs = obj_docs[:80]\n",
    "    test_obj_docs = obj_docs[80:100]\n",
    "    training_docs = train_subj_docs + train_obj_docs\n",
    "    testing_docs = test_subj_docs + test_obj_docs\n",
    "    sentim_analyzer = SentimentAnalyzer()\n",
    "    all_words_neg = sentim_analyzer.all_words([mark_negation(doc) for doc in training_docs])\n",
    "    unigram_feats = sentim_analyzer.unigram_word_feats(all_words_neg, min_freq=4)\n",
    "    sentim_analyzer.add_feat_extractor(extract_unigram_feats, unigrams=unigram_feats)\n",
    "    training_set = sentim_analyzer.apply_features(training_docs)\n",
    "    test_set = sentim_analyzer.apply_features(testing_docs)\n",
    "    trainer = NaiveBayesClassifier.train\n",
    "    classifier = sentim_analyzer.train(trainer, training_set)\n",
    "    return classifier"
   ]
  },
  {
   "cell_type": "code",
   "execution_count": 96,
   "id": "848d08fc",
   "metadata": {},
   "outputs": [
    {
     "name": "stdout",
     "output_type": "stream",
     "text": [
      "Training classifier\n"
     ]
    }
   ],
   "source": [
    "SentiClassifier = train_nltk_classifier()"
   ]
  },
  {
   "cell_type": "code",
   "execution_count": 97,
   "id": "62a8db1c",
   "metadata": {},
   "outputs": [],
   "source": [
    "def analyze_sentiment_nltk(text):\n",
    "    unigrams = extract_unigram_feats(text.split())\n",
    "    sentiment = SentiClassifier.classify(unigrams)\n",
    "    return sentiment"
   ]
  },
  {
   "cell_type": "code",
   "execution_count": 98,
   "id": "2eda8e1a",
   "metadata": {},
   "outputs": [],
   "source": [
    "def extract_unigram_feats(document_words):\n",
    "    return dict([(word, True) for word in document_words])"
   ]
  },
  {
   "cell_type": "code",
   "execution_count": 99,
   "id": "b6f1d2c9",
   "metadata": {},
   "outputs": [],
   "source": [
    "# Apply NLTK sentiment analysis\n",
    "pandas_df['nltk_sentiment'] = pandas_df['text'].apply(analyze_sentiment_nltk)"
   ]
  },
  {
   "cell_type": "code",
   "execution_count": 100,
   "id": "42d086ed",
   "metadata": {},
   "outputs": [
    {
     "data": {
      "text/html": [
       "<div>\n",
       "<style scoped>\n",
       "    .dataframe tbody tr th:only-of-type {\n",
       "        vertical-align: middle;\n",
       "    }\n",
       "\n",
       "    .dataframe tbody tr th {\n",
       "        vertical-align: top;\n",
       "    }\n",
       "\n",
       "    .dataframe thead th {\n",
       "        text-align: right;\n",
       "    }\n",
       "</style>\n",
       "<table border=\"1\" class=\"dataframe\">\n",
       "  <thead>\n",
       "    <tr style=\"text-align: right;\">\n",
       "      <th></th>\n",
       "      <th>ids</th>\n",
       "      <th>date</th>\n",
       "      <th>username</th>\n",
       "      <th>text</th>\n",
       "      <th>vader_sentiment</th>\n",
       "      <th>textblob_sentiment</th>\n",
       "      <th>sentiment_label</th>\n",
       "      <th>nltk_sentiment</th>\n",
       "    </tr>\n",
       "  </thead>\n",
       "  <tbody>\n",
       "    <tr>\n",
       "      <th>0</th>\n",
       "      <td>1467810369</td>\n",
       "      <td>2009-04-06 22:19:45</td>\n",
       "      <td>_TheSpecialOne_</td>\n",
       "      <td>- awww, that's a bummer.  you shoulda got da...</td>\n",
       "      <td>-0.2023</td>\n",
       "      <td>0.200000</td>\n",
       "      <td>Negative</td>\n",
       "      <td>subj</td>\n",
       "    </tr>\n",
       "    <tr>\n",
       "      <th>1</th>\n",
       "      <td>1467810672</td>\n",
       "      <td>2009-04-06 22:19:49</td>\n",
       "      <td>scotthamilton</td>\n",
       "      <td>is upset that he can't update his facebook by ...</td>\n",
       "      <td>-0.7500</td>\n",
       "      <td>0.000000</td>\n",
       "      <td>Negative</td>\n",
       "      <td>subj</td>\n",
       "    </tr>\n",
       "    <tr>\n",
       "      <th>2</th>\n",
       "      <td>1467810917</td>\n",
       "      <td>2009-04-06 22:19:53</td>\n",
       "      <td>mattycus</td>\n",
       "      <td>i dived many times for the ball. managed to s...</td>\n",
       "      <td>0.4939</td>\n",
       "      <td>0.500000</td>\n",
       "      <td>Positive</td>\n",
       "      <td>subj</td>\n",
       "    </tr>\n",
       "    <tr>\n",
       "      <th>3</th>\n",
       "      <td>1467811184</td>\n",
       "      <td>2009-04-06 22:19:57</td>\n",
       "      <td>ElleCTF</td>\n",
       "      <td>my whole body feels itchy and like its on fire</td>\n",
       "      <td>-0.2500</td>\n",
       "      <td>0.200000</td>\n",
       "      <td>Negative</td>\n",
       "      <td>subj</td>\n",
       "    </tr>\n",
       "    <tr>\n",
       "      <th>4</th>\n",
       "      <td>1467811193</td>\n",
       "      <td>2009-04-06 22:19:57</td>\n",
       "      <td>Karoli</td>\n",
       "      <td>no, it's not behaving at all. i'm mad. why am...</td>\n",
       "      <td>-0.6597</td>\n",
       "      <td>-0.625000</td>\n",
       "      <td>Negative</td>\n",
       "      <td>subj</td>\n",
       "    </tr>\n",
       "    <tr>\n",
       "      <th>5</th>\n",
       "      <td>1467811372</td>\n",
       "      <td>2009-04-06 22:20:00</td>\n",
       "      <td>joy_wolf</td>\n",
       "      <td>not the whole crew</td>\n",
       "      <td>0.0000</td>\n",
       "      <td>0.200000</td>\n",
       "      <td>Neutral</td>\n",
       "      <td>subj</td>\n",
       "    </tr>\n",
       "    <tr>\n",
       "      <th>6</th>\n",
       "      <td>1467811592</td>\n",
       "      <td>2009-04-06 22:20:03</td>\n",
       "      <td>mybirch</td>\n",
       "      <td>need a hug</td>\n",
       "      <td>0.4767</td>\n",
       "      <td>0.000000</td>\n",
       "      <td>Positive</td>\n",
       "      <td>subj</td>\n",
       "    </tr>\n",
       "    <tr>\n",
       "      <th>7</th>\n",
       "      <td>1467811594</td>\n",
       "      <td>2009-04-06 22:20:03</td>\n",
       "      <td>coZZ</td>\n",
       "      <td>hey  long time no see! yes.. rains a bit ,onl...</td>\n",
       "      <td>0.6800</td>\n",
       "      <td>0.270833</td>\n",
       "      <td>Positive</td>\n",
       "      <td>subj</td>\n",
       "    </tr>\n",
       "    <tr>\n",
       "      <th>8</th>\n",
       "      <td>1467811795</td>\n",
       "      <td>2009-04-06 22:20:05</td>\n",
       "      <td>2Hood4Hollywood</td>\n",
       "      <td>_k nope they didn't have it</td>\n",
       "      <td>0.0000</td>\n",
       "      <td>0.000000</td>\n",
       "      <td>Neutral</td>\n",
       "      <td>subj</td>\n",
       "    </tr>\n",
       "    <tr>\n",
       "      <th>9</th>\n",
       "      <td>1467812025</td>\n",
       "      <td>2009-04-06 22:20:09</td>\n",
       "      <td>mimismo</td>\n",
       "      <td>que me muera ?</td>\n",
       "      <td>0.0000</td>\n",
       "      <td>0.000000</td>\n",
       "      <td>Neutral</td>\n",
       "      <td>subj</td>\n",
       "    </tr>\n",
       "  </tbody>\n",
       "</table>\n",
       "</div>"
      ],
      "text/plain": [
       "          ids                date         username  \\\n",
       "0  1467810369 2009-04-06 22:19:45  _TheSpecialOne_   \n",
       "1  1467810672 2009-04-06 22:19:49    scotthamilton   \n",
       "2  1467810917 2009-04-06 22:19:53         mattycus   \n",
       "3  1467811184 2009-04-06 22:19:57          ElleCTF   \n",
       "4  1467811193 2009-04-06 22:19:57           Karoli   \n",
       "5  1467811372 2009-04-06 22:20:00         joy_wolf   \n",
       "6  1467811592 2009-04-06 22:20:03          mybirch   \n",
       "7  1467811594 2009-04-06 22:20:03             coZZ   \n",
       "8  1467811795 2009-04-06 22:20:05  2Hood4Hollywood   \n",
       "9  1467812025 2009-04-06 22:20:09          mimismo   \n",
       "\n",
       "                                                text  vader_sentiment  \\\n",
       "0    - awww, that's a bummer.  you shoulda got da...          -0.2023   \n",
       "1  is upset that he can't update his facebook by ...          -0.7500   \n",
       "2   i dived many times for the ball. managed to s...           0.4939   \n",
       "3    my whole body feels itchy and like its on fire           -0.2500   \n",
       "4   no, it's not behaving at all. i'm mad. why am...          -0.6597   \n",
       "5                                not the whole crew            0.0000   \n",
       "6                                        need a hug            0.4767   \n",
       "7   hey  long time no see! yes.. rains a bit ,onl...           0.6800   \n",
       "8                       _k nope they didn't have it            0.0000   \n",
       "9                                    que me muera ?            0.0000   \n",
       "\n",
       "   textblob_sentiment sentiment_label nltk_sentiment  \n",
       "0            0.200000        Negative           subj  \n",
       "1            0.000000        Negative           subj  \n",
       "2            0.500000        Positive           subj  \n",
       "3            0.200000        Negative           subj  \n",
       "4           -0.625000        Negative           subj  \n",
       "5            0.200000         Neutral           subj  \n",
       "6            0.000000        Positive           subj  \n",
       "7            0.270833        Positive           subj  \n",
       "8            0.000000         Neutral           subj  \n",
       "9            0.000000         Neutral           subj  "
      ]
     },
     "execution_count": 100,
     "metadata": {},
     "output_type": "execute_result"
    }
   ],
   "source": [
    "pandas_df.head(10)"
   ]
  },
  {
   "cell_type": "markdown",
   "id": "63f997fe",
   "metadata": {},
   "source": [
    "### 2.4 Correlation & Sentiment Score for Dataset"
   ]
  },
  {
   "cell_type": "code",
   "execution_count": 101,
   "id": "10d61d04",
   "metadata": {
    "scrolled": true
   },
   "outputs": [
    {
     "name": "stdout",
     "output_type": "stream",
     "text": [
      "Pearson Correlation Coefficient: 0.6029451125866295\n"
     ]
    }
   ],
   "source": [
    "correlation = np.corrcoef(pandas_df['vader_sentiment'], pandas_df['textblob_sentiment'])[0, 1]\n",
    "print(f\"Pearson Correlation Coefficient: {correlation}\")"
   ]
  },
  {
   "cell_type": "markdown",
   "id": "3efb7950",
   "metadata": {},
   "source": [
    "A Pearson correlation coefficient of approximately 0.604 suggests a moderately positive correlation between the Vader and TextBlob sentiment scores in dataset. This indicates that there is a tendency for the two sentiment scores to move together, but it's not a perfect correlation.\n",
    "\n",
    "From manual analysis of sample tweets with results of NLTK subjectivity and objectivity with results of Vader & TextBlob, Vader sentiment analysis looks to provide better results over Textblob sentiment analysis. Vader sentimetn score is considered for rest of analysis."
   ]
  },
  {
   "cell_type": "code",
   "execution_count": 102,
   "id": "25e9f77c",
   "metadata": {},
   "outputs": [],
   "source": [
    "pandas_df = pandas_df.drop(columns=['textblob_sentiment','nltk_sentiment'])"
   ]
  },
  {
   "cell_type": "code",
   "execution_count": 103,
   "id": "4fa90fe1",
   "metadata": {},
   "outputs": [
    {
     "data": {
      "text/html": [
       "<div>\n",
       "<style scoped>\n",
       "    .dataframe tbody tr th:only-of-type {\n",
       "        vertical-align: middle;\n",
       "    }\n",
       "\n",
       "    .dataframe tbody tr th {\n",
       "        vertical-align: top;\n",
       "    }\n",
       "\n",
       "    .dataframe thead th {\n",
       "        text-align: right;\n",
       "    }\n",
       "</style>\n",
       "<table border=\"1\" class=\"dataframe\">\n",
       "  <thead>\n",
       "    <tr style=\"text-align: right;\">\n",
       "      <th></th>\n",
       "      <th>ids</th>\n",
       "      <th>date</th>\n",
       "      <th>username</th>\n",
       "      <th>text</th>\n",
       "      <th>vader_sentiment</th>\n",
       "      <th>sentiment_label</th>\n",
       "    </tr>\n",
       "  </thead>\n",
       "  <tbody>\n",
       "    <tr>\n",
       "      <th>1599990</th>\n",
       "      <td>2193579249</td>\n",
       "      <td>2009-06-16 08:38:59</td>\n",
       "      <td>razzberry5594</td>\n",
       "      <td>wooooo! xbox is back</td>\n",
       "      <td>0.0000</td>\n",
       "      <td>Neutral</td>\n",
       "    </tr>\n",
       "    <tr>\n",
       "      <th>1599991</th>\n",
       "      <td>2193579284</td>\n",
       "      <td>2009-06-16 08:38:59</td>\n",
       "      <td>AgustinaP</td>\n",
       "      <td>mmmm  that sounds absolutely perfect... but ...</td>\n",
       "      <td>-0.6467</td>\n",
       "      <td>Negative</td>\n",
       "    </tr>\n",
       "    <tr>\n",
       "      <th>1599992</th>\n",
       "      <td>2193579434</td>\n",
       "      <td>2009-06-16 08:39:00</td>\n",
       "      <td>sdancingsteph</td>\n",
       "      <td>recovering from the long weekend</td>\n",
       "      <td>0.0000</td>\n",
       "      <td>Neutral</td>\n",
       "    </tr>\n",
       "    <tr>\n",
       "      <th>1599993</th>\n",
       "      <td>2193579477</td>\n",
       "      <td>2009-06-16 08:39:00</td>\n",
       "      <td>ChloeAmisha</td>\n",
       "      <td>_gritboys</td>\n",
       "      <td>0.0000</td>\n",
       "      <td>Neutral</td>\n",
       "    </tr>\n",
       "    <tr>\n",
       "      <th>1599994</th>\n",
       "      <td>2193579489</td>\n",
       "      <td>2009-06-16 08:39:00</td>\n",
       "      <td>EvolveTom</td>\n",
       "      <td>_forster yeah, that does work better than just...</td>\n",
       "      <td>0.7906</td>\n",
       "      <td>Positive</td>\n",
       "    </tr>\n",
       "    <tr>\n",
       "      <th>1599995</th>\n",
       "      <td>2193601966</td>\n",
       "      <td>2009-06-16 08:40:49</td>\n",
       "      <td>AmandaMarie1028</td>\n",
       "      <td>just woke up. having no school is the best fee...</td>\n",
       "      <td>0.5423</td>\n",
       "      <td>Positive</td>\n",
       "    </tr>\n",
       "    <tr>\n",
       "      <th>1599996</th>\n",
       "      <td>2193601969</td>\n",
       "      <td>2009-06-16 08:40:49</td>\n",
       "      <td>TheWDBoards</td>\n",
       "      <td>thewdb.com - very cool to hear old walt interv...</td>\n",
       "      <td>0.4376</td>\n",
       "      <td>Positive</td>\n",
       "    </tr>\n",
       "    <tr>\n",
       "      <th>1599997</th>\n",
       "      <td>2193601991</td>\n",
       "      <td>2009-06-16 08:40:49</td>\n",
       "      <td>bpbabe</td>\n",
       "      <td>are you ready for your mojo makeover? ask me f...</td>\n",
       "      <td>0.3612</td>\n",
       "      <td>Positive</td>\n",
       "    </tr>\n",
       "    <tr>\n",
       "      <th>1599998</th>\n",
       "      <td>2193602064</td>\n",
       "      <td>2009-06-16 08:40:49</td>\n",
       "      <td>tinydiamondz</td>\n",
       "      <td>happy 38th birthday to my boo of alll time!!! ...</td>\n",
       "      <td>0.6784</td>\n",
       "      <td>Positive</td>\n",
       "    </tr>\n",
       "    <tr>\n",
       "      <th>1599999</th>\n",
       "      <td>2193602129</td>\n",
       "      <td>2009-06-16 08:40:50</td>\n",
       "      <td>RyanTrevMorris</td>\n",
       "      <td>happy charitytuesday</td>\n",
       "      <td>0.5719</td>\n",
       "      <td>Positive</td>\n",
       "    </tr>\n",
       "  </tbody>\n",
       "</table>\n",
       "</div>"
      ],
      "text/plain": [
       "                ids                date         username  \\\n",
       "1599990  2193579249 2009-06-16 08:38:59    razzberry5594   \n",
       "1599991  2193579284 2009-06-16 08:38:59        AgustinaP   \n",
       "1599992  2193579434 2009-06-16 08:39:00    sdancingsteph   \n",
       "1599993  2193579477 2009-06-16 08:39:00      ChloeAmisha   \n",
       "1599994  2193579489 2009-06-16 08:39:00        EvolveTom   \n",
       "1599995  2193601966 2009-06-16 08:40:49  AmandaMarie1028   \n",
       "1599996  2193601969 2009-06-16 08:40:49      TheWDBoards   \n",
       "1599997  2193601991 2009-06-16 08:40:49           bpbabe   \n",
       "1599998  2193602064 2009-06-16 08:40:49     tinydiamondz   \n",
       "1599999  2193602129 2009-06-16 08:40:50   RyanTrevMorris   \n",
       "\n",
       "                                                      text  vader_sentiment  \\\n",
       "1599990                              wooooo! xbox is back            0.0000   \n",
       "1599991    mmmm  that sounds absolutely perfect... but ...          -0.6467   \n",
       "1599992                  recovering from the long weekend            0.0000   \n",
       "1599993                                         _gritboys            0.0000   \n",
       "1599994  _forster yeah, that does work better than just...           0.7906   \n",
       "1599995  just woke up. having no school is the best fee...           0.5423   \n",
       "1599996  thewdb.com - very cool to hear old walt interv...           0.4376   \n",
       "1599997  are you ready for your mojo makeover? ask me f...           0.3612   \n",
       "1599998  happy 38th birthday to my boo of alll time!!! ...           0.6784   \n",
       "1599999                           happy charitytuesday               0.5719   \n",
       "\n",
       "        sentiment_label  \n",
       "1599990         Neutral  \n",
       "1599991        Negative  \n",
       "1599992         Neutral  \n",
       "1599993         Neutral  \n",
       "1599994        Positive  \n",
       "1599995        Positive  \n",
       "1599996        Positive  \n",
       "1599997        Positive  \n",
       "1599998        Positive  \n",
       "1599999        Positive  "
      ]
     },
     "execution_count": 103,
     "metadata": {},
     "output_type": "execute_result"
    }
   ],
   "source": [
    "pandas_df.tail(10)"
   ]
  },
  {
   "cell_type": "markdown",
   "id": "bcbdcfb9",
   "metadata": {},
   "source": [
    "## Step 3 : Store the Database to MongoDB & MySQL local instance for Performance Comparison"
   ]
  },
  {
   "cell_type": "markdown",
   "id": "02317427",
   "metadata": {},
   "source": [
    "### 3.1 Store Dataset to MongoDB"
   ]
  },
  {
   "cell_type": "code",
   "execution_count": 104,
   "id": "f6b95046",
   "metadata": {},
   "outputs": [
    {
     "name": "stdout",
     "output_type": "stream",
     "text": [
      "<class 'pandas.core.frame.DataFrame'>\n",
      "RangeIndex: 1600000 entries, 0 to 1599999\n",
      "Data columns (total 6 columns):\n",
      " #   Column           Non-Null Count    Dtype         \n",
      "---  ------           --------------    -----         \n",
      " 0   ids              1600000 non-null  int64         \n",
      " 1   date             1600000 non-null  datetime64[ns]\n",
      " 2   username         1600000 non-null  object        \n",
      " 3   text             1600000 non-null  object        \n",
      " 4   vader_sentiment  1600000 non-null  float64       \n",
      " 5   sentiment_label  1600000 non-null  object        \n",
      "dtypes: datetime64[ns](1), float64(1), int64(1), object(3)\n",
      "memory usage: 73.2+ MB\n"
     ]
    }
   ],
   "source": [
    "pandas_df.info()"
   ]
  },
  {
   "cell_type": "code",
   "execution_count": 105,
   "id": "8519a688",
   "metadata": {},
   "outputs": [],
   "source": [
    "# Step 3: Create a Database and Collection\n",
    "from pymongo import MongoClient"
   ]
  },
  {
   "cell_type": "code",
   "execution_count": 106,
   "id": "f2e23afd",
   "metadata": {},
   "outputs": [],
   "source": [
    "# Connect to MongoDB\n",
    "client = MongoClient(\"mongodb://localhost:27017/\")\n",
    "db = client[\"twitter_db_senti_mongofinal\"]\n"
   ]
  },
  {
   "cell_type": "code",
   "execution_count": 107,
   "id": "e9358ae5",
   "metadata": {},
   "outputs": [],
   "source": [
    "# Convert the Pandas DataFrame to a dictionary\n",
    "data = pandas_df.to_dict(orient='records')"
   ]
  },
  {
   "cell_type": "code",
   "execution_count": 108,
   "id": "aa493d4d",
   "metadata": {},
   "outputs": [],
   "source": [
    "# Insert the data into the MongoDB collection\n",
    "db[\"tweets_senti_mongo\"].insert_many(data)"
   ]
  },
  {
   "cell_type": "markdown",
   "id": "7a1a9201",
   "metadata": {},
   "source": [
    "### 3.2 Store Dataset to MySQL DB"
   ]
  },
  {
   "cell_type": "code",
   "execution_count": 109,
   "id": "7f0e252d",
   "metadata": {},
   "outputs": [],
   "source": [
    "import mysql.connector"
   ]
  },
  {
   "cell_type": "code",
   "execution_count": 110,
   "id": "99d03276",
   "metadata": {},
   "outputs": [],
   "source": [
    "# Connect to Localhost MySQL DB\n",
    "# please update user credentials to run in local host\n",
    "conn = mysql.connector.connect(\n",
    "    host='localhost',\n",
    "    user='suresh',\n",
    "    password='suresh123'\n",
    "    \n",
    ")"
   ]
  },
  {
   "cell_type": "code",
   "execution_count": 111,
   "id": "a22156c4",
   "metadata": {},
   "outputs": [],
   "source": [
    "# Create a database for SentimentAnalysis if not exists\n",
    "create_db_query = \"CREATE DATABASE IF NOT EXISTS tweets_senti_mysql\"\n",
    "cursor = conn.cursor()\n",
    "cursor.execute(create_db_query)"
   ]
  },
  {
   "cell_type": "code",
   "execution_count": 112,
   "id": "497357da",
   "metadata": {},
   "outputs": [],
   "source": [
    "# Switch to the database\n",
    "conn.database = 'tweets_senti_mysql'"
   ]
  },
  {
   "cell_type": "code",
   "execution_count": 113,
   "id": "c91db973",
   "metadata": {},
   "outputs": [],
   "source": [
    "# DROP table if  exists \n",
    "# This is to avoid Inserting Reddit comments multiple times during code validation\n",
    "drop_table_query = \"DROP TABLE IF EXISTS tweetanalysis\"\n",
    "cursor.execute(drop_table_query)"
   ]
  },
  {
   "cell_type": "code",
   "execution_count": 114,
   "id": "0aa43228",
   "metadata": {},
   "outputs": [],
   "source": [
    "# Define the table name\n",
    "table_name = 'tweetanalysis'\n",
    "\n",
    "# Create a table if not exists\n",
    "create_table_query = f'''\n",
    "    CREATE TABLE IF NOT EXISTS {table_name} (\n",
    "        ids INT,\n",
    "        date DATETIME,\n",
    "        text TEXT,\n",
    "        vader_sentiment DOUBLE,\n",
    "        sentiment_label VARCHAR(255)\n",
    "    )\n",
    "'''\n",
    "cursor.execute(create_table_query)"
   ]
  },
  {
   "cell_type": "code",
   "execution_count": 115,
   "id": "c85e9ee5",
   "metadata": {},
   "outputs": [],
   "source": [
    "# Alter the column type\n",
    "alter_query = '''\n",
    "    ALTER TABLE tweetanalysis\n",
    "    MODIFY COLUMN ids BIGINT\n",
    "'''\n",
    "cursor.execute(alter_query)"
   ]
  },
  {
   "cell_type": "code",
   "execution_count": 116,
   "id": "9d1cd66d",
   "metadata": {},
   "outputs": [],
   "source": [
    "# Write DataFrame to MySQL\n",
    "for _, row in pandas_df.iterrows():\n",
    "    insert_query = f'''\n",
    "        INSERT INTO {table_name} (ids, date, text, vader_sentiment, sentiment_label)\n",
    "        VALUES (%s, %s, %s, %s, %s)\n",
    "    '''\n",
    "    cursor.execute(insert_query, (row['ids'], row['date'], row['text'], row['vader_sentiment'], row['sentiment_label']))"
   ]
  },
  {
   "cell_type": "markdown",
   "id": "c0754a51",
   "metadata": {},
   "source": [
    "Output : Check the report for screenshot of local instance of MongoDB and MySQL DB for creation of Databases where they are further used for Performance benchmarking."
   ]
  },
  {
   "cell_type": "markdown",
   "id": "9aacb3f2",
   "metadata": {},
   "source": [
    "## Step 4: Dashboard to visualize the Data of sentiment score trend"
   ]
  },
  {
   "cell_type": "markdown",
   "id": "77e29660",
   "metadata": {},
   "source": [
    "### 4.1 Retrieve dataset from MongoDB DB"
   ]
  },
  {
   "cell_type": "code",
   "execution_count": 123,
   "id": "71f4b96e",
   "metadata": {},
   "outputs": [],
   "source": [
    "#Connect to MongoDB and Retrieve Data:\n",
    "\n",
    "# Connect to your local MongoDB instance\n",
    "client = MongoClient(\"mongodb://localhost:27017/\")\n",
    "db = client[\"twitter_db_senti_mongofinal\"]\n",
    "collection = db[\"tweets_senti_mongo\"]\n",
    "\n",
    "# Fetch data from MongoDB and convert to DataFrame\n",
    "cursor = collection.find()\n",
    "pandas_df = pd.DataFrame(list(cursor))"
   ]
  },
  {
   "cell_type": "code",
   "execution_count": 124,
   "id": "cb7d8489",
   "metadata": {},
   "outputs": [],
   "source": [
    "# Extract the date only from the datetime column\n",
    "pandas_df[\"date\"] = pandas_df[\"date\"].dt.date"
   ]
  },
  {
   "cell_type": "code",
   "execution_count": 125,
   "id": "02dd24e9",
   "metadata": {},
   "outputs": [],
   "source": [
    "# drop the Id coloumn generated by mongoDB DB\n",
    "pandas_df.drop(columns=['_id'], inplace=True)"
   ]
  },
  {
   "cell_type": "code",
   "execution_count": 126,
   "id": "ca91acfb",
   "metadata": {
    "scrolled": true
   },
   "outputs": [
    {
     "data": {
      "text/html": [
       "<div>\n",
       "<style scoped>\n",
       "    .dataframe tbody tr th:only-of-type {\n",
       "        vertical-align: middle;\n",
       "    }\n",
       "\n",
       "    .dataframe tbody tr th {\n",
       "        vertical-align: top;\n",
       "    }\n",
       "\n",
       "    .dataframe thead th {\n",
       "        text-align: right;\n",
       "    }\n",
       "</style>\n",
       "<table border=\"1\" class=\"dataframe\">\n",
       "  <thead>\n",
       "    <tr style=\"text-align: right;\">\n",
       "      <th></th>\n",
       "      <th>ids</th>\n",
       "      <th>date</th>\n",
       "      <th>username</th>\n",
       "      <th>text</th>\n",
       "      <th>vader_sentiment</th>\n",
       "      <th>sentiment_label</th>\n",
       "    </tr>\n",
       "  </thead>\n",
       "  <tbody>\n",
       "    <tr>\n",
       "      <th>0</th>\n",
       "      <td>1467810369</td>\n",
       "      <td>2009-04-06</td>\n",
       "      <td>_TheSpecialOne_</td>\n",
       "      <td>- awww, that's a bummer.  you shoulda got da...</td>\n",
       "      <td>-0.2023</td>\n",
       "      <td>Negative</td>\n",
       "    </tr>\n",
       "    <tr>\n",
       "      <th>1</th>\n",
       "      <td>1467810672</td>\n",
       "      <td>2009-04-06</td>\n",
       "      <td>scotthamilton</td>\n",
       "      <td>is upset that he can't update his facebook by ...</td>\n",
       "      <td>-0.7500</td>\n",
       "      <td>Negative</td>\n",
       "    </tr>\n",
       "    <tr>\n",
       "      <th>2</th>\n",
       "      <td>1467810917</td>\n",
       "      <td>2009-04-06</td>\n",
       "      <td>mattycus</td>\n",
       "      <td>i dived many times for the ball. managed to s...</td>\n",
       "      <td>0.4939</td>\n",
       "      <td>Positive</td>\n",
       "    </tr>\n",
       "    <tr>\n",
       "      <th>3</th>\n",
       "      <td>1467811184</td>\n",
       "      <td>2009-04-06</td>\n",
       "      <td>ElleCTF</td>\n",
       "      <td>my whole body feels itchy and like its on fire</td>\n",
       "      <td>-0.2500</td>\n",
       "      <td>Negative</td>\n",
       "    </tr>\n",
       "    <tr>\n",
       "      <th>4</th>\n",
       "      <td>1467811193</td>\n",
       "      <td>2009-04-06</td>\n",
       "      <td>Karoli</td>\n",
       "      <td>no, it's not behaving at all. i'm mad. why am...</td>\n",
       "      <td>-0.6597</td>\n",
       "      <td>Negative</td>\n",
       "    </tr>\n",
       "    <tr>\n",
       "      <th>5</th>\n",
       "      <td>1467811372</td>\n",
       "      <td>2009-04-06</td>\n",
       "      <td>joy_wolf</td>\n",
       "      <td>not the whole crew</td>\n",
       "      <td>0.0000</td>\n",
       "      <td>Neutral</td>\n",
       "    </tr>\n",
       "    <tr>\n",
       "      <th>6</th>\n",
       "      <td>1467811592</td>\n",
       "      <td>2009-04-06</td>\n",
       "      <td>mybirch</td>\n",
       "      <td>need a hug</td>\n",
       "      <td>0.4767</td>\n",
       "      <td>Positive</td>\n",
       "    </tr>\n",
       "    <tr>\n",
       "      <th>7</th>\n",
       "      <td>1467811594</td>\n",
       "      <td>2009-04-06</td>\n",
       "      <td>coZZ</td>\n",
       "      <td>hey  long time no see! yes.. rains a bit ,onl...</td>\n",
       "      <td>0.6800</td>\n",
       "      <td>Positive</td>\n",
       "    </tr>\n",
       "    <tr>\n",
       "      <th>8</th>\n",
       "      <td>1467811795</td>\n",
       "      <td>2009-04-06</td>\n",
       "      <td>2Hood4Hollywood</td>\n",
       "      <td>_k nope they didn't have it</td>\n",
       "      <td>0.0000</td>\n",
       "      <td>Neutral</td>\n",
       "    </tr>\n",
       "    <tr>\n",
       "      <th>9</th>\n",
       "      <td>1467812025</td>\n",
       "      <td>2009-04-06</td>\n",
       "      <td>mimismo</td>\n",
       "      <td>que me muera ?</td>\n",
       "      <td>0.0000</td>\n",
       "      <td>Neutral</td>\n",
       "    </tr>\n",
       "  </tbody>\n",
       "</table>\n",
       "</div>"
      ],
      "text/plain": [
       "          ids        date         username  \\\n",
       "0  1467810369  2009-04-06  _TheSpecialOne_   \n",
       "1  1467810672  2009-04-06    scotthamilton   \n",
       "2  1467810917  2009-04-06         mattycus   \n",
       "3  1467811184  2009-04-06          ElleCTF   \n",
       "4  1467811193  2009-04-06           Karoli   \n",
       "5  1467811372  2009-04-06         joy_wolf   \n",
       "6  1467811592  2009-04-06          mybirch   \n",
       "7  1467811594  2009-04-06             coZZ   \n",
       "8  1467811795  2009-04-06  2Hood4Hollywood   \n",
       "9  1467812025  2009-04-06          mimismo   \n",
       "\n",
       "                                                text  vader_sentiment  \\\n",
       "0    - awww, that's a bummer.  you shoulda got da...          -0.2023   \n",
       "1  is upset that he can't update his facebook by ...          -0.7500   \n",
       "2   i dived many times for the ball. managed to s...           0.4939   \n",
       "3    my whole body feels itchy and like its on fire           -0.2500   \n",
       "4   no, it's not behaving at all. i'm mad. why am...          -0.6597   \n",
       "5                                not the whole crew            0.0000   \n",
       "6                                        need a hug            0.4767   \n",
       "7   hey  long time no see! yes.. rains a bit ,onl...           0.6800   \n",
       "8                       _k nope they didn't have it            0.0000   \n",
       "9                                    que me muera ?            0.0000   \n",
       "\n",
       "  sentiment_label  \n",
       "0        Negative  \n",
       "1        Negative  \n",
       "2        Positive  \n",
       "3        Negative  \n",
       "4        Negative  \n",
       "5         Neutral  \n",
       "6        Positive  \n",
       "7        Positive  \n",
       "8         Neutral  \n",
       "9         Neutral  "
      ]
     },
     "execution_count": 126,
     "metadata": {},
     "output_type": "execute_result"
    }
   ],
   "source": [
    "pandas_df.head(10)"
   ]
  },
  {
   "cell_type": "code",
   "execution_count": 127,
   "id": "e33966c4",
   "metadata": {
    "scrolled": true
   },
   "outputs": [
    {
     "name": "stdout",
     "output_type": "stream",
     "text": [
      "<class 'pandas.core.frame.DataFrame'>\n",
      "RangeIndex: 1600000 entries, 0 to 1599999\n",
      "Data columns (total 6 columns):\n",
      " #   Column           Non-Null Count    Dtype  \n",
      "---  ------           --------------    -----  \n",
      " 0   ids              1600000 non-null  int64  \n",
      " 1   date             1600000 non-null  object \n",
      " 2   username         1600000 non-null  object \n",
      " 3   text             1600000 non-null  object \n",
      " 4   vader_sentiment  1600000 non-null  float64\n",
      " 5   sentiment_label  1600000 non-null  object \n",
      "dtypes: float64(1), int64(1), object(4)\n",
      "memory usage: 73.2+ MB\n"
     ]
    }
   ],
   "source": [
    "pandas_df.info()"
   ]
  },
  {
   "cell_type": "markdown",
   "id": "254c2f41",
   "metadata": {},
   "source": [
    "### 4.2 Data preparation for Interactive Dashboard - Top Users, Total Tweets per day, Average Sentiment with Classification per day"
   ]
  },
  {
   "cell_type": "code",
   "execution_count": 128,
   "id": "027ca166",
   "metadata": {
    "scrolled": false
   },
   "outputs": [
    {
     "name": "stdout",
     "output_type": "stream",
     "text": [
      "          date sentiment_label  count_tweets  average_sentiment_score\n",
      "0   2009-04-06        Negative           858                -0.444093\n",
      "1   2009-04-06         Neutral           944                 0.000270\n",
      "2   2009-04-06        Positive          1558                 0.549069\n",
      "3   2009-04-07        Negative          4053                -0.438872\n",
      "4   2009-04-07         Neutral          4965                -0.000132\n",
      "..         ...             ...           ...                      ...\n",
      "139 2009-06-24         Neutral          1682                 0.000140\n",
      "140 2009-06-24        Positive          1939                 0.478799\n",
      "141 2009-06-25        Negative          8387                -0.458243\n",
      "142 2009-06-25         Neutral          5279                 0.000288\n",
      "143 2009-06-25        Positive          6028                 0.465839\n",
      "\n",
      "[144 rows x 4 columns]\n"
     ]
    },
    {
     "data": {
      "text/html": [
       "<div>\n",
       "<style scoped>\n",
       "    .dataframe tbody tr th:only-of-type {\n",
       "        vertical-align: middle;\n",
       "    }\n",
       "\n",
       "    .dataframe tbody tr th {\n",
       "        vertical-align: top;\n",
       "    }\n",
       "\n",
       "    .dataframe thead th {\n",
       "        text-align: right;\n",
       "    }\n",
       "</style>\n",
       "<table border=\"1\" class=\"dataframe\">\n",
       "  <thead>\n",
       "    <tr style=\"text-align: right;\">\n",
       "      <th></th>\n",
       "      <th>date</th>\n",
       "      <th>sentiment_label</th>\n",
       "      <th>count_tweets</th>\n",
       "      <th>average_sentiment_score</th>\n",
       "      <th>count_tweets_list</th>\n",
       "    </tr>\n",
       "  </thead>\n",
       "  <tbody>\n",
       "    <tr>\n",
       "      <th>0</th>\n",
       "      <td>2009-04-06</td>\n",
       "      <td>Negative</td>\n",
       "      <td>858</td>\n",
       "      <td>-0.444093</td>\n",
       "      <td>[858]</td>\n",
       "    </tr>\n",
       "    <tr>\n",
       "      <th>1</th>\n",
       "      <td>2009-04-06</td>\n",
       "      <td>Neutral</td>\n",
       "      <td>944</td>\n",
       "      <td>0.000270</td>\n",
       "      <td>[944]</td>\n",
       "    </tr>\n",
       "    <tr>\n",
       "      <th>2</th>\n",
       "      <td>2009-04-06</td>\n",
       "      <td>Positive</td>\n",
       "      <td>1558</td>\n",
       "      <td>0.549069</td>\n",
       "      <td>[1558]</td>\n",
       "    </tr>\n",
       "    <tr>\n",
       "      <th>3</th>\n",
       "      <td>2009-04-07</td>\n",
       "      <td>Negative</td>\n",
       "      <td>4053</td>\n",
       "      <td>-0.438872</td>\n",
       "      <td>[4053]</td>\n",
       "    </tr>\n",
       "    <tr>\n",
       "      <th>4</th>\n",
       "      <td>2009-04-07</td>\n",
       "      <td>Neutral</td>\n",
       "      <td>4965</td>\n",
       "      <td>-0.000132</td>\n",
       "      <td>[4965]</td>\n",
       "    </tr>\n",
       "    <tr>\n",
       "      <th>5</th>\n",
       "      <td>2009-04-07</td>\n",
       "      <td>Positive</td>\n",
       "      <td>8293</td>\n",
       "      <td>0.550918</td>\n",
       "      <td>[8293]</td>\n",
       "    </tr>\n",
       "    <tr>\n",
       "      <th>6</th>\n",
       "      <td>2009-04-17</td>\n",
       "      <td>Negative</td>\n",
       "      <td>680</td>\n",
       "      <td>-0.438673</td>\n",
       "      <td>[680]</td>\n",
       "    </tr>\n",
       "    <tr>\n",
       "      <th>7</th>\n",
       "      <td>2009-04-17</td>\n",
       "      <td>Neutral</td>\n",
       "      <td>823</td>\n",
       "      <td>0.000114</td>\n",
       "      <td>[823]</td>\n",
       "    </tr>\n",
       "    <tr>\n",
       "      <th>8</th>\n",
       "      <td>2009-04-17</td>\n",
       "      <td>Positive</td>\n",
       "      <td>1581</td>\n",
       "      <td>0.572763</td>\n",
       "      <td>[1581]</td>\n",
       "    </tr>\n",
       "    <tr>\n",
       "      <th>9</th>\n",
       "      <td>2009-04-18</td>\n",
       "      <td>Negative</td>\n",
       "      <td>4887</td>\n",
       "      <td>-0.435470</td>\n",
       "      <td>[4887]</td>\n",
       "    </tr>\n",
       "  </tbody>\n",
       "</table>\n",
       "</div>"
      ],
      "text/plain": [
       "        date sentiment_label  count_tweets  average_sentiment_score  \\\n",
       "0 2009-04-06        Negative           858                -0.444093   \n",
       "1 2009-04-06         Neutral           944                 0.000270   \n",
       "2 2009-04-06        Positive          1558                 0.549069   \n",
       "3 2009-04-07        Negative          4053                -0.438872   \n",
       "4 2009-04-07         Neutral          4965                -0.000132   \n",
       "5 2009-04-07        Positive          8293                 0.550918   \n",
       "6 2009-04-17        Negative           680                -0.438673   \n",
       "7 2009-04-17         Neutral           823                 0.000114   \n",
       "8 2009-04-17        Positive          1581                 0.572763   \n",
       "9 2009-04-18        Negative          4887                -0.435470   \n",
       "\n",
       "  count_tweets_list  \n",
       "0             [858]  \n",
       "1             [944]  \n",
       "2            [1558]  \n",
       "3            [4053]  \n",
       "4            [4965]  \n",
       "5            [8293]  \n",
       "6             [680]  \n",
       "7             [823]  \n",
       "8            [1581]  \n",
       "9            [4887]  "
      ]
     },
     "execution_count": 128,
     "metadata": {},
     "output_type": "execute_result"
    }
   ],
   "source": [
    "#Pre-processing for Average sentiment score with Sentiment lab classfication per day\n",
    "# Group the data by date and sentiment label\n",
    "grouped_df = pandas_df.groupby([\"date\", \"sentiment_label\"]).agg(\n",
    "    count_tweets=(\"sentiment_label\", \"size\"),\n",
    "    average_sentiment_score=(\"vader_sentiment\", \"mean\"),\n",
    ")\n",
    "\n",
    "# # Calculate the total number of tweets per day\n",
    "# grouped_df[\"total_tweets\"] = grouped_df.groupby(\"date\").transform(\"sum\")\n",
    "\n",
    "# Reset the index\n",
    "grouped_df = grouped_df.reset_index()\n",
    "\n",
    "\n",
    "# Create a new column to store the datetime\n",
    "grouped_df['date'] = pd.to_datetime(grouped_df['date'])\n",
    "\n",
    "# Print the grouped DataFrame\n",
    "print(grouped_df)\n",
    "\n",
    "def to_list(x):\n",
    "    return list([x])\n",
    "\n",
    "# Convert the `count_tweets` column to a list\n",
    "grouped_df[\"count_tweets_list\"] = grouped_df[\"count_tweets\"].apply(to_list)\n",
    "\n",
    "grouped_df.head(10)\n"
   ]
  },
  {
   "cell_type": "code",
   "execution_count": 129,
   "id": "7f5300cc",
   "metadata": {},
   "outputs": [],
   "source": [
    "# Generate top username input for dashboard\n",
    "top_usernames = pandas_df['username'].value_counts().nlargest(10).reset_index()\n",
    "top_usernames.columns = ['username', 'tweet_count']"
   ]
  },
  {
   "cell_type": "code",
   "execution_count": 131,
   "id": "ec2b136a",
   "metadata": {
    "scrolled": true
   },
   "outputs": [
    {
     "data": {
      "text/html": [
       "<div>\n",
       "<style scoped>\n",
       "    .dataframe tbody tr th:only-of-type {\n",
       "        vertical-align: middle;\n",
       "    }\n",
       "\n",
       "    .dataframe tbody tr th {\n",
       "        vertical-align: top;\n",
       "    }\n",
       "\n",
       "    .dataframe thead th {\n",
       "        text-align: right;\n",
       "    }\n",
       "</style>\n",
       "<table border=\"1\" class=\"dataframe\">\n",
       "  <thead>\n",
       "    <tr style=\"text-align: right;\">\n",
       "      <th></th>\n",
       "      <th>username</th>\n",
       "      <th>tweet_count</th>\n",
       "    </tr>\n",
       "  </thead>\n",
       "  <tbody>\n",
       "    <tr>\n",
       "      <th>0</th>\n",
       "      <td>lost_dog</td>\n",
       "      <td>549</td>\n",
       "    </tr>\n",
       "    <tr>\n",
       "      <th>1</th>\n",
       "      <td>webwoke</td>\n",
       "      <td>345</td>\n",
       "    </tr>\n",
       "    <tr>\n",
       "      <th>2</th>\n",
       "      <td>tweetpet</td>\n",
       "      <td>310</td>\n",
       "    </tr>\n",
       "    <tr>\n",
       "      <th>3</th>\n",
       "      <td>SallytheShizzle</td>\n",
       "      <td>281</td>\n",
       "    </tr>\n",
       "    <tr>\n",
       "      <th>4</th>\n",
       "      <td>VioletsCRUK</td>\n",
       "      <td>279</td>\n",
       "    </tr>\n",
       "    <tr>\n",
       "      <th>5</th>\n",
       "      <td>mcraddictal</td>\n",
       "      <td>276</td>\n",
       "    </tr>\n",
       "    <tr>\n",
       "      <th>6</th>\n",
       "      <td>tsarnick</td>\n",
       "      <td>248</td>\n",
       "    </tr>\n",
       "    <tr>\n",
       "      <th>7</th>\n",
       "      <td>what_bugs_u</td>\n",
       "      <td>246</td>\n",
       "    </tr>\n",
       "    <tr>\n",
       "      <th>8</th>\n",
       "      <td>Karen230683</td>\n",
       "      <td>238</td>\n",
       "    </tr>\n",
       "    <tr>\n",
       "      <th>9</th>\n",
       "      <td>DarkPiano</td>\n",
       "      <td>236</td>\n",
       "    </tr>\n",
       "  </tbody>\n",
       "</table>\n",
       "</div>"
      ],
      "text/plain": [
       "          username  tweet_count\n",
       "0         lost_dog          549\n",
       "1          webwoke          345\n",
       "2         tweetpet          310\n",
       "3  SallytheShizzle          281\n",
       "4      VioletsCRUK          279\n",
       "5      mcraddictal          276\n",
       "6         tsarnick          248\n",
       "7      what_bugs_u          246\n",
       "8      Karen230683          238\n",
       "9        DarkPiano          236"
      ]
     },
     "execution_count": 131,
     "metadata": {},
     "output_type": "execute_result"
    }
   ],
   "source": [
    "top_usernames.head(10)"
   ]
  },
  {
   "cell_type": "code",
   "execution_count": 135,
   "id": "f292a541",
   "metadata": {
    "scrolled": false
   },
   "outputs": [
    {
     "data": {
      "application/vnd.plotly.v1+json": {
       "config": {
        "plotlyServerURL": "https://plot.ly"
       },
       "data": [
        {
         "alignmentgroup": "True",
         "hovertemplate": "username=%{x}<br>tweet_count=%{y}<extra></extra>",
         "legendgroup": "",
         "marker": {
          "color": "#636efa",
          "pattern": {
           "shape": ""
          }
         },
         "name": "",
         "offsetgroup": "",
         "orientation": "v",
         "showlegend": false,
         "textposition": "auto",
         "type": "bar",
         "x": [
          "lost_dog",
          "webwoke",
          "tweetpet",
          "SallytheShizzle",
          "VioletsCRUK",
          "mcraddictal",
          "tsarnick",
          "what_bugs_u",
          "Karen230683",
          "DarkPiano"
         ],
         "xaxis": "x",
         "y": [
          549,
          345,
          310,
          281,
          279,
          276,
          248,
          246,
          238,
          236
         ],
         "yaxis": "y"
        }
       ],
       "layout": {
        "barmode": "relative",
        "legend": {
         "tracegroupgap": 0
        },
        "margin": {
         "t": 60
        },
        "template": {
         "data": {
          "bar": [
           {
            "error_x": {
             "color": "#2a3f5f"
            },
            "error_y": {
             "color": "#2a3f5f"
            },
            "marker": {
             "line": {
              "color": "#E5ECF6",
              "width": 0.5
             },
             "pattern": {
              "fillmode": "overlay",
              "size": 10,
              "solidity": 0.2
             }
            },
            "type": "bar"
           }
          ],
          "barpolar": [
           {
            "marker": {
             "line": {
              "color": "#E5ECF6",
              "width": 0.5
             },
             "pattern": {
              "fillmode": "overlay",
              "size": 10,
              "solidity": 0.2
             }
            },
            "type": "barpolar"
           }
          ],
          "carpet": [
           {
            "aaxis": {
             "endlinecolor": "#2a3f5f",
             "gridcolor": "white",
             "linecolor": "white",
             "minorgridcolor": "white",
             "startlinecolor": "#2a3f5f"
            },
            "baxis": {
             "endlinecolor": "#2a3f5f",
             "gridcolor": "white",
             "linecolor": "white",
             "minorgridcolor": "white",
             "startlinecolor": "#2a3f5f"
            },
            "type": "carpet"
           }
          ],
          "choropleth": [
           {
            "colorbar": {
             "outlinewidth": 0,
             "ticks": ""
            },
            "type": "choropleth"
           }
          ],
          "contour": [
           {
            "colorbar": {
             "outlinewidth": 0,
             "ticks": ""
            },
            "colorscale": [
             [
              0,
              "#0d0887"
             ],
             [
              0.1111111111111111,
              "#46039f"
             ],
             [
              0.2222222222222222,
              "#7201a8"
             ],
             [
              0.3333333333333333,
              "#9c179e"
             ],
             [
              0.4444444444444444,
              "#bd3786"
             ],
             [
              0.5555555555555556,
              "#d8576b"
             ],
             [
              0.6666666666666666,
              "#ed7953"
             ],
             [
              0.7777777777777778,
              "#fb9f3a"
             ],
             [
              0.8888888888888888,
              "#fdca26"
             ],
             [
              1,
              "#f0f921"
             ]
            ],
            "type": "contour"
           }
          ],
          "contourcarpet": [
           {
            "colorbar": {
             "outlinewidth": 0,
             "ticks": ""
            },
            "type": "contourcarpet"
           }
          ],
          "heatmap": [
           {
            "colorbar": {
             "outlinewidth": 0,
             "ticks": ""
            },
            "colorscale": [
             [
              0,
              "#0d0887"
             ],
             [
              0.1111111111111111,
              "#46039f"
             ],
             [
              0.2222222222222222,
              "#7201a8"
             ],
             [
              0.3333333333333333,
              "#9c179e"
             ],
             [
              0.4444444444444444,
              "#bd3786"
             ],
             [
              0.5555555555555556,
              "#d8576b"
             ],
             [
              0.6666666666666666,
              "#ed7953"
             ],
             [
              0.7777777777777778,
              "#fb9f3a"
             ],
             [
              0.8888888888888888,
              "#fdca26"
             ],
             [
              1,
              "#f0f921"
             ]
            ],
            "type": "heatmap"
           }
          ],
          "heatmapgl": [
           {
            "colorbar": {
             "outlinewidth": 0,
             "ticks": ""
            },
            "colorscale": [
             [
              0,
              "#0d0887"
             ],
             [
              0.1111111111111111,
              "#46039f"
             ],
             [
              0.2222222222222222,
              "#7201a8"
             ],
             [
              0.3333333333333333,
              "#9c179e"
             ],
             [
              0.4444444444444444,
              "#bd3786"
             ],
             [
              0.5555555555555556,
              "#d8576b"
             ],
             [
              0.6666666666666666,
              "#ed7953"
             ],
             [
              0.7777777777777778,
              "#fb9f3a"
             ],
             [
              0.8888888888888888,
              "#fdca26"
             ],
             [
              1,
              "#f0f921"
             ]
            ],
            "type": "heatmapgl"
           }
          ],
          "histogram": [
           {
            "marker": {
             "pattern": {
              "fillmode": "overlay",
              "size": 10,
              "solidity": 0.2
             }
            },
            "type": "histogram"
           }
          ],
          "histogram2d": [
           {
            "colorbar": {
             "outlinewidth": 0,
             "ticks": ""
            },
            "colorscale": [
             [
              0,
              "#0d0887"
             ],
             [
              0.1111111111111111,
              "#46039f"
             ],
             [
              0.2222222222222222,
              "#7201a8"
             ],
             [
              0.3333333333333333,
              "#9c179e"
             ],
             [
              0.4444444444444444,
              "#bd3786"
             ],
             [
              0.5555555555555556,
              "#d8576b"
             ],
             [
              0.6666666666666666,
              "#ed7953"
             ],
             [
              0.7777777777777778,
              "#fb9f3a"
             ],
             [
              0.8888888888888888,
              "#fdca26"
             ],
             [
              1,
              "#f0f921"
             ]
            ],
            "type": "histogram2d"
           }
          ],
          "histogram2dcontour": [
           {
            "colorbar": {
             "outlinewidth": 0,
             "ticks": ""
            },
            "colorscale": [
             [
              0,
              "#0d0887"
             ],
             [
              0.1111111111111111,
              "#46039f"
             ],
             [
              0.2222222222222222,
              "#7201a8"
             ],
             [
              0.3333333333333333,
              "#9c179e"
             ],
             [
              0.4444444444444444,
              "#bd3786"
             ],
             [
              0.5555555555555556,
              "#d8576b"
             ],
             [
              0.6666666666666666,
              "#ed7953"
             ],
             [
              0.7777777777777778,
              "#fb9f3a"
             ],
             [
              0.8888888888888888,
              "#fdca26"
             ],
             [
              1,
              "#f0f921"
             ]
            ],
            "type": "histogram2dcontour"
           }
          ],
          "mesh3d": [
           {
            "colorbar": {
             "outlinewidth": 0,
             "ticks": ""
            },
            "type": "mesh3d"
           }
          ],
          "parcoords": [
           {
            "line": {
             "colorbar": {
              "outlinewidth": 0,
              "ticks": ""
             }
            },
            "type": "parcoords"
           }
          ],
          "pie": [
           {
            "automargin": true,
            "type": "pie"
           }
          ],
          "scatter": [
           {
            "fillpattern": {
             "fillmode": "overlay",
             "size": 10,
             "solidity": 0.2
            },
            "type": "scatter"
           }
          ],
          "scatter3d": [
           {
            "line": {
             "colorbar": {
              "outlinewidth": 0,
              "ticks": ""
             }
            },
            "marker": {
             "colorbar": {
              "outlinewidth": 0,
              "ticks": ""
             }
            },
            "type": "scatter3d"
           }
          ],
          "scattercarpet": [
           {
            "marker": {
             "colorbar": {
              "outlinewidth": 0,
              "ticks": ""
             }
            },
            "type": "scattercarpet"
           }
          ],
          "scattergeo": [
           {
            "marker": {
             "colorbar": {
              "outlinewidth": 0,
              "ticks": ""
             }
            },
            "type": "scattergeo"
           }
          ],
          "scattergl": [
           {
            "marker": {
             "colorbar": {
              "outlinewidth": 0,
              "ticks": ""
             }
            },
            "type": "scattergl"
           }
          ],
          "scattermapbox": [
           {
            "marker": {
             "colorbar": {
              "outlinewidth": 0,
              "ticks": ""
             }
            },
            "type": "scattermapbox"
           }
          ],
          "scatterpolar": [
           {
            "marker": {
             "colorbar": {
              "outlinewidth": 0,
              "ticks": ""
             }
            },
            "type": "scatterpolar"
           }
          ],
          "scatterpolargl": [
           {
            "marker": {
             "colorbar": {
              "outlinewidth": 0,
              "ticks": ""
             }
            },
            "type": "scatterpolargl"
           }
          ],
          "scatterternary": [
           {
            "marker": {
             "colorbar": {
              "outlinewidth": 0,
              "ticks": ""
             }
            },
            "type": "scatterternary"
           }
          ],
          "surface": [
           {
            "colorbar": {
             "outlinewidth": 0,
             "ticks": ""
            },
            "colorscale": [
             [
              0,
              "#0d0887"
             ],
             [
              0.1111111111111111,
              "#46039f"
             ],
             [
              0.2222222222222222,
              "#7201a8"
             ],
             [
              0.3333333333333333,
              "#9c179e"
             ],
             [
              0.4444444444444444,
              "#bd3786"
             ],
             [
              0.5555555555555556,
              "#d8576b"
             ],
             [
              0.6666666666666666,
              "#ed7953"
             ],
             [
              0.7777777777777778,
              "#fb9f3a"
             ],
             [
              0.8888888888888888,
              "#fdca26"
             ],
             [
              1,
              "#f0f921"
             ]
            ],
            "type": "surface"
           }
          ],
          "table": [
           {
            "cells": {
             "fill": {
              "color": "#EBF0F8"
             },
             "line": {
              "color": "white"
             }
            },
            "header": {
             "fill": {
              "color": "#C8D4E3"
             },
             "line": {
              "color": "white"
             }
            },
            "type": "table"
           }
          ]
         },
         "layout": {
          "annotationdefaults": {
           "arrowcolor": "#2a3f5f",
           "arrowhead": 0,
           "arrowwidth": 1
          },
          "autotypenumbers": "strict",
          "coloraxis": {
           "colorbar": {
            "outlinewidth": 0,
            "ticks": ""
           }
          },
          "colorscale": {
           "diverging": [
            [
             0,
             "#8e0152"
            ],
            [
             0.1,
             "#c51b7d"
            ],
            [
             0.2,
             "#de77ae"
            ],
            [
             0.3,
             "#f1b6da"
            ],
            [
             0.4,
             "#fde0ef"
            ],
            [
             0.5,
             "#f7f7f7"
            ],
            [
             0.6,
             "#e6f5d0"
            ],
            [
             0.7,
             "#b8e186"
            ],
            [
             0.8,
             "#7fbc41"
            ],
            [
             0.9,
             "#4d9221"
            ],
            [
             1,
             "#276419"
            ]
           ],
           "sequential": [
            [
             0,
             "#0d0887"
            ],
            [
             0.1111111111111111,
             "#46039f"
            ],
            [
             0.2222222222222222,
             "#7201a8"
            ],
            [
             0.3333333333333333,
             "#9c179e"
            ],
            [
             0.4444444444444444,
             "#bd3786"
            ],
            [
             0.5555555555555556,
             "#d8576b"
            ],
            [
             0.6666666666666666,
             "#ed7953"
            ],
            [
             0.7777777777777778,
             "#fb9f3a"
            ],
            [
             0.8888888888888888,
             "#fdca26"
            ],
            [
             1,
             "#f0f921"
            ]
           ],
           "sequentialminus": [
            [
             0,
             "#0d0887"
            ],
            [
             0.1111111111111111,
             "#46039f"
            ],
            [
             0.2222222222222222,
             "#7201a8"
            ],
            [
             0.3333333333333333,
             "#9c179e"
            ],
            [
             0.4444444444444444,
             "#bd3786"
            ],
            [
             0.5555555555555556,
             "#d8576b"
            ],
            [
             0.6666666666666666,
             "#ed7953"
            ],
            [
             0.7777777777777778,
             "#fb9f3a"
            ],
            [
             0.8888888888888888,
             "#fdca26"
            ],
            [
             1,
             "#f0f921"
            ]
           ]
          },
          "colorway": [
           "#636efa",
           "#EF553B",
           "#00cc96",
           "#ab63fa",
           "#FFA15A",
           "#19d3f3",
           "#FF6692",
           "#B6E880",
           "#FF97FF",
           "#FECB52"
          ],
          "font": {
           "color": "#2a3f5f"
          },
          "geo": {
           "bgcolor": "white",
           "lakecolor": "white",
           "landcolor": "#E5ECF6",
           "showlakes": true,
           "showland": true,
           "subunitcolor": "white"
          },
          "hoverlabel": {
           "align": "left"
          },
          "hovermode": "closest",
          "mapbox": {
           "style": "light"
          },
          "paper_bgcolor": "white",
          "plot_bgcolor": "#E5ECF6",
          "polar": {
           "angularaxis": {
            "gridcolor": "white",
            "linecolor": "white",
            "ticks": ""
           },
           "bgcolor": "#E5ECF6",
           "radialaxis": {
            "gridcolor": "white",
            "linecolor": "white",
            "ticks": ""
           }
          },
          "scene": {
           "xaxis": {
            "backgroundcolor": "#E5ECF6",
            "gridcolor": "white",
            "gridwidth": 2,
            "linecolor": "white",
            "showbackground": true,
            "ticks": "",
            "zerolinecolor": "white"
           },
           "yaxis": {
            "backgroundcolor": "#E5ECF6",
            "gridcolor": "white",
            "gridwidth": 2,
            "linecolor": "white",
            "showbackground": true,
            "ticks": "",
            "zerolinecolor": "white"
           },
           "zaxis": {
            "backgroundcolor": "#E5ECF6",
            "gridcolor": "white",
            "gridwidth": 2,
            "linecolor": "white",
            "showbackground": true,
            "ticks": "",
            "zerolinecolor": "white"
           }
          },
          "shapedefaults": {
           "line": {
            "color": "#2a3f5f"
           }
          },
          "ternary": {
           "aaxis": {
            "gridcolor": "white",
            "linecolor": "white",
            "ticks": ""
           },
           "baxis": {
            "gridcolor": "white",
            "linecolor": "white",
            "ticks": ""
           },
           "bgcolor": "#E5ECF6",
           "caxis": {
            "gridcolor": "white",
            "linecolor": "white",
            "ticks": ""
           }
          },
          "title": {
           "x": 0.05
          },
          "xaxis": {
           "automargin": true,
           "gridcolor": "white",
           "linecolor": "white",
           "ticks": "",
           "title": {
            "standoff": 15
           },
           "zerolinecolor": "white",
           "zerolinewidth": 2
          },
          "yaxis": {
           "automargin": true,
           "gridcolor": "white",
           "linecolor": "white",
           "ticks": "",
           "title": {
            "standoff": 15
           },
           "zerolinecolor": "white",
           "zerolinewidth": 2
          }
         }
        },
        "title": {
         "text": "Top Usernames by Tweet Count"
        },
        "xaxis": {
         "anchor": "y",
         "domain": [
          0,
          1
         ],
         "title": {
          "text": "username"
         }
        },
        "yaxis": {
         "anchor": "x",
         "domain": [
          0,
          1
         ],
         "title": {
          "text": "tweet_count"
         }
        }
       }
      },
      "text/html": [
       "<div>                            <div id=\"2b514b8b-475e-4371-b20b-9904736c2035\" class=\"plotly-graph-div\" style=\"height:525px; width:100%;\"></div>            <script type=\"text/javascript\">                require([\"plotly\"], function(Plotly) {                    window.PLOTLYENV=window.PLOTLYENV || {};                                    if (document.getElementById(\"2b514b8b-475e-4371-b20b-9904736c2035\")) {                    Plotly.newPlot(                        \"2b514b8b-475e-4371-b20b-9904736c2035\",                        [{\"alignmentgroup\":\"True\",\"hovertemplate\":\"username=%{x}<br>tweet_count=%{y}<extra></extra>\",\"legendgroup\":\"\",\"marker\":{\"color\":\"#636efa\",\"pattern\":{\"shape\":\"\"}},\"name\":\"\",\"offsetgroup\":\"\",\"orientation\":\"v\",\"showlegend\":false,\"textposition\":\"auto\",\"x\":[\"lost_dog\",\"webwoke\",\"tweetpet\",\"SallytheShizzle\",\"VioletsCRUK\",\"mcraddictal\",\"tsarnick\",\"what_bugs_u\",\"Karen230683\",\"DarkPiano\"],\"xaxis\":\"x\",\"y\":[549,345,310,281,279,276,248,246,238,236],\"yaxis\":\"y\",\"type\":\"bar\"}],                        {\"template\":{\"data\":{\"histogram2dcontour\":[{\"type\":\"histogram2dcontour\",\"colorbar\":{\"outlinewidth\":0,\"ticks\":\"\"},\"colorscale\":[[0.0,\"#0d0887\"],[0.1111111111111111,\"#46039f\"],[0.2222222222222222,\"#7201a8\"],[0.3333333333333333,\"#9c179e\"],[0.4444444444444444,\"#bd3786\"],[0.5555555555555556,\"#d8576b\"],[0.6666666666666666,\"#ed7953\"],[0.7777777777777778,\"#fb9f3a\"],[0.8888888888888888,\"#fdca26\"],[1.0,\"#f0f921\"]]}],\"choropleth\":[{\"type\":\"choropleth\",\"colorbar\":{\"outlinewidth\":0,\"ticks\":\"\"}}],\"histogram2d\":[{\"type\":\"histogram2d\",\"colorbar\":{\"outlinewidth\":0,\"ticks\":\"\"},\"colorscale\":[[0.0,\"#0d0887\"],[0.1111111111111111,\"#46039f\"],[0.2222222222222222,\"#7201a8\"],[0.3333333333333333,\"#9c179e\"],[0.4444444444444444,\"#bd3786\"],[0.5555555555555556,\"#d8576b\"],[0.6666666666666666,\"#ed7953\"],[0.7777777777777778,\"#fb9f3a\"],[0.8888888888888888,\"#fdca26\"],[1.0,\"#f0f921\"]]}],\"heatmap\":[{\"type\":\"heatmap\",\"colorbar\":{\"outlinewidth\":0,\"ticks\":\"\"},\"colorscale\":[[0.0,\"#0d0887\"],[0.1111111111111111,\"#46039f\"],[0.2222222222222222,\"#7201a8\"],[0.3333333333333333,\"#9c179e\"],[0.4444444444444444,\"#bd3786\"],[0.5555555555555556,\"#d8576b\"],[0.6666666666666666,\"#ed7953\"],[0.7777777777777778,\"#fb9f3a\"],[0.8888888888888888,\"#fdca26\"],[1.0,\"#f0f921\"]]}],\"heatmapgl\":[{\"type\":\"heatmapgl\",\"colorbar\":{\"outlinewidth\":0,\"ticks\":\"\"},\"colorscale\":[[0.0,\"#0d0887\"],[0.1111111111111111,\"#46039f\"],[0.2222222222222222,\"#7201a8\"],[0.3333333333333333,\"#9c179e\"],[0.4444444444444444,\"#bd3786\"],[0.5555555555555556,\"#d8576b\"],[0.6666666666666666,\"#ed7953\"],[0.7777777777777778,\"#fb9f3a\"],[0.8888888888888888,\"#fdca26\"],[1.0,\"#f0f921\"]]}],\"contourcarpet\":[{\"type\":\"contourcarpet\",\"colorbar\":{\"outlinewidth\":0,\"ticks\":\"\"}}],\"contour\":[{\"type\":\"contour\",\"colorbar\":{\"outlinewidth\":0,\"ticks\":\"\"},\"colorscale\":[[0.0,\"#0d0887\"],[0.1111111111111111,\"#46039f\"],[0.2222222222222222,\"#7201a8\"],[0.3333333333333333,\"#9c179e\"],[0.4444444444444444,\"#bd3786\"],[0.5555555555555556,\"#d8576b\"],[0.6666666666666666,\"#ed7953\"],[0.7777777777777778,\"#fb9f3a\"],[0.8888888888888888,\"#fdca26\"],[1.0,\"#f0f921\"]]}],\"surface\":[{\"type\":\"surface\",\"colorbar\":{\"outlinewidth\":0,\"ticks\":\"\"},\"colorscale\":[[0.0,\"#0d0887\"],[0.1111111111111111,\"#46039f\"],[0.2222222222222222,\"#7201a8\"],[0.3333333333333333,\"#9c179e\"],[0.4444444444444444,\"#bd3786\"],[0.5555555555555556,\"#d8576b\"],[0.6666666666666666,\"#ed7953\"],[0.7777777777777778,\"#fb9f3a\"],[0.8888888888888888,\"#fdca26\"],[1.0,\"#f0f921\"]]}],\"mesh3d\":[{\"type\":\"mesh3d\",\"colorbar\":{\"outlinewidth\":0,\"ticks\":\"\"}}],\"scatter\":[{\"fillpattern\":{\"fillmode\":\"overlay\",\"size\":10,\"solidity\":0.2},\"type\":\"scatter\"}],\"parcoords\":[{\"type\":\"parcoords\",\"line\":{\"colorbar\":{\"outlinewidth\":0,\"ticks\":\"\"}}}],\"scatterpolargl\":[{\"type\":\"scatterpolargl\",\"marker\":{\"colorbar\":{\"outlinewidth\":0,\"ticks\":\"\"}}}],\"bar\":[{\"error_x\":{\"color\":\"#2a3f5f\"},\"error_y\":{\"color\":\"#2a3f5f\"},\"marker\":{\"line\":{\"color\":\"#E5ECF6\",\"width\":0.5},\"pattern\":{\"fillmode\":\"overlay\",\"size\":10,\"solidity\":0.2}},\"type\":\"bar\"}],\"scattergeo\":[{\"type\":\"scattergeo\",\"marker\":{\"colorbar\":{\"outlinewidth\":0,\"ticks\":\"\"}}}],\"scatterpolar\":[{\"type\":\"scatterpolar\",\"marker\":{\"colorbar\":{\"outlinewidth\":0,\"ticks\":\"\"}}}],\"histogram\":[{\"marker\":{\"pattern\":{\"fillmode\":\"overlay\",\"size\":10,\"solidity\":0.2}},\"type\":\"histogram\"}],\"scattergl\":[{\"type\":\"scattergl\",\"marker\":{\"colorbar\":{\"outlinewidth\":0,\"ticks\":\"\"}}}],\"scatter3d\":[{\"type\":\"scatter3d\",\"line\":{\"colorbar\":{\"outlinewidth\":0,\"ticks\":\"\"}},\"marker\":{\"colorbar\":{\"outlinewidth\":0,\"ticks\":\"\"}}}],\"scattermapbox\":[{\"type\":\"scattermapbox\",\"marker\":{\"colorbar\":{\"outlinewidth\":0,\"ticks\":\"\"}}}],\"scatterternary\":[{\"type\":\"scatterternary\",\"marker\":{\"colorbar\":{\"outlinewidth\":0,\"ticks\":\"\"}}}],\"scattercarpet\":[{\"type\":\"scattercarpet\",\"marker\":{\"colorbar\":{\"outlinewidth\":0,\"ticks\":\"\"}}}],\"carpet\":[{\"aaxis\":{\"endlinecolor\":\"#2a3f5f\",\"gridcolor\":\"white\",\"linecolor\":\"white\",\"minorgridcolor\":\"white\",\"startlinecolor\":\"#2a3f5f\"},\"baxis\":{\"endlinecolor\":\"#2a3f5f\",\"gridcolor\":\"white\",\"linecolor\":\"white\",\"minorgridcolor\":\"white\",\"startlinecolor\":\"#2a3f5f\"},\"type\":\"carpet\"}],\"table\":[{\"cells\":{\"fill\":{\"color\":\"#EBF0F8\"},\"line\":{\"color\":\"white\"}},\"header\":{\"fill\":{\"color\":\"#C8D4E3\"},\"line\":{\"color\":\"white\"}},\"type\":\"table\"}],\"barpolar\":[{\"marker\":{\"line\":{\"color\":\"#E5ECF6\",\"width\":0.5},\"pattern\":{\"fillmode\":\"overlay\",\"size\":10,\"solidity\":0.2}},\"type\":\"barpolar\"}],\"pie\":[{\"automargin\":true,\"type\":\"pie\"}]},\"layout\":{\"autotypenumbers\":\"strict\",\"colorway\":[\"#636efa\",\"#EF553B\",\"#00cc96\",\"#ab63fa\",\"#FFA15A\",\"#19d3f3\",\"#FF6692\",\"#B6E880\",\"#FF97FF\",\"#FECB52\"],\"font\":{\"color\":\"#2a3f5f\"},\"hovermode\":\"closest\",\"hoverlabel\":{\"align\":\"left\"},\"paper_bgcolor\":\"white\",\"plot_bgcolor\":\"#E5ECF6\",\"polar\":{\"bgcolor\":\"#E5ECF6\",\"angularaxis\":{\"gridcolor\":\"white\",\"linecolor\":\"white\",\"ticks\":\"\"},\"radialaxis\":{\"gridcolor\":\"white\",\"linecolor\":\"white\",\"ticks\":\"\"}},\"ternary\":{\"bgcolor\":\"#E5ECF6\",\"aaxis\":{\"gridcolor\":\"white\",\"linecolor\":\"white\",\"ticks\":\"\"},\"baxis\":{\"gridcolor\":\"white\",\"linecolor\":\"white\",\"ticks\":\"\"},\"caxis\":{\"gridcolor\":\"white\",\"linecolor\":\"white\",\"ticks\":\"\"}},\"coloraxis\":{\"colorbar\":{\"outlinewidth\":0,\"ticks\":\"\"}},\"colorscale\":{\"sequential\":[[0.0,\"#0d0887\"],[0.1111111111111111,\"#46039f\"],[0.2222222222222222,\"#7201a8\"],[0.3333333333333333,\"#9c179e\"],[0.4444444444444444,\"#bd3786\"],[0.5555555555555556,\"#d8576b\"],[0.6666666666666666,\"#ed7953\"],[0.7777777777777778,\"#fb9f3a\"],[0.8888888888888888,\"#fdca26\"],[1.0,\"#f0f921\"]],\"sequentialminus\":[[0.0,\"#0d0887\"],[0.1111111111111111,\"#46039f\"],[0.2222222222222222,\"#7201a8\"],[0.3333333333333333,\"#9c179e\"],[0.4444444444444444,\"#bd3786\"],[0.5555555555555556,\"#d8576b\"],[0.6666666666666666,\"#ed7953\"],[0.7777777777777778,\"#fb9f3a\"],[0.8888888888888888,\"#fdca26\"],[1.0,\"#f0f921\"]],\"diverging\":[[0,\"#8e0152\"],[0.1,\"#c51b7d\"],[0.2,\"#de77ae\"],[0.3,\"#f1b6da\"],[0.4,\"#fde0ef\"],[0.5,\"#f7f7f7\"],[0.6,\"#e6f5d0\"],[0.7,\"#b8e186\"],[0.8,\"#7fbc41\"],[0.9,\"#4d9221\"],[1,\"#276419\"]]},\"xaxis\":{\"gridcolor\":\"white\",\"linecolor\":\"white\",\"ticks\":\"\",\"title\":{\"standoff\":15},\"zerolinecolor\":\"white\",\"automargin\":true,\"zerolinewidth\":2},\"yaxis\":{\"gridcolor\":\"white\",\"linecolor\":\"white\",\"ticks\":\"\",\"title\":{\"standoff\":15},\"zerolinecolor\":\"white\",\"automargin\":true,\"zerolinewidth\":2},\"scene\":{\"xaxis\":{\"backgroundcolor\":\"#E5ECF6\",\"gridcolor\":\"white\",\"linecolor\":\"white\",\"showbackground\":true,\"ticks\":\"\",\"zerolinecolor\":\"white\",\"gridwidth\":2},\"yaxis\":{\"backgroundcolor\":\"#E5ECF6\",\"gridcolor\":\"white\",\"linecolor\":\"white\",\"showbackground\":true,\"ticks\":\"\",\"zerolinecolor\":\"white\",\"gridwidth\":2},\"zaxis\":{\"backgroundcolor\":\"#E5ECF6\",\"gridcolor\":\"white\",\"linecolor\":\"white\",\"showbackground\":true,\"ticks\":\"\",\"zerolinecolor\":\"white\",\"gridwidth\":2}},\"shapedefaults\":{\"line\":{\"color\":\"#2a3f5f\"}},\"annotationdefaults\":{\"arrowcolor\":\"#2a3f5f\",\"arrowhead\":0,\"arrowwidth\":1},\"geo\":{\"bgcolor\":\"white\",\"landcolor\":\"#E5ECF6\",\"subunitcolor\":\"white\",\"showland\":true,\"showlakes\":true,\"lakecolor\":\"white\"},\"title\":{\"x\":0.05},\"mapbox\":{\"style\":\"light\"}}},\"xaxis\":{\"anchor\":\"y\",\"domain\":[0.0,1.0],\"title\":{\"text\":\"username\"}},\"yaxis\":{\"anchor\":\"x\",\"domain\":[0.0,1.0],\"title\":{\"text\":\"tweet_count\"}},\"legend\":{\"tracegroupgap\":0},\"margin\":{\"t\":60},\"barmode\":\"relative\",\"title\":{\"text\":\"Top Usernames by Tweet Count\"}},                        {\"responsive\": true}                    ).then(function(){\n",
       "                            \n",
       "var gd = document.getElementById('2b514b8b-475e-4371-b20b-9904736c2035');\n",
       "var x = new MutationObserver(function (mutations, observer) {{\n",
       "        var display = window.getComputedStyle(gd).display;\n",
       "        if (!display || display === 'none') {{\n",
       "            console.log([gd, 'removed!']);\n",
       "            Plotly.purge(gd);\n",
       "            observer.disconnect();\n",
       "        }}\n",
       "}});\n",
       "\n",
       "// Listen for the removal of the full notebook cells\n",
       "var notebookContainer = gd.closest('#notebook-container');\n",
       "if (notebookContainer) {{\n",
       "    x.observe(notebookContainer, {childList: true});\n",
       "}}\n",
       "\n",
       "// Listen for the clearing of the current output cell\n",
       "var outputEl = gd.closest('.output');\n",
       "if (outputEl) {{\n",
       "    x.observe(outputEl, {childList: true});\n",
       "}}\n",
       "\n",
       "                        })                };                });            </script>        </div>"
      ]
     },
     "metadata": {},
     "output_type": "display_data"
    }
   ],
   "source": [
    "# Create a figure for top usernames outside of any callback\n",
    "top_usernames_fig = px.bar(top_usernames, x='username', y='tweet_count')\n",
    "top_usernames_fig.update_layout(title='Top Usernames by Tweet Count')"
   ]
  },
  {
   "cell_type": "code",
   "execution_count": 140,
   "id": "03bfb491",
   "metadata": {},
   "outputs": [],
   "source": [
    "def create_daily_tweet_count_graph(df):\n",
    "    daily_tweet_counts = df['date'].value_counts().sort_index()\n",
    "    fig = px.bar(daily_tweet_counts, x=daily_tweet_counts.index, y=daily_tweet_counts.values,)\n",
    "    fig.update_layout(title='Daily Tweet Counts', xaxis_title='Date', yaxis_title='Number of Tweets')\n",
    "    return fig\n"
   ]
  },
  {
   "cell_type": "code",
   "execution_count": 141,
   "id": "2f981d6d",
   "metadata": {},
   "outputs": [],
   "source": [
    "# Here you create the figure outside of any callback\n",
    "daily_tweet_count_fig = create_daily_tweet_count_graph(pandas_df)"
   ]
  },
  {
   "cell_type": "code",
   "execution_count": 143,
   "id": "24f91c07",
   "metadata": {
    "scrolled": false
   },
   "outputs": [
    {
     "data": {
      "application/vnd.plotly.v1+json": {
       "config": {
        "plotlyServerURL": "https://plot.ly"
       },
       "data": [
        {
         "alignmentgroup": "True",
         "hovertemplate": "index=%{x}<br>y=%{y}<extra></extra>",
         "legendgroup": "",
         "marker": {
          "color": "#636efa",
          "pattern": {
           "shape": ""
          }
         },
         "name": "",
         "offsetgroup": "",
         "orientation": "v",
         "showlegend": false,
         "textposition": "auto",
         "type": "bar",
         "x": [
          "2009-04-06",
          "2009-04-07",
          "2009-04-17",
          "2009-04-18",
          "2009-04-19",
          "2009-04-20",
          "2009-04-21",
          "2009-05-01",
          "2009-05-02",
          "2009-05-03",
          "2009-05-04",
          "2009-05-09",
          "2009-05-10",
          "2009-05-11",
          "2009-05-13",
          "2009-05-14",
          "2009-05-16",
          "2009-05-17",
          "2009-05-18",
          "2009-05-21",
          "2009-05-22",
          "2009-05-23",
          "2009-05-25",
          "2009-05-26",
          "2009-05-27",
          "2009-05-28",
          "2009-05-29",
          "2009-05-30",
          "2009-05-31",
          "2009-06-01",
          "2009-06-02",
          "2009-06-03",
          "2009-06-04",
          "2009-06-05",
          "2009-06-06",
          "2009-06-07",
          "2009-06-14",
          "2009-06-15",
          "2009-06-16",
          "2009-06-17",
          "2009-06-18",
          "2009-06-19",
          "2009-06-20",
          "2009-06-21",
          "2009-06-22",
          "2009-06-23",
          "2009-06-24",
          "2009-06-25"
         ],
         "xaxis": "x",
         "y": [
          3360,
          17311,
          3084,
          21754,
          27469,
          18460,
          8587,
          7716,
          27434,
          35333,
          15481,
          11739,
          26029,
          4186,
          4066,
          17460,
          9146,
          40154,
          36469,
          2132,
          39074,
          169,
          169,
          10778,
          841,
          15903,
          73827,
          103673,
          94588,
          110290,
          64192,
          41588,
          7842,
          58757,
          111676,
          96350,
          8272,
          109781,
          67980,
          44012,
          43004,
          43136,
          45364,
          16360,
          12009,
          17002,
          6299,
          19694
         ],
         "yaxis": "y"
        }
       ],
       "layout": {
        "barmode": "relative",
        "legend": {
         "tracegroupgap": 0
        },
        "margin": {
         "t": 60
        },
        "template": {
         "data": {
          "bar": [
           {
            "error_x": {
             "color": "#2a3f5f"
            },
            "error_y": {
             "color": "#2a3f5f"
            },
            "marker": {
             "line": {
              "color": "#E5ECF6",
              "width": 0.5
             },
             "pattern": {
              "fillmode": "overlay",
              "size": 10,
              "solidity": 0.2
             }
            },
            "type": "bar"
           }
          ],
          "barpolar": [
           {
            "marker": {
             "line": {
              "color": "#E5ECF6",
              "width": 0.5
             },
             "pattern": {
              "fillmode": "overlay",
              "size": 10,
              "solidity": 0.2
             }
            },
            "type": "barpolar"
           }
          ],
          "carpet": [
           {
            "aaxis": {
             "endlinecolor": "#2a3f5f",
             "gridcolor": "white",
             "linecolor": "white",
             "minorgridcolor": "white",
             "startlinecolor": "#2a3f5f"
            },
            "baxis": {
             "endlinecolor": "#2a3f5f",
             "gridcolor": "white",
             "linecolor": "white",
             "minorgridcolor": "white",
             "startlinecolor": "#2a3f5f"
            },
            "type": "carpet"
           }
          ],
          "choropleth": [
           {
            "colorbar": {
             "outlinewidth": 0,
             "ticks": ""
            },
            "type": "choropleth"
           }
          ],
          "contour": [
           {
            "colorbar": {
             "outlinewidth": 0,
             "ticks": ""
            },
            "colorscale": [
             [
              0,
              "#0d0887"
             ],
             [
              0.1111111111111111,
              "#46039f"
             ],
             [
              0.2222222222222222,
              "#7201a8"
             ],
             [
              0.3333333333333333,
              "#9c179e"
             ],
             [
              0.4444444444444444,
              "#bd3786"
             ],
             [
              0.5555555555555556,
              "#d8576b"
             ],
             [
              0.6666666666666666,
              "#ed7953"
             ],
             [
              0.7777777777777778,
              "#fb9f3a"
             ],
             [
              0.8888888888888888,
              "#fdca26"
             ],
             [
              1,
              "#f0f921"
             ]
            ],
            "type": "contour"
           }
          ],
          "contourcarpet": [
           {
            "colorbar": {
             "outlinewidth": 0,
             "ticks": ""
            },
            "type": "contourcarpet"
           }
          ],
          "heatmap": [
           {
            "colorbar": {
             "outlinewidth": 0,
             "ticks": ""
            },
            "colorscale": [
             [
              0,
              "#0d0887"
             ],
             [
              0.1111111111111111,
              "#46039f"
             ],
             [
              0.2222222222222222,
              "#7201a8"
             ],
             [
              0.3333333333333333,
              "#9c179e"
             ],
             [
              0.4444444444444444,
              "#bd3786"
             ],
             [
              0.5555555555555556,
              "#d8576b"
             ],
             [
              0.6666666666666666,
              "#ed7953"
             ],
             [
              0.7777777777777778,
              "#fb9f3a"
             ],
             [
              0.8888888888888888,
              "#fdca26"
             ],
             [
              1,
              "#f0f921"
             ]
            ],
            "type": "heatmap"
           }
          ],
          "heatmapgl": [
           {
            "colorbar": {
             "outlinewidth": 0,
             "ticks": ""
            },
            "colorscale": [
             [
              0,
              "#0d0887"
             ],
             [
              0.1111111111111111,
              "#46039f"
             ],
             [
              0.2222222222222222,
              "#7201a8"
             ],
             [
              0.3333333333333333,
              "#9c179e"
             ],
             [
              0.4444444444444444,
              "#bd3786"
             ],
             [
              0.5555555555555556,
              "#d8576b"
             ],
             [
              0.6666666666666666,
              "#ed7953"
             ],
             [
              0.7777777777777778,
              "#fb9f3a"
             ],
             [
              0.8888888888888888,
              "#fdca26"
             ],
             [
              1,
              "#f0f921"
             ]
            ],
            "type": "heatmapgl"
           }
          ],
          "histogram": [
           {
            "marker": {
             "pattern": {
              "fillmode": "overlay",
              "size": 10,
              "solidity": 0.2
             }
            },
            "type": "histogram"
           }
          ],
          "histogram2d": [
           {
            "colorbar": {
             "outlinewidth": 0,
             "ticks": ""
            },
            "colorscale": [
             [
              0,
              "#0d0887"
             ],
             [
              0.1111111111111111,
              "#46039f"
             ],
             [
              0.2222222222222222,
              "#7201a8"
             ],
             [
              0.3333333333333333,
              "#9c179e"
             ],
             [
              0.4444444444444444,
              "#bd3786"
             ],
             [
              0.5555555555555556,
              "#d8576b"
             ],
             [
              0.6666666666666666,
              "#ed7953"
             ],
             [
              0.7777777777777778,
              "#fb9f3a"
             ],
             [
              0.8888888888888888,
              "#fdca26"
             ],
             [
              1,
              "#f0f921"
             ]
            ],
            "type": "histogram2d"
           }
          ],
          "histogram2dcontour": [
           {
            "colorbar": {
             "outlinewidth": 0,
             "ticks": ""
            },
            "colorscale": [
             [
              0,
              "#0d0887"
             ],
             [
              0.1111111111111111,
              "#46039f"
             ],
             [
              0.2222222222222222,
              "#7201a8"
             ],
             [
              0.3333333333333333,
              "#9c179e"
             ],
             [
              0.4444444444444444,
              "#bd3786"
             ],
             [
              0.5555555555555556,
              "#d8576b"
             ],
             [
              0.6666666666666666,
              "#ed7953"
             ],
             [
              0.7777777777777778,
              "#fb9f3a"
             ],
             [
              0.8888888888888888,
              "#fdca26"
             ],
             [
              1,
              "#f0f921"
             ]
            ],
            "type": "histogram2dcontour"
           }
          ],
          "mesh3d": [
           {
            "colorbar": {
             "outlinewidth": 0,
             "ticks": ""
            },
            "type": "mesh3d"
           }
          ],
          "parcoords": [
           {
            "line": {
             "colorbar": {
              "outlinewidth": 0,
              "ticks": ""
             }
            },
            "type": "parcoords"
           }
          ],
          "pie": [
           {
            "automargin": true,
            "type": "pie"
           }
          ],
          "scatter": [
           {
            "fillpattern": {
             "fillmode": "overlay",
             "size": 10,
             "solidity": 0.2
            },
            "type": "scatter"
           }
          ],
          "scatter3d": [
           {
            "line": {
             "colorbar": {
              "outlinewidth": 0,
              "ticks": ""
             }
            },
            "marker": {
             "colorbar": {
              "outlinewidth": 0,
              "ticks": ""
             }
            },
            "type": "scatter3d"
           }
          ],
          "scattercarpet": [
           {
            "marker": {
             "colorbar": {
              "outlinewidth": 0,
              "ticks": ""
             }
            },
            "type": "scattercarpet"
           }
          ],
          "scattergeo": [
           {
            "marker": {
             "colorbar": {
              "outlinewidth": 0,
              "ticks": ""
             }
            },
            "type": "scattergeo"
           }
          ],
          "scattergl": [
           {
            "marker": {
             "colorbar": {
              "outlinewidth": 0,
              "ticks": ""
             }
            },
            "type": "scattergl"
           }
          ],
          "scattermapbox": [
           {
            "marker": {
             "colorbar": {
              "outlinewidth": 0,
              "ticks": ""
             }
            },
            "type": "scattermapbox"
           }
          ],
          "scatterpolar": [
           {
            "marker": {
             "colorbar": {
              "outlinewidth": 0,
              "ticks": ""
             }
            },
            "type": "scatterpolar"
           }
          ],
          "scatterpolargl": [
           {
            "marker": {
             "colorbar": {
              "outlinewidth": 0,
              "ticks": ""
             }
            },
            "type": "scatterpolargl"
           }
          ],
          "scatterternary": [
           {
            "marker": {
             "colorbar": {
              "outlinewidth": 0,
              "ticks": ""
             }
            },
            "type": "scatterternary"
           }
          ],
          "surface": [
           {
            "colorbar": {
             "outlinewidth": 0,
             "ticks": ""
            },
            "colorscale": [
             [
              0,
              "#0d0887"
             ],
             [
              0.1111111111111111,
              "#46039f"
             ],
             [
              0.2222222222222222,
              "#7201a8"
             ],
             [
              0.3333333333333333,
              "#9c179e"
             ],
             [
              0.4444444444444444,
              "#bd3786"
             ],
             [
              0.5555555555555556,
              "#d8576b"
             ],
             [
              0.6666666666666666,
              "#ed7953"
             ],
             [
              0.7777777777777778,
              "#fb9f3a"
             ],
             [
              0.8888888888888888,
              "#fdca26"
             ],
             [
              1,
              "#f0f921"
             ]
            ],
            "type": "surface"
           }
          ],
          "table": [
           {
            "cells": {
             "fill": {
              "color": "#EBF0F8"
             },
             "line": {
              "color": "white"
             }
            },
            "header": {
             "fill": {
              "color": "#C8D4E3"
             },
             "line": {
              "color": "white"
             }
            },
            "type": "table"
           }
          ]
         },
         "layout": {
          "annotationdefaults": {
           "arrowcolor": "#2a3f5f",
           "arrowhead": 0,
           "arrowwidth": 1
          },
          "autotypenumbers": "strict",
          "coloraxis": {
           "colorbar": {
            "outlinewidth": 0,
            "ticks": ""
           }
          },
          "colorscale": {
           "diverging": [
            [
             0,
             "#8e0152"
            ],
            [
             0.1,
             "#c51b7d"
            ],
            [
             0.2,
             "#de77ae"
            ],
            [
             0.3,
             "#f1b6da"
            ],
            [
             0.4,
             "#fde0ef"
            ],
            [
             0.5,
             "#f7f7f7"
            ],
            [
             0.6,
             "#e6f5d0"
            ],
            [
             0.7,
             "#b8e186"
            ],
            [
             0.8,
             "#7fbc41"
            ],
            [
             0.9,
             "#4d9221"
            ],
            [
             1,
             "#276419"
            ]
           ],
           "sequential": [
            [
             0,
             "#0d0887"
            ],
            [
             0.1111111111111111,
             "#46039f"
            ],
            [
             0.2222222222222222,
             "#7201a8"
            ],
            [
             0.3333333333333333,
             "#9c179e"
            ],
            [
             0.4444444444444444,
             "#bd3786"
            ],
            [
             0.5555555555555556,
             "#d8576b"
            ],
            [
             0.6666666666666666,
             "#ed7953"
            ],
            [
             0.7777777777777778,
             "#fb9f3a"
            ],
            [
             0.8888888888888888,
             "#fdca26"
            ],
            [
             1,
             "#f0f921"
            ]
           ],
           "sequentialminus": [
            [
             0,
             "#0d0887"
            ],
            [
             0.1111111111111111,
             "#46039f"
            ],
            [
             0.2222222222222222,
             "#7201a8"
            ],
            [
             0.3333333333333333,
             "#9c179e"
            ],
            [
             0.4444444444444444,
             "#bd3786"
            ],
            [
             0.5555555555555556,
             "#d8576b"
            ],
            [
             0.6666666666666666,
             "#ed7953"
            ],
            [
             0.7777777777777778,
             "#fb9f3a"
            ],
            [
             0.8888888888888888,
             "#fdca26"
            ],
            [
             1,
             "#f0f921"
            ]
           ]
          },
          "colorway": [
           "#636efa",
           "#EF553B",
           "#00cc96",
           "#ab63fa",
           "#FFA15A",
           "#19d3f3",
           "#FF6692",
           "#B6E880",
           "#FF97FF",
           "#FECB52"
          ],
          "font": {
           "color": "#2a3f5f"
          },
          "geo": {
           "bgcolor": "white",
           "lakecolor": "white",
           "landcolor": "#E5ECF6",
           "showlakes": true,
           "showland": true,
           "subunitcolor": "white"
          },
          "hoverlabel": {
           "align": "left"
          },
          "hovermode": "closest",
          "mapbox": {
           "style": "light"
          },
          "paper_bgcolor": "white",
          "plot_bgcolor": "#E5ECF6",
          "polar": {
           "angularaxis": {
            "gridcolor": "white",
            "linecolor": "white",
            "ticks": ""
           },
           "bgcolor": "#E5ECF6",
           "radialaxis": {
            "gridcolor": "white",
            "linecolor": "white",
            "ticks": ""
           }
          },
          "scene": {
           "xaxis": {
            "backgroundcolor": "#E5ECF6",
            "gridcolor": "white",
            "gridwidth": 2,
            "linecolor": "white",
            "showbackground": true,
            "ticks": "",
            "zerolinecolor": "white"
           },
           "yaxis": {
            "backgroundcolor": "#E5ECF6",
            "gridcolor": "white",
            "gridwidth": 2,
            "linecolor": "white",
            "showbackground": true,
            "ticks": "",
            "zerolinecolor": "white"
           },
           "zaxis": {
            "backgroundcolor": "#E5ECF6",
            "gridcolor": "white",
            "gridwidth": 2,
            "linecolor": "white",
            "showbackground": true,
            "ticks": "",
            "zerolinecolor": "white"
           }
          },
          "shapedefaults": {
           "line": {
            "color": "#2a3f5f"
           }
          },
          "ternary": {
           "aaxis": {
            "gridcolor": "white",
            "linecolor": "white",
            "ticks": ""
           },
           "baxis": {
            "gridcolor": "white",
            "linecolor": "white",
            "ticks": ""
           },
           "bgcolor": "#E5ECF6",
           "caxis": {
            "gridcolor": "white",
            "linecolor": "white",
            "ticks": ""
           }
          },
          "title": {
           "x": 0.05
          },
          "xaxis": {
           "automargin": true,
           "gridcolor": "white",
           "linecolor": "white",
           "ticks": "",
           "title": {
            "standoff": 15
           },
           "zerolinecolor": "white",
           "zerolinewidth": 2
          },
          "yaxis": {
           "automargin": true,
           "gridcolor": "white",
           "linecolor": "white",
           "ticks": "",
           "title": {
            "standoff": 15
           },
           "zerolinecolor": "white",
           "zerolinewidth": 2
          }
         }
        },
        "title": {
         "text": "Daily Tweet Counts"
        },
        "xaxis": {
         "anchor": "y",
         "domain": [
          0,
          1
         ],
         "title": {
          "text": "Date"
         }
        },
        "yaxis": {
         "anchor": "x",
         "domain": [
          0,
          1
         ],
         "title": {
          "text": "Number of Tweets"
         }
        }
       }
      },
      "text/html": [
       "<div>                            <div id=\"1b241174-2929-4662-8bd1-ed72e2799baa\" class=\"plotly-graph-div\" style=\"height:525px; width:100%;\"></div>            <script type=\"text/javascript\">                require([\"plotly\"], function(Plotly) {                    window.PLOTLYENV=window.PLOTLYENV || {};                                    if (document.getElementById(\"1b241174-2929-4662-8bd1-ed72e2799baa\")) {                    Plotly.newPlot(                        \"1b241174-2929-4662-8bd1-ed72e2799baa\",                        [{\"alignmentgroup\":\"True\",\"hovertemplate\":\"index=%{x}<br>y=%{y}<extra></extra>\",\"legendgroup\":\"\",\"marker\":{\"color\":\"#636efa\",\"pattern\":{\"shape\":\"\"}},\"name\":\"\",\"offsetgroup\":\"\",\"orientation\":\"v\",\"showlegend\":false,\"textposition\":\"auto\",\"x\":[\"2009-04-06\",\"2009-04-07\",\"2009-04-17\",\"2009-04-18\",\"2009-04-19\",\"2009-04-20\",\"2009-04-21\",\"2009-05-01\",\"2009-05-02\",\"2009-05-03\",\"2009-05-04\",\"2009-05-09\",\"2009-05-10\",\"2009-05-11\",\"2009-05-13\",\"2009-05-14\",\"2009-05-16\",\"2009-05-17\",\"2009-05-18\",\"2009-05-21\",\"2009-05-22\",\"2009-05-23\",\"2009-05-25\",\"2009-05-26\",\"2009-05-27\",\"2009-05-28\",\"2009-05-29\",\"2009-05-30\",\"2009-05-31\",\"2009-06-01\",\"2009-06-02\",\"2009-06-03\",\"2009-06-04\",\"2009-06-05\",\"2009-06-06\",\"2009-06-07\",\"2009-06-14\",\"2009-06-15\",\"2009-06-16\",\"2009-06-17\",\"2009-06-18\",\"2009-06-19\",\"2009-06-20\",\"2009-06-21\",\"2009-06-22\",\"2009-06-23\",\"2009-06-24\",\"2009-06-25\"],\"xaxis\":\"x\",\"y\":[3360,17311,3084,21754,27469,18460,8587,7716,27434,35333,15481,11739,26029,4186,4066,17460,9146,40154,36469,2132,39074,169,169,10778,841,15903,73827,103673,94588,110290,64192,41588,7842,58757,111676,96350,8272,109781,67980,44012,43004,43136,45364,16360,12009,17002,6299,19694],\"yaxis\":\"y\",\"type\":\"bar\"}],                        {\"template\":{\"data\":{\"histogram2dcontour\":[{\"type\":\"histogram2dcontour\",\"colorbar\":{\"outlinewidth\":0,\"ticks\":\"\"},\"colorscale\":[[0.0,\"#0d0887\"],[0.1111111111111111,\"#46039f\"],[0.2222222222222222,\"#7201a8\"],[0.3333333333333333,\"#9c179e\"],[0.4444444444444444,\"#bd3786\"],[0.5555555555555556,\"#d8576b\"],[0.6666666666666666,\"#ed7953\"],[0.7777777777777778,\"#fb9f3a\"],[0.8888888888888888,\"#fdca26\"],[1.0,\"#f0f921\"]]}],\"choropleth\":[{\"type\":\"choropleth\",\"colorbar\":{\"outlinewidth\":0,\"ticks\":\"\"}}],\"histogram2d\":[{\"type\":\"histogram2d\",\"colorbar\":{\"outlinewidth\":0,\"ticks\":\"\"},\"colorscale\":[[0.0,\"#0d0887\"],[0.1111111111111111,\"#46039f\"],[0.2222222222222222,\"#7201a8\"],[0.3333333333333333,\"#9c179e\"],[0.4444444444444444,\"#bd3786\"],[0.5555555555555556,\"#d8576b\"],[0.6666666666666666,\"#ed7953\"],[0.7777777777777778,\"#fb9f3a\"],[0.8888888888888888,\"#fdca26\"],[1.0,\"#f0f921\"]]}],\"heatmap\":[{\"type\":\"heatmap\",\"colorbar\":{\"outlinewidth\":0,\"ticks\":\"\"},\"colorscale\":[[0.0,\"#0d0887\"],[0.1111111111111111,\"#46039f\"],[0.2222222222222222,\"#7201a8\"],[0.3333333333333333,\"#9c179e\"],[0.4444444444444444,\"#bd3786\"],[0.5555555555555556,\"#d8576b\"],[0.6666666666666666,\"#ed7953\"],[0.7777777777777778,\"#fb9f3a\"],[0.8888888888888888,\"#fdca26\"],[1.0,\"#f0f921\"]]}],\"heatmapgl\":[{\"type\":\"heatmapgl\",\"colorbar\":{\"outlinewidth\":0,\"ticks\":\"\"},\"colorscale\":[[0.0,\"#0d0887\"],[0.1111111111111111,\"#46039f\"],[0.2222222222222222,\"#7201a8\"],[0.3333333333333333,\"#9c179e\"],[0.4444444444444444,\"#bd3786\"],[0.5555555555555556,\"#d8576b\"],[0.6666666666666666,\"#ed7953\"],[0.7777777777777778,\"#fb9f3a\"],[0.8888888888888888,\"#fdca26\"],[1.0,\"#f0f921\"]]}],\"contourcarpet\":[{\"type\":\"contourcarpet\",\"colorbar\":{\"outlinewidth\":0,\"ticks\":\"\"}}],\"contour\":[{\"type\":\"contour\",\"colorbar\":{\"outlinewidth\":0,\"ticks\":\"\"},\"colorscale\":[[0.0,\"#0d0887\"],[0.1111111111111111,\"#46039f\"],[0.2222222222222222,\"#7201a8\"],[0.3333333333333333,\"#9c179e\"],[0.4444444444444444,\"#bd3786\"],[0.5555555555555556,\"#d8576b\"],[0.6666666666666666,\"#ed7953\"],[0.7777777777777778,\"#fb9f3a\"],[0.8888888888888888,\"#fdca26\"],[1.0,\"#f0f921\"]]}],\"surface\":[{\"type\":\"surface\",\"colorbar\":{\"outlinewidth\":0,\"ticks\":\"\"},\"colorscale\":[[0.0,\"#0d0887\"],[0.1111111111111111,\"#46039f\"],[0.2222222222222222,\"#7201a8\"],[0.3333333333333333,\"#9c179e\"],[0.4444444444444444,\"#bd3786\"],[0.5555555555555556,\"#d8576b\"],[0.6666666666666666,\"#ed7953\"],[0.7777777777777778,\"#fb9f3a\"],[0.8888888888888888,\"#fdca26\"],[1.0,\"#f0f921\"]]}],\"mesh3d\":[{\"type\":\"mesh3d\",\"colorbar\":{\"outlinewidth\":0,\"ticks\":\"\"}}],\"scatter\":[{\"fillpattern\":{\"fillmode\":\"overlay\",\"size\":10,\"solidity\":0.2},\"type\":\"scatter\"}],\"parcoords\":[{\"type\":\"parcoords\",\"line\":{\"colorbar\":{\"outlinewidth\":0,\"ticks\":\"\"}}}],\"scatterpolargl\":[{\"type\":\"scatterpolargl\",\"marker\":{\"colorbar\":{\"outlinewidth\":0,\"ticks\":\"\"}}}],\"bar\":[{\"error_x\":{\"color\":\"#2a3f5f\"},\"error_y\":{\"color\":\"#2a3f5f\"},\"marker\":{\"line\":{\"color\":\"#E5ECF6\",\"width\":0.5},\"pattern\":{\"fillmode\":\"overlay\",\"size\":10,\"solidity\":0.2}},\"type\":\"bar\"}],\"scattergeo\":[{\"type\":\"scattergeo\",\"marker\":{\"colorbar\":{\"outlinewidth\":0,\"ticks\":\"\"}}}],\"scatterpolar\":[{\"type\":\"scatterpolar\",\"marker\":{\"colorbar\":{\"outlinewidth\":0,\"ticks\":\"\"}}}],\"histogram\":[{\"marker\":{\"pattern\":{\"fillmode\":\"overlay\",\"size\":10,\"solidity\":0.2}},\"type\":\"histogram\"}],\"scattergl\":[{\"type\":\"scattergl\",\"marker\":{\"colorbar\":{\"outlinewidth\":0,\"ticks\":\"\"}}}],\"scatter3d\":[{\"type\":\"scatter3d\",\"line\":{\"colorbar\":{\"outlinewidth\":0,\"ticks\":\"\"}},\"marker\":{\"colorbar\":{\"outlinewidth\":0,\"ticks\":\"\"}}}],\"scattermapbox\":[{\"type\":\"scattermapbox\",\"marker\":{\"colorbar\":{\"outlinewidth\":0,\"ticks\":\"\"}}}],\"scatterternary\":[{\"type\":\"scatterternary\",\"marker\":{\"colorbar\":{\"outlinewidth\":0,\"ticks\":\"\"}}}],\"scattercarpet\":[{\"type\":\"scattercarpet\",\"marker\":{\"colorbar\":{\"outlinewidth\":0,\"ticks\":\"\"}}}],\"carpet\":[{\"aaxis\":{\"endlinecolor\":\"#2a3f5f\",\"gridcolor\":\"white\",\"linecolor\":\"white\",\"minorgridcolor\":\"white\",\"startlinecolor\":\"#2a3f5f\"},\"baxis\":{\"endlinecolor\":\"#2a3f5f\",\"gridcolor\":\"white\",\"linecolor\":\"white\",\"minorgridcolor\":\"white\",\"startlinecolor\":\"#2a3f5f\"},\"type\":\"carpet\"}],\"table\":[{\"cells\":{\"fill\":{\"color\":\"#EBF0F8\"},\"line\":{\"color\":\"white\"}},\"header\":{\"fill\":{\"color\":\"#C8D4E3\"},\"line\":{\"color\":\"white\"}},\"type\":\"table\"}],\"barpolar\":[{\"marker\":{\"line\":{\"color\":\"#E5ECF6\",\"width\":0.5},\"pattern\":{\"fillmode\":\"overlay\",\"size\":10,\"solidity\":0.2}},\"type\":\"barpolar\"}],\"pie\":[{\"automargin\":true,\"type\":\"pie\"}]},\"layout\":{\"autotypenumbers\":\"strict\",\"colorway\":[\"#636efa\",\"#EF553B\",\"#00cc96\",\"#ab63fa\",\"#FFA15A\",\"#19d3f3\",\"#FF6692\",\"#B6E880\",\"#FF97FF\",\"#FECB52\"],\"font\":{\"color\":\"#2a3f5f\"},\"hovermode\":\"closest\",\"hoverlabel\":{\"align\":\"left\"},\"paper_bgcolor\":\"white\",\"plot_bgcolor\":\"#E5ECF6\",\"polar\":{\"bgcolor\":\"#E5ECF6\",\"angularaxis\":{\"gridcolor\":\"white\",\"linecolor\":\"white\",\"ticks\":\"\"},\"radialaxis\":{\"gridcolor\":\"white\",\"linecolor\":\"white\",\"ticks\":\"\"}},\"ternary\":{\"bgcolor\":\"#E5ECF6\",\"aaxis\":{\"gridcolor\":\"white\",\"linecolor\":\"white\",\"ticks\":\"\"},\"baxis\":{\"gridcolor\":\"white\",\"linecolor\":\"white\",\"ticks\":\"\"},\"caxis\":{\"gridcolor\":\"white\",\"linecolor\":\"white\",\"ticks\":\"\"}},\"coloraxis\":{\"colorbar\":{\"outlinewidth\":0,\"ticks\":\"\"}},\"colorscale\":{\"sequential\":[[0.0,\"#0d0887\"],[0.1111111111111111,\"#46039f\"],[0.2222222222222222,\"#7201a8\"],[0.3333333333333333,\"#9c179e\"],[0.4444444444444444,\"#bd3786\"],[0.5555555555555556,\"#d8576b\"],[0.6666666666666666,\"#ed7953\"],[0.7777777777777778,\"#fb9f3a\"],[0.8888888888888888,\"#fdca26\"],[1.0,\"#f0f921\"]],\"sequentialminus\":[[0.0,\"#0d0887\"],[0.1111111111111111,\"#46039f\"],[0.2222222222222222,\"#7201a8\"],[0.3333333333333333,\"#9c179e\"],[0.4444444444444444,\"#bd3786\"],[0.5555555555555556,\"#d8576b\"],[0.6666666666666666,\"#ed7953\"],[0.7777777777777778,\"#fb9f3a\"],[0.8888888888888888,\"#fdca26\"],[1.0,\"#f0f921\"]],\"diverging\":[[0,\"#8e0152\"],[0.1,\"#c51b7d\"],[0.2,\"#de77ae\"],[0.3,\"#f1b6da\"],[0.4,\"#fde0ef\"],[0.5,\"#f7f7f7\"],[0.6,\"#e6f5d0\"],[0.7,\"#b8e186\"],[0.8,\"#7fbc41\"],[0.9,\"#4d9221\"],[1,\"#276419\"]]},\"xaxis\":{\"gridcolor\":\"white\",\"linecolor\":\"white\",\"ticks\":\"\",\"title\":{\"standoff\":15},\"zerolinecolor\":\"white\",\"automargin\":true,\"zerolinewidth\":2},\"yaxis\":{\"gridcolor\":\"white\",\"linecolor\":\"white\",\"ticks\":\"\",\"title\":{\"standoff\":15},\"zerolinecolor\":\"white\",\"automargin\":true,\"zerolinewidth\":2},\"scene\":{\"xaxis\":{\"backgroundcolor\":\"#E5ECF6\",\"gridcolor\":\"white\",\"linecolor\":\"white\",\"showbackground\":true,\"ticks\":\"\",\"zerolinecolor\":\"white\",\"gridwidth\":2},\"yaxis\":{\"backgroundcolor\":\"#E5ECF6\",\"gridcolor\":\"white\",\"linecolor\":\"white\",\"showbackground\":true,\"ticks\":\"\",\"zerolinecolor\":\"white\",\"gridwidth\":2},\"zaxis\":{\"backgroundcolor\":\"#E5ECF6\",\"gridcolor\":\"white\",\"linecolor\":\"white\",\"showbackground\":true,\"ticks\":\"\",\"zerolinecolor\":\"white\",\"gridwidth\":2}},\"shapedefaults\":{\"line\":{\"color\":\"#2a3f5f\"}},\"annotationdefaults\":{\"arrowcolor\":\"#2a3f5f\",\"arrowhead\":0,\"arrowwidth\":1},\"geo\":{\"bgcolor\":\"white\",\"landcolor\":\"#E5ECF6\",\"subunitcolor\":\"white\",\"showland\":true,\"showlakes\":true,\"lakecolor\":\"white\"},\"title\":{\"x\":0.05},\"mapbox\":{\"style\":\"light\"}}},\"xaxis\":{\"anchor\":\"y\",\"domain\":[0.0,1.0],\"title\":{\"text\":\"Date\"}},\"yaxis\":{\"anchor\":\"x\",\"domain\":[0.0,1.0],\"title\":{\"text\":\"Number of Tweets\"}},\"legend\":{\"tracegroupgap\":0},\"margin\":{\"t\":60},\"barmode\":\"relative\",\"title\":{\"text\":\"Daily Tweet Counts\"}},                        {\"responsive\": true}                    ).then(function(){\n",
       "                            \n",
       "var gd = document.getElementById('1b241174-2929-4662-8bd1-ed72e2799baa');\n",
       "var x = new MutationObserver(function (mutations, observer) {{\n",
       "        var display = window.getComputedStyle(gd).display;\n",
       "        if (!display || display === 'none') {{\n",
       "            console.log([gd, 'removed!']);\n",
       "            Plotly.purge(gd);\n",
       "            observer.disconnect();\n",
       "        }}\n",
       "}});\n",
       "\n",
       "// Listen for the removal of the full notebook cells\n",
       "var notebookContainer = gd.closest('#notebook-container');\n",
       "if (notebookContainer) {{\n",
       "    x.observe(notebookContainer, {childList: true});\n",
       "}}\n",
       "\n",
       "// Listen for the clearing of the current output cell\n",
       "var outputEl = gd.closest('.output');\n",
       "if (outputEl) {{\n",
       "    x.observe(outputEl, {childList: true});\n",
       "}}\n",
       "\n",
       "                        })                };                });            </script>        </div>"
      ]
     },
     "metadata": {},
     "output_type": "display_data"
    }
   ],
   "source": [
    "# Show the figure in a Jupyter notebook\n",
    "daily_tweet_count_fig.show()"
   ]
  },
  {
   "cell_type": "markdown",
   "id": "98792db0",
   "metadata": {},
   "source": [
    "### 4.3 Tweet Sentiment Analysis Interactiver Dashboard"
   ]
  },
  {
   "cell_type": "code",
   "execution_count": 144,
   "id": "7da7ca92",
   "metadata": {
    "scrolled": false
   },
   "outputs": [],
   "source": [
    "# Define color mappings\n",
    "color_map = {'Negative': 'red', 'Neutral': 'orange', 'Positive': 'green', 'Average Sentiment Score': 'blue'}\n",
    "\n",
    "# Choose a color scheme for your dashboard\n",
    "color_scheme = {\n",
    "    'background': '#1E1E1E',\n",
    "    'text': '#7FDBFF',\n",
    "    'graph_bg': '#32383E',\n",
    "    'red': '#FF4136',\n",
    "    'green': '#2ECC40',\n",
    "    'blue': '#0074D9',\n",
    "    'orange': '#FF851B'\n",
    "}\n",
    "\n",
    "\n",
    "# Initialize the Dash app\n",
    "app = dash.Dash(__name__)\n",
    "\n",
    "app.layout = html.Div(\n",
    "    style={'backgroundColor': color_scheme['background'], 'padding': '20px'}, \n",
    "    children=[\n",
    "        html.H1(\n",
    "            \"Tweet Sentiment Dashboard\",\n",
    "            style={'textAlign': 'center', 'color': color_scheme['text']}\n",
    "        ),\n",
    "        \n",
    "        html.Div(id='graphs-container', style={'display': 'flex', 'flexDirection': 'column', 'gap': '20px'}, children=[\n",
    "            dcc.Graph(\n",
    "                id='daily-tweet-counts', \n",
    "                figure=daily_tweet_count_fig,  # Set the figure directly\n",
    "                config={'displayModeBar': False}\n",
    "            ),\n",
    "            dcc.Graph(\n",
    "                id='sentiment-graph', \n",
    "                config={'displayModeBar': False}\n",
    "            ),\n",
    "            dcc.Graph(\n",
    "                id='top-usernames-graph', \n",
    "                figure=top_usernames_fig,  # Set the figure directly\n",
    "                config={'displayModeBar': False}\n",
    "            ),\n",
    "        ]),\n",
    "\n",
    "        html.Div(className='controls', style={'textAlign': 'center', 'margin': '30px'}, children=[\n",
    "            html.P(\"Select range of dates:\", style={'color': color_scheme['text']}),\n",
    "            dcc.DatePickerRange(\n",
    "                id='date-picker-range',\n",
    "                start_date=grouped_df['date'].min().date(),\n",
    "                end_date=grouped_df['date'].max().date(),\n",
    "                min_date_allowed=grouped_df['date'].min().date(),\n",
    "                max_date_allowed=grouped_df['date'].max().date(),\n",
    "                style={'backgroundColor': color_scheme['graph_bg'], 'color': color_scheme['text']}\n",
    "            ),\n",
    "        ]),\n",
    "    ]\n",
    ")\n",
    "\n",
    "# Define the callback to update the graph\n",
    "@app.callback(\n",
    "    Output('sentiment-graph', 'figure'),\n",
    "    [Input('date-picker-range', 'start_date'),\n",
    "     Input('date-picker-range', 'end_date')]\n",
    ")\n",
    "def update_graph(start_date, end_date):\n",
    "    # Filter the DataFrame based on the date range picker\n",
    "    mask = (grouped_df['date'] >= start_date) & (grouped_df['date'] <= end_date)\n",
    "    filtered_df = grouped_df.loc[mask]\n",
    "    \n",
    "    # Create a figure with secondary y-axis\n",
    "    fig = make_subplots(specs=[[{\"secondary_y\": True}]])\n",
    "    \n",
    "    # Add traces for count of tweets\n",
    "    for sentiment_label, color in color_map.items():\n",
    "        df_filtered = filtered_df[filtered_df['sentiment_label'] == sentiment_label]\n",
    "        fig.add_trace(\n",
    "            go.Scatter(\n",
    "                x=df_filtered['date'], \n",
    "                y=df_filtered['count_tweets'],\n",
    "                mode='lines', \n",
    "                name=f'Count of Tweets ({sentiment_label})',\n",
    "                line=dict(color=color)\n",
    "            ),\n",
    "            secondary_y=False,\n",
    "        )\n",
    "    \n",
    "    # Add trace for average sentiment score\n",
    "    fig.add_trace(\n",
    "        go.Scatter(\n",
    "            x=filtered_df['date'], \n",
    "            y=filtered_df['average_sentiment_score'],\n",
    "            mode='lines', \n",
    "            name='Average Sentiment Score', \n",
    "            line=dict(color='pink')\n",
    "        ),\n",
    "        secondary_y=True,\n",
    "    )\n",
    "    \n",
    "    # Update layout\n",
    "    fig.update_layout(\n",
    "        title='Sentiment Analysis Dashboard',\n",
    "        xaxis_title='Date',\n",
    "        yaxis_title='Count of Tweets',\n",
    "        template='plotly_dark'\n",
    "    )\n",
    "    \n",
    "    # Update y-axes titles\n",
    "    fig.update_yaxes(title_text='Count of Tweets', secondary_y=False)\n",
    "    fig.update_yaxes(title_text='Average Sentiment Score', secondary_y=True, range=[-10, 5])\n",
    "    \n",
    "    return fig\n",
    "\n",
    "\n"
   ]
  },
  {
   "cell_type": "code",
   "execution_count": 145,
   "id": "6ac30bbd",
   "metadata": {},
   "outputs": [
    {
     "data": {
      "text/html": [
       "\n",
       "        <iframe\n",
       "            width=\"100%\"\n",
       "            height=\"650\"\n",
       "            src=\"http://127.0.0.1:8050/\"\n",
       "            frameborder=\"0\"\n",
       "            allowfullscreen\n",
       "            \n",
       "        ></iframe>\n",
       "        "
      ],
      "text/plain": [
       "<IPython.lib.display.IFrame at 0x18cbc86b730>"
      ]
     },
     "metadata": {},
     "output_type": "display_data"
    }
   ],
   "source": [
    "# Run the app\n",
    "if __name__ == '__main__':\n",
    "    app.run_server(mode='external',debug=True)"
   ]
  },
  {
   "cell_type": "markdown",
   "id": "8890f65d",
   "metadata": {},
   "source": [
    "## Step 5:  Interpoloation techqniues for time-Series Forecasting"
   ]
  },
  {
   "cell_type": "code",
   "execution_count": 146,
   "id": "802514d7",
   "metadata": {
    "scrolled": true
   },
   "outputs": [
    {
     "data": {
      "text/html": [
       "<div>\n",
       "<style scoped>\n",
       "    .dataframe tbody tr th:only-of-type {\n",
       "        vertical-align: middle;\n",
       "    }\n",
       "\n",
       "    .dataframe tbody tr th {\n",
       "        vertical-align: top;\n",
       "    }\n",
       "\n",
       "    .dataframe thead th {\n",
       "        text-align: right;\n",
       "    }\n",
       "</style>\n",
       "<table border=\"1\" class=\"dataframe\">\n",
       "  <thead>\n",
       "    <tr style=\"text-align: right;\">\n",
       "      <th></th>\n",
       "      <th>ids</th>\n",
       "      <th>date</th>\n",
       "      <th>username</th>\n",
       "      <th>text</th>\n",
       "      <th>vader_sentiment</th>\n",
       "      <th>sentiment_label</th>\n",
       "    </tr>\n",
       "  </thead>\n",
       "  <tbody>\n",
       "    <tr>\n",
       "      <th>0</th>\n",
       "      <td>1467810369</td>\n",
       "      <td>2009-04-06</td>\n",
       "      <td>_TheSpecialOne_</td>\n",
       "      <td>- awww, that's a bummer.  you shoulda got da...</td>\n",
       "      <td>-0.2023</td>\n",
       "      <td>Negative</td>\n",
       "    </tr>\n",
       "    <tr>\n",
       "      <th>1</th>\n",
       "      <td>1467810672</td>\n",
       "      <td>2009-04-06</td>\n",
       "      <td>scotthamilton</td>\n",
       "      <td>is upset that he can't update his facebook by ...</td>\n",
       "      <td>-0.7500</td>\n",
       "      <td>Negative</td>\n",
       "    </tr>\n",
       "    <tr>\n",
       "      <th>2</th>\n",
       "      <td>1467810917</td>\n",
       "      <td>2009-04-06</td>\n",
       "      <td>mattycus</td>\n",
       "      <td>i dived many times for the ball. managed to s...</td>\n",
       "      <td>0.4939</td>\n",
       "      <td>Positive</td>\n",
       "    </tr>\n",
       "    <tr>\n",
       "      <th>3</th>\n",
       "      <td>1467811184</td>\n",
       "      <td>2009-04-06</td>\n",
       "      <td>ElleCTF</td>\n",
       "      <td>my whole body feels itchy and like its on fire</td>\n",
       "      <td>-0.2500</td>\n",
       "      <td>Negative</td>\n",
       "    </tr>\n",
       "    <tr>\n",
       "      <th>4</th>\n",
       "      <td>1467811193</td>\n",
       "      <td>2009-04-06</td>\n",
       "      <td>Karoli</td>\n",
       "      <td>no, it's not behaving at all. i'm mad. why am...</td>\n",
       "      <td>-0.6597</td>\n",
       "      <td>Negative</td>\n",
       "    </tr>\n",
       "    <tr>\n",
       "      <th>5</th>\n",
       "      <td>1467811372</td>\n",
       "      <td>2009-04-06</td>\n",
       "      <td>joy_wolf</td>\n",
       "      <td>not the whole crew</td>\n",
       "      <td>0.0000</td>\n",
       "      <td>Neutral</td>\n",
       "    </tr>\n",
       "    <tr>\n",
       "      <th>6</th>\n",
       "      <td>1467811592</td>\n",
       "      <td>2009-04-06</td>\n",
       "      <td>mybirch</td>\n",
       "      <td>need a hug</td>\n",
       "      <td>0.4767</td>\n",
       "      <td>Positive</td>\n",
       "    </tr>\n",
       "    <tr>\n",
       "      <th>7</th>\n",
       "      <td>1467811594</td>\n",
       "      <td>2009-04-06</td>\n",
       "      <td>coZZ</td>\n",
       "      <td>hey  long time no see! yes.. rains a bit ,onl...</td>\n",
       "      <td>0.6800</td>\n",
       "      <td>Positive</td>\n",
       "    </tr>\n",
       "    <tr>\n",
       "      <th>8</th>\n",
       "      <td>1467811795</td>\n",
       "      <td>2009-04-06</td>\n",
       "      <td>2Hood4Hollywood</td>\n",
       "      <td>_k nope they didn't have it</td>\n",
       "      <td>0.0000</td>\n",
       "      <td>Neutral</td>\n",
       "    </tr>\n",
       "    <tr>\n",
       "      <th>9</th>\n",
       "      <td>1467812025</td>\n",
       "      <td>2009-04-06</td>\n",
       "      <td>mimismo</td>\n",
       "      <td>que me muera ?</td>\n",
       "      <td>0.0000</td>\n",
       "      <td>Neutral</td>\n",
       "    </tr>\n",
       "  </tbody>\n",
       "</table>\n",
       "</div>"
      ],
      "text/plain": [
       "          ids        date         username  \\\n",
       "0  1467810369  2009-04-06  _TheSpecialOne_   \n",
       "1  1467810672  2009-04-06    scotthamilton   \n",
       "2  1467810917  2009-04-06         mattycus   \n",
       "3  1467811184  2009-04-06          ElleCTF   \n",
       "4  1467811193  2009-04-06           Karoli   \n",
       "5  1467811372  2009-04-06         joy_wolf   \n",
       "6  1467811592  2009-04-06          mybirch   \n",
       "7  1467811594  2009-04-06             coZZ   \n",
       "8  1467811795  2009-04-06  2Hood4Hollywood   \n",
       "9  1467812025  2009-04-06          mimismo   \n",
       "\n",
       "                                                text  vader_sentiment  \\\n",
       "0    - awww, that's a bummer.  you shoulda got da...          -0.2023   \n",
       "1  is upset that he can't update his facebook by ...          -0.7500   \n",
       "2   i dived many times for the ball. managed to s...           0.4939   \n",
       "3    my whole body feels itchy and like its on fire           -0.2500   \n",
       "4   no, it's not behaving at all. i'm mad. why am...          -0.6597   \n",
       "5                                not the whole crew            0.0000   \n",
       "6                                        need a hug            0.4767   \n",
       "7   hey  long time no see! yes.. rains a bit ,onl...           0.6800   \n",
       "8                       _k nope they didn't have it            0.0000   \n",
       "9                                    que me muera ?            0.0000   \n",
       "\n",
       "  sentiment_label  \n",
       "0        Negative  \n",
       "1        Negative  \n",
       "2        Positive  \n",
       "3        Negative  \n",
       "4        Negative  \n",
       "5         Neutral  \n",
       "6        Positive  \n",
       "7        Positive  \n",
       "8         Neutral  \n",
       "9         Neutral  "
      ]
     },
     "execution_count": 146,
     "metadata": {},
     "output_type": "execute_result"
    }
   ],
   "source": [
    "pandas_df.head(10)\n"
   ]
  },
  {
   "cell_type": "code",
   "execution_count": 147,
   "id": "2494a647",
   "metadata": {
    "scrolled": true
   },
   "outputs": [
    {
     "data": {
      "text/html": [
       "<div>\n",
       "<style scoped>\n",
       "    .dataframe tbody tr th:only-of-type {\n",
       "        vertical-align: middle;\n",
       "    }\n",
       "\n",
       "    .dataframe tbody tr th {\n",
       "        vertical-align: top;\n",
       "    }\n",
       "\n",
       "    .dataframe thead th {\n",
       "        text-align: right;\n",
       "    }\n",
       "</style>\n",
       "<table border=\"1\" class=\"dataframe\">\n",
       "  <thead>\n",
       "    <tr style=\"text-align: right;\">\n",
       "      <th></th>\n",
       "      <th>ids</th>\n",
       "      <th>date</th>\n",
       "      <th>username</th>\n",
       "      <th>text</th>\n",
       "      <th>vader_sentiment</th>\n",
       "      <th>sentiment_label</th>\n",
       "    </tr>\n",
       "  </thead>\n",
       "  <tbody>\n",
       "    <tr>\n",
       "      <th>1599990</th>\n",
       "      <td>2193579249</td>\n",
       "      <td>2009-06-16</td>\n",
       "      <td>razzberry5594</td>\n",
       "      <td>wooooo! xbox is back</td>\n",
       "      <td>0.0000</td>\n",
       "      <td>Neutral</td>\n",
       "    </tr>\n",
       "    <tr>\n",
       "      <th>1599991</th>\n",
       "      <td>2193579284</td>\n",
       "      <td>2009-06-16</td>\n",
       "      <td>AgustinaP</td>\n",
       "      <td>mmmm  that sounds absolutely perfect... but ...</td>\n",
       "      <td>-0.6467</td>\n",
       "      <td>Negative</td>\n",
       "    </tr>\n",
       "    <tr>\n",
       "      <th>1599992</th>\n",
       "      <td>2193579434</td>\n",
       "      <td>2009-06-16</td>\n",
       "      <td>sdancingsteph</td>\n",
       "      <td>recovering from the long weekend</td>\n",
       "      <td>0.0000</td>\n",
       "      <td>Neutral</td>\n",
       "    </tr>\n",
       "    <tr>\n",
       "      <th>1599993</th>\n",
       "      <td>2193579477</td>\n",
       "      <td>2009-06-16</td>\n",
       "      <td>ChloeAmisha</td>\n",
       "      <td>_gritboys</td>\n",
       "      <td>0.0000</td>\n",
       "      <td>Neutral</td>\n",
       "    </tr>\n",
       "    <tr>\n",
       "      <th>1599994</th>\n",
       "      <td>2193579489</td>\n",
       "      <td>2009-06-16</td>\n",
       "      <td>EvolveTom</td>\n",
       "      <td>_forster yeah, that does work better than just...</td>\n",
       "      <td>0.7906</td>\n",
       "      <td>Positive</td>\n",
       "    </tr>\n",
       "    <tr>\n",
       "      <th>1599995</th>\n",
       "      <td>2193601966</td>\n",
       "      <td>2009-06-16</td>\n",
       "      <td>AmandaMarie1028</td>\n",
       "      <td>just woke up. having no school is the best fee...</td>\n",
       "      <td>0.5423</td>\n",
       "      <td>Positive</td>\n",
       "    </tr>\n",
       "    <tr>\n",
       "      <th>1599996</th>\n",
       "      <td>2193601969</td>\n",
       "      <td>2009-06-16</td>\n",
       "      <td>TheWDBoards</td>\n",
       "      <td>thewdb.com - very cool to hear old walt interv...</td>\n",
       "      <td>0.4376</td>\n",
       "      <td>Positive</td>\n",
       "    </tr>\n",
       "    <tr>\n",
       "      <th>1599997</th>\n",
       "      <td>2193601991</td>\n",
       "      <td>2009-06-16</td>\n",
       "      <td>bpbabe</td>\n",
       "      <td>are you ready for your mojo makeover? ask me f...</td>\n",
       "      <td>0.3612</td>\n",
       "      <td>Positive</td>\n",
       "    </tr>\n",
       "    <tr>\n",
       "      <th>1599998</th>\n",
       "      <td>2193602064</td>\n",
       "      <td>2009-06-16</td>\n",
       "      <td>tinydiamondz</td>\n",
       "      <td>happy 38th birthday to my boo of alll time!!! ...</td>\n",
       "      <td>0.6784</td>\n",
       "      <td>Positive</td>\n",
       "    </tr>\n",
       "    <tr>\n",
       "      <th>1599999</th>\n",
       "      <td>2193602129</td>\n",
       "      <td>2009-06-16</td>\n",
       "      <td>RyanTrevMorris</td>\n",
       "      <td>happy charitytuesday</td>\n",
       "      <td>0.5719</td>\n",
       "      <td>Positive</td>\n",
       "    </tr>\n",
       "  </tbody>\n",
       "</table>\n",
       "</div>"
      ],
      "text/plain": [
       "                ids        date         username  \\\n",
       "1599990  2193579249  2009-06-16    razzberry5594   \n",
       "1599991  2193579284  2009-06-16        AgustinaP   \n",
       "1599992  2193579434  2009-06-16    sdancingsteph   \n",
       "1599993  2193579477  2009-06-16      ChloeAmisha   \n",
       "1599994  2193579489  2009-06-16        EvolveTom   \n",
       "1599995  2193601966  2009-06-16  AmandaMarie1028   \n",
       "1599996  2193601969  2009-06-16      TheWDBoards   \n",
       "1599997  2193601991  2009-06-16           bpbabe   \n",
       "1599998  2193602064  2009-06-16     tinydiamondz   \n",
       "1599999  2193602129  2009-06-16   RyanTrevMorris   \n",
       "\n",
       "                                                      text  vader_sentiment  \\\n",
       "1599990                              wooooo! xbox is back            0.0000   \n",
       "1599991    mmmm  that sounds absolutely perfect... but ...          -0.6467   \n",
       "1599992                  recovering from the long weekend            0.0000   \n",
       "1599993                                         _gritboys            0.0000   \n",
       "1599994  _forster yeah, that does work better than just...           0.7906   \n",
       "1599995  just woke up. having no school is the best fee...           0.5423   \n",
       "1599996  thewdb.com - very cool to hear old walt interv...           0.4376   \n",
       "1599997  are you ready for your mojo makeover? ask me f...           0.3612   \n",
       "1599998  happy 38th birthday to my boo of alll time!!! ...           0.6784   \n",
       "1599999                           happy charitytuesday               0.5719   \n",
       "\n",
       "        sentiment_label  \n",
       "1599990         Neutral  \n",
       "1599991        Negative  \n",
       "1599992         Neutral  \n",
       "1599993         Neutral  \n",
       "1599994        Positive  \n",
       "1599995        Positive  \n",
       "1599996        Positive  \n",
       "1599997        Positive  \n",
       "1599998        Positive  \n",
       "1599999        Positive  "
      ]
     },
     "execution_count": 147,
     "metadata": {},
     "output_type": "execute_result"
    }
   ],
   "source": [
    "pandas_df.tail(10)"
   ]
  },
  {
   "cell_type": "code",
   "execution_count": 148,
   "id": "92731960",
   "metadata": {},
   "outputs": [],
   "source": [
    "pandas_df[\"date\"] = pd.to_datetime(pandas_df[\"date\"])\n"
   ]
  },
  {
   "cell_type": "markdown",
   "id": "71a2924c",
   "metadata": {},
   "source": [
    "### Calculate average sentiment score per day to use for Time-series forecasting"
   ]
  },
  {
   "cell_type": "code",
   "execution_count": 149,
   "id": "1aacd783",
   "metadata": {},
   "outputs": [],
   "source": [
    "forecast_df = pandas_df.groupby(\"date\").agg(average_sentiment_score=(\"vader_sentiment\", \"mean\"), total_tweets=(\"vader_sentiment\", \"count\"))\n"
   ]
  },
  {
   "cell_type": "code",
   "execution_count": 150,
   "id": "0c097db6",
   "metadata": {},
   "outputs": [],
   "source": [
    "# Reset the index\n",
    "forecast_df = forecast_df.reset_index('date')\n",
    "\n"
   ]
  },
  {
   "cell_type": "code",
   "execution_count": 151,
   "id": "61aa580a",
   "metadata": {},
   "outputs": [
    {
     "data": {
      "text/html": [
       "<div>\n",
       "<style scoped>\n",
       "    .dataframe tbody tr th:only-of-type {\n",
       "        vertical-align: middle;\n",
       "    }\n",
       "\n",
       "    .dataframe tbody tr th {\n",
       "        vertical-align: top;\n",
       "    }\n",
       "\n",
       "    .dataframe thead th {\n",
       "        text-align: right;\n",
       "    }\n",
       "</style>\n",
       "<table border=\"1\" class=\"dataframe\">\n",
       "  <thead>\n",
       "    <tr style=\"text-align: right;\">\n",
       "      <th></th>\n",
       "      <th>date</th>\n",
       "      <th>average_sentiment_score</th>\n",
       "      <th>total_tweets</th>\n",
       "    </tr>\n",
       "  </thead>\n",
       "  <tbody>\n",
       "    <tr>\n",
       "      <th>0</th>\n",
       "      <td>2009-04-06</td>\n",
       "      <td>0.141272</td>\n",
       "      <td>3360</td>\n",
       "    </tr>\n",
       "    <tr>\n",
       "      <th>1</th>\n",
       "      <td>2009-04-07</td>\n",
       "      <td>0.161132</td>\n",
       "      <td>17311</td>\n",
       "    </tr>\n",
       "    <tr>\n",
       "      <th>2</th>\n",
       "      <td>2009-04-17</td>\n",
       "      <td>0.196931</td>\n",
       "      <td>3084</td>\n",
       "    </tr>\n",
       "    <tr>\n",
       "      <th>3</th>\n",
       "      <td>2009-04-18</td>\n",
       "      <td>0.179495</td>\n",
       "      <td>21754</td>\n",
       "    </tr>\n",
       "    <tr>\n",
       "      <th>4</th>\n",
       "      <td>2009-04-19</td>\n",
       "      <td>0.183351</td>\n",
       "      <td>27469</td>\n",
       "    </tr>\n",
       "    <tr>\n",
       "      <th>5</th>\n",
       "      <td>2009-04-20</td>\n",
       "      <td>0.171796</td>\n",
       "      <td>18460</td>\n",
       "    </tr>\n",
       "    <tr>\n",
       "      <th>6</th>\n",
       "      <td>2009-04-21</td>\n",
       "      <td>0.173588</td>\n",
       "      <td>8587</td>\n",
       "    </tr>\n",
       "    <tr>\n",
       "      <th>7</th>\n",
       "      <td>2009-05-01</td>\n",
       "      <td>0.175029</td>\n",
       "      <td>7716</td>\n",
       "    </tr>\n",
       "    <tr>\n",
       "      <th>8</th>\n",
       "      <td>2009-05-02</td>\n",
       "      <td>0.179402</td>\n",
       "      <td>27434</td>\n",
       "    </tr>\n",
       "    <tr>\n",
       "      <th>9</th>\n",
       "      <td>2009-05-03</td>\n",
       "      <td>0.171284</td>\n",
       "      <td>35333</td>\n",
       "    </tr>\n",
       "  </tbody>\n",
       "</table>\n",
       "</div>"
      ],
      "text/plain": [
       "        date  average_sentiment_score  total_tweets\n",
       "0 2009-04-06                 0.141272          3360\n",
       "1 2009-04-07                 0.161132         17311\n",
       "2 2009-04-17                 0.196931          3084\n",
       "3 2009-04-18                 0.179495         21754\n",
       "4 2009-04-19                 0.183351         27469\n",
       "5 2009-04-20                 0.171796         18460\n",
       "6 2009-04-21                 0.173588          8587\n",
       "7 2009-05-01                 0.175029          7716\n",
       "8 2009-05-02                 0.179402         27434\n",
       "9 2009-05-03                 0.171284         35333"
      ]
     },
     "execution_count": 151,
     "metadata": {},
     "output_type": "execute_result"
    }
   ],
   "source": [
    "forecast_df.head(10)"
   ]
  },
  {
   "cell_type": "markdown",
   "id": "729dfcc7",
   "metadata": {
    "scrolled": true
   },
   "source": [
    "### 5.1 Comparison of Different Interpolation Techniques used for missing dates in Dataset "
   ]
  },
  {
   "cell_type": "code",
   "execution_count": 152,
   "id": "6d081856",
   "metadata": {
    "scrolled": false
   },
   "outputs": [
    {
     "data": {
      "image/png": "[encoded data removed]",
      "text/plain": [
       "<Figure size 1080x720 with 1 Axes>"
      ]
     },
     "metadata": {
      "needs_background": "light"
     },
     "output_type": "display_data"
    }
   ],
   "source": [
    "# Ensure 'date' is a datetime type and set as index\n",
    "forecast_df['date'] = pd.to_datetime(forecast_df['date'])\n",
    "forecast_df.set_index('date', inplace=True)\n",
    "\n",
    "# Define different interpolation methods to try\n",
    "interpolation_methods = {\n",
    "    'linear': {},\n",
    "    'quadratic': {},\n",
    "    'cubic': {},\n",
    "    'spline': {'order': 3},\n",
    "    'barycentric': {},\n",
    "    'polynomial': {'order': 3}\n",
    "}\n",
    "\n",
    "# Plot the actual values\n",
    "plt.figure(figsize=(15, 10))\n",
    "plt.plot(forecast_df.index, forecast_df['average_sentiment_score'], label='Actual Values', marker='o')\n",
    "\n",
    "# Try each method and plot the interpolated series\n",
    "for method, params in interpolation_methods.items():\n",
    "    try:\n",
    "        interpolated = forecast_df.asfreq('D').interpolate(method=method, **params)\n",
    "        plt.plot(interpolated.index, interpolated['average_sentiment_score'], label=f'Interpolated ({method})')\n",
    "    except ValueError as e:\n",
    "        print(f\"An error occurred with method '{method}': {e}\")\n",
    "\n",
    "# Additional plot settings\n",
    "plt.legend()\n",
    "plt.title('Comparison of Interpolation Methods')\n",
    "plt.xlabel('Date')\n",
    "plt.ylabel('Average Sentiment Score')\n",
    "plt.xticks(rotation=45)\n",
    "plt.show()\n",
    "\n"
   ]
  },
  {
   "cell_type": "markdown",
   "id": "4615563c",
   "metadata": {},
   "source": [
    "## Step 6 : Time-series Forecasting for 1 week, 1 month and 3 Months Using Holt-Winters, ARIMA, SARIMA, VARMAX models"
   ]
  },
  {
   "cell_type": "markdown",
   "id": "d5e7c919",
   "metadata": {},
   "source": [
    "### 6.1 Holt-Winters Model with trend & Seasonal added with different Interpolation methods for Forecasting "
   ]
  },
  {
   "cell_type": "code",
   "execution_count": 191,
   "id": "9b04d815",
   "metadata": {
    "scrolled": false
   },
   "outputs": [
    {
     "data": {
      "image/png": "[encoded data removed]",
      "text/plain": [
       "<Figure size 1008x504 with 1 Axes>"
      ]
     },
     "metadata": {
      "needs_background": "light"
     },
     "output_type": "display_data"
    },
    {
     "name": "stdout",
     "output_type": "stream",
     "text": [
      " linear, 3 Months Forecast - MAE: 0.20210328294063049, RMSE: 0.21395996722250946\n"
     ]
    },
    {
     "data": {
      "image/png": "[encoded data removed]",
      "text/plain": [
       "<Figure size 1008x504 with 1 Axes>"
      ]
     },
     "metadata": {
      "needs_background": "light"
     },
     "output_type": "display_data"
    },
    {
     "name": "stdout",
     "output_type": "stream",
     "text": [
      " quadratic, 3 Months Forecast - MAE: 0.24902611379689407, RMSE: 0.2571094654831384\n"
     ]
    },
    {
     "data": {
      "image/png": "[encoded data removed]",
      "text/plain": [
       "<Figure size 1008x504 with 1 Axes>"
      ]
     },
     "metadata": {
      "needs_background": "light"
     },
     "output_type": "display_data"
    },
    {
     "name": "stdout",
     "output_type": "stream",
     "text": [
      " cubic, 3 Months Forecast - MAE: 0.24691563154056181, RMSE: 0.2551807686404816\n"
     ]
    },
    {
     "data": {
      "image/png": "[encoded data removed]",
      "text/plain": [
       "<Figure size 1008x504 with 1 Axes>"
      ]
     },
     "metadata": {
      "needs_background": "light"
     },
     "output_type": "display_data"
    },
    {
     "name": "stdout",
     "output_type": "stream",
     "text": [
      " spline, 3 Months Forecast - MAE: 0.23804579436020917, RMSE: 0.24620888190465437\n",
      "Skipping barycentric due to NaN values after interpolation.\n"
     ]
    },
    {
     "data": {
      "image/png": "[encoded data removed]",
      "text/plain": [
       "<Figure size 1008x504 with 1 Axes>"
      ]
     },
     "metadata": {
      "needs_background": "light"
     },
     "output_type": "display_data"
    },
    {
     "name": "stdout",
     "output_type": "stream",
     "text": [
      " polynomial, 3 Months Forecast - MAE: 0.24691563154056181, RMSE: 0.2551807686404816\n"
     ]
    }
   ],
   "source": [
    "# Define different interpolation methods to try\n",
    "interpolation_methods = {\n",
    "    'linear': {},\n",
    "    'quadratic': {},\n",
    "    'cubic': {},\n",
    "    'spline': {'order': 3},\n",
    "    'barycentric': {},\n",
    "    'polynomial': {'order': 3}\n",
    "}\n",
    "\n",
    "# Iterate over each interpolation method\n",
    "\n",
    "for method_name, method_params in interpolation_methods.items():\n",
    "    # Create a copy of the dataframe for manipulation\n",
    "    interpolated_df = forecast_df.asfreq('D').interpolate(method=method_name, **method_params)\n",
    "\n",
    "    # Check if the dataframe is empty\n",
    "    if interpolated_df.empty or interpolated_df['average_sentiment_score'].isna().any():\n",
    "        print(f\"Skipping {method_name} due to NaN values after interpolation.\")\n",
    "        continue\n",
    "\n",
    "    # Apply Holt-Winters model with weekly seasonality\n",
    "    model = ExponentialSmoothing(\n",
    "        interpolated_df['average_sentiment_score'],\n",
    "        trend='add',\n",
    "        seasonal='add',\n",
    "        seasonal_periods=7,\n",
    "        damped_trend=True\n",
    "    )\n",
    "    results = model.fit()\n",
    "\n",
    "  \n",
    "    # Define the number of steps for 1 week, 1 month, and 3 months\n",
    "    forecast_steps_week = 7\n",
    "    forecast_steps_month = 30\n",
    "    forecast_steps_3month = 90\n",
    "\n",
    "    # Generate forecast for each time period\n",
    "    forecast_week = results.forecast(steps=forecast_steps_week)\n",
    "    forecast_month = results.forecast(steps=forecast_steps_month + forecast_steps_week)\n",
    "    forecast_3month = results.forecast(steps=forecast_steps_3month + forecast_steps_month + forecast_steps_week)\n",
    "\n",
    "    # Generate index for the forecasts starting from the last date in interpolated data\n",
    "    last_date = interpolated_df.index[-1]\n",
    "    forecast_index_week = pd.date_range(start=last_date, periods=forecast_steps_week + 1, closed='right')\n",
    "    forecast_index_month = pd.date_range(start=last_date + pd.Timedelta(days=forecast_steps_week), periods=forecast_steps_month + 1, closed='right')\n",
    "    forecast_index_3month = pd.date_range(start=last_date + pd.Timedelta(days=forecast_steps_week + forecast_steps_month), periods=forecast_steps_3month + 1, closed='right')\n",
    "    \n",
    "    observed_values_3month = interpolated_df['average_sentiment_score']  # Replace with your actual test data for 3 months\n",
    "\n",
    "    # Align the forecasted values with the observed values\n",
    "    # Make sure the indices match with the observed data\n",
    "    forecast_3month_aligned = forecast_3month[:len(observed_values_3month)]\n",
    "\n",
    "    # Calculate MAE and RMSE for each forecast period\n",
    "    mae_3month = mean_absolute_error(observed_values_3month, forecast_3month_aligned)\n",
    "    rmse_3month = np.sqrt(mean_squared_error(observed_values_3month, forecast_3month_aligned))\n",
    "    \n",
    "    # Plotting\n",
    "    plt.figure(figsize=(14, 7))\n",
    "\n",
    "    # Plot actual values\n",
    "    plt.plot(forecast_df.index, forecast_df['average_sentiment_score'], label='Actual Values', color='blue')\n",
    "\n",
    "    # Plot interpolated values\n",
    "    plt.plot(interpolated_df.index, interpolated_df['average_sentiment_score'], label=f'Interpolated Values ({method_name})', linestyle='--')\n",
    "\n",
    "    # Plot forecasted values for each period\n",
    "    plt.plot(forecast_index_week, forecast_week, label=f'1 Week Forecast ({method_name})', color='orange')\n",
    "    plt.plot(forecast_index_month, forecast_month[forecast_steps_week:], label=f'1 Month Forecast ({method_name})', color='red')\n",
    "    plt.plot(forecast_index_3month, forecast_3month[forecast_steps_week + forecast_steps_month:], label=f'3 Months Forecast ({method_name})', color='purple')\n",
    "\n",
    "    # Additional plot settings\n",
    "    plt.legend()\n",
    "    plt.title(f'Average Sentiment Score Forecasting with Holt-Winters Model ({method_name})')\n",
    "    plt.xlabel('Date')\n",
    "    plt.ylabel('Average Sentiment Score')\n",
    "    plt.xticks(rotation=45)\n",
    "    plt.tight_layout()  # Adjust the plot to ensure everything fits without overlapping\n",
    "    plt.show()\n",
    "    \n",
    "        # Print the MAE and RMSE\n",
    "    print(f\" {method_name}, 3 Months Forecast - MAE: {mae_3month}, RMSE: {rmse_3month}\")\n"
   ]
  },
  {
   "cell_type": "markdown",
   "id": "b81b5b19",
   "metadata": {},
   "source": [
    "### 6.2 SARIMAX model with Hyper parameter tuning for p,d,q triplets with weekly seasonality"
   ]
  },
  {
   "cell_type": "code",
   "execution_count": 165,
   "id": "6e69ad3b",
   "metadata": {
    "scrolled": false
   },
   "outputs": [
    {
     "name": "stdout",
     "output_type": "stream",
     "text": [
      "Best SARIMAX model: ARIMA(1, 0, 1) x (0, 0, 0, 7) with AIC -374.88763232218145\n"
     ]
    },
    {
     "data": {
      "image/png": "[encoded data removed]",
      "text/plain": [
       "<Figure size 1008x504 with 1 Axes>"
      ]
     },
     "metadata": {
      "needs_background": "light"
     },
     "output_type": "display_data"
    }
   ],
   "source": [
    "# Interpolate using polynomial method\n",
    "interpolated_df = forecast_df.asfreq('D').interpolate(method='polynomial', order=3)\n",
    "\n",
    "# Define the p, d, and q parameters to take any value between 0 and 2\n",
    "p = d = q = range(0, 3)\n",
    "\n",
    "# Generate all different combinations of seasonal p, d, q triplets\n",
    "pdq = list(itertools.product(p, d, q))\n",
    "\n",
    "# Seasonal order: Assuming potential weekly seasonality, we use 7 periods\n",
    "seasonal_pdq = [(x[0], x[1], x[2], 7) for x in pdq]\n",
    "\n",
    "best_aic = np.inf\n",
    "best_pdq = None\n",
    "best_seasonal_pdq = None\n",
    "best_model = None\n",
    "\n",
    "# Grid search for the optimal SARIMAX parameters\n",
    "for param in pdq:\n",
    "    for param_seasonal in seasonal_pdq:\n",
    "        try:\n",
    "            mod = SARIMAX(interpolated_df['average_sentiment_score'],\n",
    "                          order=param,\n",
    "                          seasonal_order=param_seasonal,\n",
    "                          enforce_stationarity=False,\n",
    "                          enforce_invertibility=False)\n",
    "\n",
    "            results = mod.fit()\n",
    "\n",
    "            # Compare this model's AIC to the best so far\n",
    "            if results.aic < best_aic:\n",
    "                best_aic = results.aic\n",
    "                best_pdq = param\n",
    "                best_seasonal_pdq = param_seasonal\n",
    "                best_model = results\n",
    "        except:\n",
    "            continue\n",
    "\n",
    "print(f\"Best SARIMAX model: ARIMA{best_pdq} x {best_seasonal_pdq} with AIC {best_aic}\")\n",
    "\n",
    "# Forecast the future values using the best model\n",
    "forecast_steps = 90  # for 3 months\n",
    "forecast = best_model.get_forecast(steps=forecast_steps)\n",
    "forecast_index = pd.date_range(start=interpolated_df.index[-1], periods=forecast_steps+1, closed='right')\n",
    "forecast_values = forecast.predicted_mean\n",
    "\n",
    "# Plot the results\n",
    "plt.figure(figsize=(14, 7))\n",
    "plt.plot(interpolated_df.index, interpolated_df['average_sentiment_score'], label='Interpolated (Polynomial)', color='blue')\n",
    "plt.plot(forecast_index, forecast_values, label='Forecast', color='red')\n",
    "plt.legend()\n",
    "plt.title('SARIMAX Time Series Forecast')\n",
    "plt.xlabel('Date')\n",
    "plt.ylabel('Average Sentiment Score')\n",
    "plt.xticks(rotation=45)\n",
    "plt.show()\n",
    "\n",
    "\n"
   ]
  },
  {
   "cell_type": "code",
   "execution_count": 175,
   "id": "0bb1c29f",
   "metadata": {},
   "outputs": [
    {
     "name": "stdout",
     "output_type": "stream",
     "text": [
      "Best SARIMAX model: ARIMA(1, 0, 1) x (0, 0, 0, 7) with AIC -374.88763232218145\n",
      "MAE: 0.1853945150723741\n",
      "RMSE: 0.1950673170312133\n"
     ]
    }
   ],
   "source": [
    "# Assuming you have the actual observed values for the forecast period in a separate DataFrame\n",
    "observed_values = interpolated_df['average_sentiment_score']  # Replace test_df with your actual test data\n",
    "\n",
    "# Ensure the forecast_values and observed_values have the same length\n",
    "forecast_values_aligned = forecast_values[:len(observed_values)]\n",
    "\n",
    "# Calculate MAE and RMSE using the observed and forecasted values\n",
    "mae = mean_absolute_error(observed_values, forecast_values_aligned)\n",
    "rmse = np.sqrt(mean_squared_error(observed_values, forecast_values_aligned))\n",
    "\n",
    "# Print out the AIC, MAE, and RMSE\n",
    "print(f\"Best SARIMAX model: ARIMA{best_pdq} x {best_seasonal_pdq} with AIC {best_model.aic}\")\n",
    "print(f\"MAE: {mae}\")\n",
    "print(f\"RMSE: {rmse}\")\n",
    "\n"
   ]
  },
  {
   "cell_type": "markdown",
   "id": "7445059e",
   "metadata": {},
   "source": [
    "### 6.3 ARIMA Model with best parameters received from SARIMAX p,q,d (1,0,1) and Polynomial interpolation used"
   ]
  },
  {
   "cell_type": "code",
   "execution_count": 176,
   "id": "9bd5d265",
   "metadata": {
    "scrolled": false
   },
   "outputs": [
    {
     "data": {
      "image/png": "[encoded data removed]",
      "text/plain": [
       "<Figure size 1008x504 with 1 Axes>"
      ]
     },
     "metadata": {
      "needs_background": "light"
     },
     "output_type": "display_data"
    }
   ],
   "source": [
    "\n",
    "# Fill forward any NaN values (this assumes NaNs are where data is missing)\n",
    "# interpolated_daily_sentiment = forecast_df.asfreq('D', method='pad')\n",
    "interpolated_df = forecast_df.asfreq('D').interpolate(method='polynomial', order=3)\n",
    "\n",
    "# Fit the ARIMA model on the interpolated data\n",
    "# Replace (p, d, q) with your chosen order for the ARIMA model\n",
    "p, d, q = 1, 0, 1\n",
    "model = ARIMA(interpolated_df['average_sentiment_score'], order=(p, d, q))\n",
    "results = model.fit()\n",
    "\n",
    "# Define the number of steps for 1 week, 1 month, and 3 months\n",
    "forecast_steps_week = 7\n",
    "forecast_steps_month = 30\n",
    "forecast_steps_3month = 90\n",
    "\n",
    "# Generate forecast for each time period\n",
    "forecast_week = results.get_forecast(steps=forecast_steps_week).predicted_mean\n",
    "forecast_month = results.get_forecast(steps=forecast_steps_month).predicted_mean\n",
    "forecast_3month = results.get_forecast(steps=forecast_steps_3month).predicted_mean\n",
    "\n",
    "# Generate index for the forecasts starting from the last date in interpolated data\n",
    "last_date = interpolated_df.index[-1]\n",
    "forecast_index_week = pd.date_range(start=last_date, periods=forecast_steps_week + 1, closed='right')\n",
    "forecast_index_month = pd.date_range(start=last_date, periods=forecast_steps_month + 1, closed='right')[forecast_steps_week:]\n",
    "forecast_index_3month = pd.date_range(start=last_date, periods=forecast_steps_3month + 1, closed='right')[forecast_steps_month:]\n",
    "\n",
    "# Plotting\n",
    "plt.figure(figsize=(14, 7))\n",
    "\n",
    "# Plot actual values\n",
    "plt.plot(forecast_df.index, forecast_df['average_sentiment_score'], label='Actual Values', color='blue')\n",
    "\n",
    "# Identify and plot interpolated values only where actual values are missing\n",
    "interpolated_dates = interpolated_df.index.difference(forecast_df.index)\n",
    "plt.plot(interpolated_dates, interpolated_df['average_sentiment_score'][interpolated_dates], label='Interpolated Values', color='green', linestyle='--')\n",
    "\n",
    "# Plot forecasted values\n",
    "plt.plot(forecast_index_week, forecast_week, label='1 Week Forecast', color='orange')\n",
    "plt.plot(forecast_index_month, forecast_month[forecast_steps_week:], label='1 Month Forecast', color='red')\n",
    "plt.plot(forecast_index_3month, forecast_3month[forecast_steps_month:], label='3 Months Forecast', color='purple')\n",
    "\n",
    "# Additional plot settings\n",
    "plt.legend()\n",
    "plt.title('Average Sentiment Score Forecasting with ARIMA')\n",
    "plt.xlabel('Date')\n",
    "plt.ylabel('Average Sentiment Score')\n",
    "plt.xticks(rotation=45)\n",
    "plt.tight_layout()  # Adjust the plot to ensure everything fits without overlapping\n",
    "plt.show()\n"
   ]
  },
  {
   "cell_type": "code",
   "execution_count": 179,
   "id": "5799865f",
   "metadata": {},
   "outputs": [
    {
     "name": "stdout",
     "output_type": "stream",
     "text": [
      "ARIMA 3 Months Forecast - MAE: 0.10460228729180285, RMSE: 0.11898135382156717\n"
     ]
    }
   ],
   "source": [
    "\n",
    "observed_values_3month = interpolated_df['average_sentiment_score']  # Replace with your actual test data for 3 months\n",
    "\n",
    "# Align the forecasted values with the observed values\n",
    "# Make sure the indices match with the observed data\n",
    "forecast_3month_aligned = forecast_3month[:len(observed_values_3month)]\n",
    "\n",
    "# Calculate MAE and RMSE for each forecast period\n",
    "mae_3month = mean_absolute_error(observed_values_3month, forecast_3month_aligned)\n",
    "rmse_3month = np.sqrt(mean_squared_error(observed_values_3month, forecast_3month_aligned))\n",
    "\n",
    "# Print the MAE and RMSE\n",
    "print(f\"ARIMA 3 Months Forecast - MAE: {mae_3month}, RMSE: {rmse_3month}\")\n"
   ]
  },
  {
   "cell_type": "markdown",
   "id": "89b66b4b",
   "metadata": {},
   "source": [
    "\n",
    "### 6.4 Using VARMAX forecasting technique using both variables Average_sentiment_score & total_tweets per day"
   ]
  },
  {
   "cell_type": "code",
   "execution_count": 184,
   "id": "627f55c2",
   "metadata": {
    "scrolled": false
   },
   "outputs": [
    {
     "name": "stdout",
     "output_type": "stream",
     "text": [
      "Error with VARMAX(2, 1, 1): Schur decomposition solver error.\n",
      "Error with VARMAX(2, 1, 2): Schur decomposition solver error.\n",
      "Error with VARMAX(2, 2, 1): Schur decomposition solver error.\n",
      "Error with VARMAX(2, 2, 2): Schur decomposition solver error.\n",
      "Best VARMAX model: VARMAX(2, 1, 1) with AIC 144.29264921206683\n"
     ]
    },
    {
     "data": {
      "image/png": "[encoded data removed]",
      "text/plain": [
       "<Figure size 1008x504 with 1 Axes>"
      ]
     },
     "metadata": {
      "needs_background": "light"
     },
     "output_type": "display_data"
    }
   ],
   "source": [
    "forecast_df[['average_sentiment_score', 'total_tweets']] = forecast_df[['average_sentiment_score', 'total_tweets']].asfreq('D').interpolate(method='polynomial', order=3)\n",
    "\n",
    "# Time Series Cross-Validation\n",
    "tscv = TimeSeriesSplit(n_splits=5)\n",
    "\n",
    "# Define the p, d, and q parameters to take any value between 0 and 2\n",
    "p = d = q = range(1, 3)\n",
    "\n",
    "# Generate all different combinations of p, d, q triplets\n",
    "pdq = list(itertools.product(p, d, q))\n",
    "\n",
    "# VARMAX Hyperparameter tuning using Time Series Cross-Validation\n",
    "best_aic_varmax = np.inf\n",
    "best_pdq_varmax = None\n",
    "best_model_varmax = None\n",
    "best_fold = None\n",
    "\n",
    "for train_index, test_index in tscv.split(forecast_df):\n",
    "    train_df = forecast_df.iloc[train_index]\n",
    "    test_df = forecast_df.iloc[test_index]\n",
    "    \n",
    "    for param in pdq:\n",
    "        try:\n",
    "            mod = VARMAX(train_df[['average_sentiment_score', 'total_tweets']], order=param)\n",
    "            results = mod.fit()\n",
    "            if results.aic < best_aic_varmax:\n",
    "                best_aic_varmax = results.aic\n",
    "                best_pdq_varmax = param\n",
    "                best_model_varmax = results\n",
    "                best_fold = (train_index, test_index)\n",
    "        except Exception as e:\n",
    "            print(f'Error with VARMAX{param}: {e}')\n",
    "\n",
    "            \n",
    "if best_model_varmax is not None:\n",
    "    print(f\"Best VARMAX model: VARMAX{best_pdq_varmax} with AIC {best_aic_varmax}\")\n",
    "    \n",
    "    # Re-fit the VARMAX model on the entire dataset with the best parameters\n",
    "    final_model = VARMAX(forecast_df[['average_sentiment_score', 'total_tweets']], order=best_pdq_varmax)\n",
    "    final_results = final_model.fit()\n",
    "    \n",
    "    # Forecast the next 90 days\n",
    "    forecast_steps = 90\n",
    "    forecast_varmax = final_results.get_forecast(steps=forecast_steps)\n",
    "    forecast_values_varmax = forecast_varmax.predicted_mean\n",
    "\n",
    "    # Generate date index for the forecast\n",
    "    last_date = forecast_df.index[-1]\n",
    "    forecast_index = pd.date_range(start=last_date, periods=forecast_steps + 1, closed='right')\n",
    "\n",
    "    # Plot the results\n",
    "    plt.figure(figsize=(14, 7))\n",
    "\n",
    "    # Plot historical values\n",
    "    plt.plot(forecast_df.index, forecast_df['average_sentiment_score'], label='Historical', color='blue')\n",
    "\n",
    "    # Plot forecasted values\n",
    "    plt.plot(forecast_index, forecast_values_varmax['average_sentiment_score'], label='VARMAX Forecast', color='green')\n",
    "\n",
    "    plt.legend()\n",
    "    plt.title('VARMAX Time Series Forecast for the Next 90 Days')\n",
    "    plt.xlabel('Date')\n",
    "    plt.ylabel('Average Sentiment Score')\n",
    "    plt.xticks(rotation=45)\n",
    "    plt.tight_layout()\n",
    "    plt.show()\n",
    "else:\n",
    "    print(\"No suitable VARMAX model was found.\")   \n"
   ]
  },
  {
   "cell_type": "code",
   "execution_count": 188,
   "id": "c159cf4d",
   "metadata": {},
   "outputs": [
    {
     "name": "stdout",
     "output_type": "stream",
     "text": [
      "Best VARMAX model: VARMAX(2, 1, 1) with AIC 144.29264921206683\n",
      "VARMAX - MAE: 0.12091997111980583, RMSE: 0.12988218138896934\n"
     ]
    }
   ],
   "source": [
    "# Select the test dataset for the period you have forecasted\n",
    "observed_values_var = interpolated_df['average_sentiment_score']\n",
    "\n",
    "# Ensure the forecast_values and observed_values have the same length\n",
    "forecast_values_var = forecast_values_varmax['average_sentiment_score'][:len(observed_values_var)]\n",
    "\n",
    "# Calculate the forecast errors\n",
    "mae_varmax = mean_absolute_error(observed_values_var, forecast_values_var)\n",
    "mse_varmax = mean_squared_error(observed_values_var, forecast_values_var)\n",
    "rmse_varmax = sqrt(mse_varmax)\n",
    "print(f\"Best VARMAX model: VARMAX{best_pdq_varmax} with AIC {best_aic_varmax}\")\n",
    "# Print the MAE and RMSE\n",
    "print(f\"VARMAX - MAE: {mae_varmax}, RMSE: {rmse_varmax}\")\n"
   ]
  },
  {
   "cell_type": "markdown",
   "id": "36fbaa8e",
   "metadata": {},
   "source": [
    "## Step 7: Conclusions captured in report"
   ]
  },
  {
   "cell_type": "markdown",
   "id": "036eb517",
   "metadata": {},
   "source": [
    "### The End of Code"
   ]
  }
 ],
 "metadata": {
  "kernelspec": {
   "display_name": "Python 3 (ipykernel)",
   "language": "python",
   "name": "python3"
  },
  "language_info": {
   "codemirror_mode": {
    "name": "ipython",
    "version": 3
   },
   "file_extension": ".py",
   "mimetype": "text/x-python",
   "name": "python",
   "nbconvert_exporter": "python",
   "pygments_lexer": "ipython3",
   "version": "3.9.7"
  }
 },
 "nbformat": 4,
 "nbformat_minor": 5
}
